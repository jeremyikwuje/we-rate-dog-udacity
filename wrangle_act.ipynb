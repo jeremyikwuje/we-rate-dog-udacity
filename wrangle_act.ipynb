{
 "cells": [
  {
   "cell_type": "markdown",
   "metadata": {
    "cell_id": "9f239f49de7c403da0c66a4e33ec1887",
    "deepnote_cell_type": "markdown",
    "extensions": {
     "jupyter_dashboards": {
      "version": 1,
      "views": {
       "grid_default": {
        "col": 0,
        "height": 4,
        "hidden": false,
        "row": 0,
        "width": 4
       },
       "report_default": {
        "hidden": false
       }
      }
     }
    }
   },
   "source": [
    "# Project: Wrangling and Analyze Data"
   ]
  },
  {
   "cell_type": "code",
   "execution_count": 1,
   "metadata": {
    "cell_id": "982ba88d0a8e424f8a7224e5ab233890",
    "deepnote_cell_type": "code",
    "deepnote_to_be_reexecuted": false,
    "execution_millis": 4091281,
    "execution_start": 1663254794908,
    "source_hash": "3c938dd4",
    "tags": []
   },
   "outputs": [],
   "source": [
    "import pandas as pd\n",
    "import numpy as np\n",
    "import requests\n",
    "import tweepy\n",
    "import json"
   ]
  },
  {
   "cell_type": "markdown",
   "metadata": {
    "cell_id": "5053ac54e9944575849455b2755f23c0",
    "deepnote_cell_type": "markdown"
   },
   "source": [
    "## Data Gathering\n",
    "In the cell below, gather **all** three pieces of data for this project and load them in the notebook. **Note:** the methods required to gather each data are different.\n",
    "1. Directly download the WeRateDogs Twitter archive data (twitter_archive_enhanced.csv)"
   ]
  },
  {
   "cell_type": "code",
   "execution_count": null,
   "metadata": {
    "cell_id": "85106809ee8c4f7db37fa30deaa308c4",
    "deepnote_cell_type": "code",
    "deepnote_to_be_reexecuted": false,
    "execution_millis": 1,
    "execution_start": 1663254794908,
    "extensions": {
     "jupyter_dashboards": {
      "version": 1,
      "views": {
       "grid_default": {
        "hidden": true
       },
       "report_default": {
        "hidden": true
       }
      }
     }
    },
    "source_hash": "f873411f"
   },
   "outputs": [],
   "source": [
    "df_enhanced = pd.read_csv('twitter-archive-enhanced.csv')"
   ]
  },
  {
   "cell_type": "markdown",
   "metadata": {
    "cell_id": "ed7ac869e9a54da9804d220b128b206e",
    "deepnote_cell_type": "markdown"
   },
   "source": [
    "2. Use the Requests library to download the tweet image prediction (image_predictions.tsv)"
   ]
  },
  {
   "cell_type": "code",
   "execution_count": null,
   "metadata": {
    "cell_id": "94bc91724e20467aa1678055945085cd",
    "deepnote_cell_type": "code",
    "deepnote_to_be_reexecuted": false,
    "execution_millis": 46,
    "execution_start": 1663254794955,
    "is_code_hidden": true,
    "source_hash": "75a6f30e"
   },
   "outputs": [
    {
     "data": {
      "text/plain": [
       "335079"
      ]
     },
     "execution_count": 3,
     "metadata": {},
     "output_type": "execute_result"
    }
   ],
   "source": [
    "r = requests.get('https://d17h27t6h515a5.cloudfront.net/topher/2017/August/599fd2ad_image-predictions/image-predictions.tsv', allow_redirects=True)\n",
    "open('image_predictions.tsv', 'wb').write(r.content)"
   ]
  },
  {
   "cell_type": "code",
   "execution_count": null,
   "metadata": {
    "cell_id": "f3ba10f0bc204b33b193e29a535eb062",
    "deepnote_cell_type": "code",
    "deepnote_to_be_reexecuted": false,
    "execution_millis": 0,
    "execution_start": 1663254795000,
    "source_hash": "1898a9e0",
    "tags": []
   },
   "outputs": [],
   "source": [
    "df_predictions = pd.read_csv('image_predictions.tsv', sep='\\t')"
   ]
  },
  {
   "cell_type": "markdown",
   "metadata": {
    "cell_id": "a504885e4d8446a6a72c8b8eb35651ac",
    "deepnote_cell_type": "markdown"
   },
   "source": [
    "3. Use the Tweepy library to query additional data via the Twitter API (tweet_json.txt)"
   ]
  },
  {
   "cell_type": "code",
   "execution_count": 2,
   "metadata": {
    "cell_id": "9490be11552745e388847148dfafc76f",
    "deepnote_cell_type": "code",
    "deepnote_to_be_reexecuted": false,
    "execution_millis": 706,
    "execution_start": 1663247007104,
    "source_hash": "1944de5a"
   },
   "outputs": [],
   "source": [
    "bearer_token = ''\n",
    "consumer_key = ''\n",
    "consumer_secret = ''\n",
    "access_token = ''\n",
    "access_token_secret = ''\n",
    "\n",
    "auth = tweepy.OAuth1UserHandler(consumer_key, consumer_secret, access_token, access_token_secret)\n",
    "api = tweepy.API(auth, wait_on_rate_limit=True)"
   ]
  },
  {
   "cell_type": "code",
   "execution_count": null,
   "metadata": {
    "cell_id": "ebebe2610e844824a514a83f5bc71ef6",
    "deepnote_cell_type": "code",
    "deepnote_to_be_reexecuted": true,
    "source_hash": "b093dadf",
    "tags": []
   },
   "outputs": [],
   "source": [
    "# Query the Twitter API and get information for each tweet ID\n",
    "new_line = ''\n",
    "tweet_errors = {}\n",
    "count = 0\n",
    "\n",
    "\"\"\"iterate over each tweet ID and get JSON data for each tweet ID\n",
    "then save then append each tweet JSON data into the new_line variable\"\"\"\n",
    "for tweet_id in df_tweets.tweet_id:\n",
    "    try:\n",
    "        count = count + 1\n",
    "        # get tweet status by ID\n",
    "        tweet = api.get_status(tweet_id, tweet_mode='extended')\n",
    "\n",
    "        # append tweet status JSON into new_line\n",
    "        new_line = new_line + \"{}\\n\".format(json.dumps(tweet._json))\n",
    "    except (tweepy.errors.NotFound, tweepy.errors.Forbidden) as e:\n",
    "        # some tweet may have been deleted or access restricted \n",
    "        tweet_errors[tweet_id] = e\n",
    "        continue\n",
    "\n",
    "# write the new_line value into a file tweet_json.txt\n",
    "save_to_file(content=new_line, filename='tweet_json.txt')\n",
    "print(count, 'tweets data saved')\n",
    "print(tweet_errors)"
   ]
  },
  {
   "cell_type": "code",
   "execution_count": null,
   "metadata": {
    "cell_id": "8e69a066e4814702b6edb913ec71a046",
    "deepnote_cell_type": "code",
    "deepnote_to_be_reexecuted": false,
    "execution_millis": 47,
    "execution_start": 1663254795000,
    "source_hash": "37aea835",
    "tags": []
   },
   "outputs": [],
   "source": [
    "def save_to_file(content, filename, mode='w'):\n",
    "    #write content into a file\n",
    "    with open(filename, mode) as a_file:\n",
    "        a_file.write(content)"
   ]
  },
  {
   "cell_type": "code",
   "execution_count": null,
   "metadata": {
    "cell_id": "8db2f08bf159457eb86f1dec5d455f4b",
    "deepnote_cell_type": "code",
    "deepnote_to_be_reexecuted": false,
    "execution_millis": 577,
    "execution_start": 1663254795047,
    "source_hash": "46b746fa"
   },
   "outputs": [],
   "source": [
    "df_tweet_json = pd.read_json('tweet_json.txt', lines=True)\n",
    "df_tweet_count = df_tweet_json[['id', 'retweet_count', 'favorite_count', 'created_at']]"
   ]
  },
  {
   "cell_type": "markdown",
   "metadata": {
    "cell_id": "bc032558c152416aa06b5d7c9a60e95b",
    "deepnote_cell_type": "markdown",
    "extensions": {
     "jupyter_dashboards": {
      "version": 1,
      "views": {
       "grid_default": {
        "col": 4,
        "height": 4,
        "hidden": false,
        "row": 28,
        "width": 4
       },
       "report_default": {
        "hidden": false
       }
      }
     }
    }
   },
   "source": [
    "## Assessing Data\n",
    "In this section, detect and document at least **eight (8) quality issues and two (2) tidiness issue**. You must use **both** visual assessment\n",
    "programmatic assessement to assess the data.\n",
    "\n",
    "**Note:** pay attention to the following key points when you access the data.\n",
    "\n",
    "* You only want original ratings (no retweets) that have images. Though there are 5000+ tweets in the dataset, not all are dog ratings and some are retweets.\n",
    "* Assessing and cleaning the entire dataset completely would require a lot of time, and is not necessary to practice and demonstrate your skills in data wrangling. Therefore, the requirements of this project are only to assess and clean at least 8 quality issues and at least 2 tidiness issues in this dataset.\n",
    "* The fact that the rating numerators are greater than the denominators does not need to be cleaned. This [unique rating system](http://knowyourmeme.com/memes/theyre-good-dogs-brent) is a big part of the popularity of WeRateDogs.\n",
    "* You do not need to gather the tweets beyond August 1st, 2017. You can, but note that you won't be able to gather the image predictions for these tweets since you don't have access to the algorithm used.\n",
    "\n"
   ]
  },
  {
   "cell_type": "markdown",
   "metadata": {
    "cell_id": "5e207c2db85e4a468f99ec1230dae536",
    "deepnote_cell_type": "markdown",
    "tags": []
   },
   "source": [
    "### Visual assessment"
   ]
  },
  {
   "cell_type": "markdown",
   "metadata": {
    "cell_id": "5b546005e50645a9b52edbd6d58f9e5c",
    "deepnote_cell_type": "markdown",
    "deepnote_to_be_reexecuted": false,
    "execution_millis": 1706,
    "execution_start": 1663097407167,
    "source_hash": "3b12379c",
    "tags": []
   },
   "source": [
    "##### Twitter Enhanced Dataset"
   ]
  },
  {
   "cell_type": "code",
   "execution_count": null,
   "metadata": {
    "cell_id": "8b9ebdee4abd4c2b8da5734d70f21f29",
    "deepnote_cell_type": "code",
    "deepnote_to_be_reexecuted": false,
    "execution_millis": 33,
    "execution_start": 1663254795653,
    "source_hash": "4c620952",
    "tags": []
   },
   "outputs": [
    {
     "data": {
      "application/vnd.deepnote.dataframe.v3+json": {
       "column_count": 17,
       "columns": [
        {
         "dtype": "int64",
         "name": "tweet_id",
         "stats": {
          "histogram": [
           {
            "bin_end": 891436867389553000,
            "bin_start": 891327558926688300,
            "count": 1
           },
           {
            "bin_end": 891546175852417800,
            "bin_start": 891436867389553000,
            "count": 0
           },
           {
            "bin_end": 891655484315282700,
            "bin_start": 891546175852417800,
            "count": 0
           },
           {
            "bin_end": 891764792778147500,
            "bin_start": 891655484315282700,
            "count": 1
           },
           {
            "bin_end": 891874101241012200,
            "bin_start": 891764792778147500,
            "count": 1
           },
           {
            "bin_end": 891983409703877000,
            "bin_start": 891874101241012200,
            "count": 0
           },
           {
            "bin_end": 892092718166741800,
            "bin_start": 891983409703877000,
            "count": 0
           },
           {
            "bin_end": 892202026629606700,
            "bin_start": 892092718166741800,
            "count": 1
           },
           {
            "bin_end": 892311335092471400,
            "bin_start": 892202026629606700,
            "count": 0
           },
           {
            "bin_end": 892420643555336200,
            "bin_start": 892311335092471400,
            "count": 1
           }
          ],
          "max": "892420643555336193",
          "min": "891327558926688256",
          "nan_count": 0,
          "unique_count": 5
         }
        },
        {
         "dtype": "float64",
         "name": "in_reply_to_status_id",
         "stats": {
          "histogram": [
           {
            "bin_end": 0.1,
            "bin_start": 0,
            "count": 0
           },
           {
            "bin_end": 0.2,
            "bin_start": 0.1,
            "count": 0
           },
           {
            "bin_end": 0.30000000000000004,
            "bin_start": 0.2,
            "count": 0
           },
           {
            "bin_end": 0.4,
            "bin_start": 0.30000000000000004,
            "count": 0
           },
           {
            "bin_end": 0.5,
            "bin_start": 0.4,
            "count": 0
           },
           {
            "bin_end": 0.6000000000000001,
            "bin_start": 0.5,
            "count": 0
           },
           {
            "bin_end": 0.7000000000000001,
            "bin_start": 0.6000000000000001,
            "count": 0
           },
           {
            "bin_end": 0.8,
            "bin_start": 0.7000000000000001,
            "count": 0
           },
           {
            "bin_end": 0.9,
            "bin_start": 0.8,
            "count": 0
           },
           {
            "bin_end": 1,
            "bin_start": 0.9,
            "count": 0
           }
          ],
          "max": null,
          "min": null,
          "nan_count": 5,
          "unique_count": 0
         }
        },
        {
         "dtype": "float64",
         "name": "in_reply_to_user_id",
         "stats": {
          "histogram": [
           {
            "bin_end": 0.1,
            "bin_start": 0,
            "count": 0
           },
           {
            "bin_end": 0.2,
            "bin_start": 0.1,
            "count": 0
           },
           {
            "bin_end": 0.30000000000000004,
            "bin_start": 0.2,
            "count": 0
           },
           {
            "bin_end": 0.4,
            "bin_start": 0.30000000000000004,
            "count": 0
           },
           {
            "bin_end": 0.5,
            "bin_start": 0.4,
            "count": 0
           },
           {
            "bin_end": 0.6000000000000001,
            "bin_start": 0.5,
            "count": 0
           },
           {
            "bin_end": 0.7000000000000001,
            "bin_start": 0.6000000000000001,
            "count": 0
           },
           {
            "bin_end": 0.8,
            "bin_start": 0.7000000000000001,
            "count": 0
           },
           {
            "bin_end": 0.9,
            "bin_start": 0.8,
            "count": 0
           },
           {
            "bin_end": 1,
            "bin_start": 0.9,
            "count": 0
           }
          ],
          "max": null,
          "min": null,
          "nan_count": 5,
          "unique_count": 0
         }
        },
        {
         "dtype": "object",
         "name": "timestamp",
         "stats": {
          "categories": [
           {
            "count": 1,
            "name": "2017-08-01 16:23:56 +0000"
           },
           {
            "count": 1,
            "name": "2017-08-01 00:17:27 +0000"
           },
           {
            "count": 3,
            "name": "3 others"
           }
          ],
          "nan_count": 0,
          "unique_count": 5
         }
        },
        {
         "dtype": "object",
         "name": "source",
         "stats": {
          "categories": [
           {
            "count": 5,
            "name": "<a href=\"http://twitter.com/download/iphone\" rel=\"nofollow\">Twitter for iPhone</a>"
           }
          ],
          "nan_count": 0,
          "unique_count": 1
         }
        },
        {
         "dtype": "object",
         "name": "text",
         "stats": {
          "categories": [
           {
            "count": 1,
            "name": "This is Phineas. He's a mystical boy. Only ever appears in the hole of a donut. 13/10 https://t.co/MgUWQ76dJU"
           },
           {
            "count": 1,
            "name": "This is Tilly. She's just checking pup on you. Hopes you're doing ok. If not, she's available for pats, snugs, boops, the whole bit. 13/10 https://t.co/0Xxu71qeIV"
           },
           {
            "count": 3,
            "name": "3 others"
           }
          ],
          "nan_count": 0,
          "unique_count": 5
         }
        },
        {
         "dtype": "float64",
         "name": "retweeted_status_id",
         "stats": {
          "histogram": [
           {
            "bin_end": 0.1,
            "bin_start": 0,
            "count": 0
           },
           {
            "bin_end": 0.2,
            "bin_start": 0.1,
            "count": 0
           },
           {
            "bin_end": 0.30000000000000004,
            "bin_start": 0.2,
            "count": 0
           },
           {
            "bin_end": 0.4,
            "bin_start": 0.30000000000000004,
            "count": 0
           },
           {
            "bin_end": 0.5,
            "bin_start": 0.4,
            "count": 0
           },
           {
            "bin_end": 0.6000000000000001,
            "bin_start": 0.5,
            "count": 0
           },
           {
            "bin_end": 0.7000000000000001,
            "bin_start": 0.6000000000000001,
            "count": 0
           },
           {
            "bin_end": 0.8,
            "bin_start": 0.7000000000000001,
            "count": 0
           },
           {
            "bin_end": 0.9,
            "bin_start": 0.8,
            "count": 0
           },
           {
            "bin_end": 1,
            "bin_start": 0.9,
            "count": 0
           }
          ],
          "max": null,
          "min": null,
          "nan_count": 5,
          "unique_count": 0
         }
        },
        {
         "dtype": "float64",
         "name": "retweeted_status_user_id",
         "stats": {
          "histogram": [
           {
            "bin_end": 0.1,
            "bin_start": 0,
            "count": 0
           },
           {
            "bin_end": 0.2,
            "bin_start": 0.1,
            "count": 0
           },
           {
            "bin_end": 0.30000000000000004,
            "bin_start": 0.2,
            "count": 0
           },
           {
            "bin_end": 0.4,
            "bin_start": 0.30000000000000004,
            "count": 0
           },
           {
            "bin_end": 0.5,
            "bin_start": 0.4,
            "count": 0
           },
           {
            "bin_end": 0.6000000000000001,
            "bin_start": 0.5,
            "count": 0
           },
           {
            "bin_end": 0.7000000000000001,
            "bin_start": 0.6000000000000001,
            "count": 0
           },
           {
            "bin_end": 0.8,
            "bin_start": 0.7000000000000001,
            "count": 0
           },
           {
            "bin_end": 0.9,
            "bin_start": 0.8,
            "count": 0
           },
           {
            "bin_end": 1,
            "bin_start": 0.9,
            "count": 0
           }
          ],
          "max": null,
          "min": null,
          "nan_count": 5,
          "unique_count": 0
         }
        },
        {
         "dtype": "object",
         "name": "retweeted_status_timestamp",
         "stats": {
          "categories": [
           {
            "count": 5,
            "name": "Missing"
           }
          ],
          "nan_count": 5,
          "unique_count": 0
         }
        },
        {
         "dtype": "object",
         "name": "expanded_urls",
         "stats": {
          "categories": [
           {
            "count": 1,
            "name": "https://twitter.com/dog_rates/status/892420643555336193/photo/1"
           },
           {
            "count": 1,
            "name": "https://twitter.com/dog_rates/status/892177421306343426/photo/1"
           },
           {
            "count": 3,
            "name": "3 others"
           }
          ],
          "nan_count": 0,
          "unique_count": 5
         }
        },
        {
         "dtype": "int64",
         "name": "rating_numerator",
         "stats": {
          "histogram": [
           {
            "bin_end": 12.1,
            "bin_start": 12,
            "count": 2
           },
           {
            "bin_end": 12.2,
            "bin_start": 12.1,
            "count": 0
           },
           {
            "bin_end": 12.3,
            "bin_start": 12.2,
            "count": 0
           },
           {
            "bin_end": 12.4,
            "bin_start": 12.3,
            "count": 0
           },
           {
            "bin_end": 12.5,
            "bin_start": 12.4,
            "count": 0
           },
           {
            "bin_end": 12.6,
            "bin_start": 12.5,
            "count": 0
           },
           {
            "bin_end": 12.7,
            "bin_start": 12.6,
            "count": 0
           },
           {
            "bin_end": 12.8,
            "bin_start": 12.7,
            "count": 0
           },
           {
            "bin_end": 12.9,
            "bin_start": 12.8,
            "count": 0
           },
           {
            "bin_end": 13,
            "bin_start": 12.9,
            "count": 3
           }
          ],
          "max": "13",
          "min": "12",
          "nan_count": 0,
          "unique_count": 2
         }
        },
        {
         "dtype": "int64",
         "name": "rating_denominator",
         "stats": {
          "histogram": [
           {
            "bin_end": 9.6,
            "bin_start": 9.5,
            "count": 0
           },
           {
            "bin_end": 9.7,
            "bin_start": 9.6,
            "count": 0
           },
           {
            "bin_end": 9.8,
            "bin_start": 9.7,
            "count": 0
           },
           {
            "bin_end": 9.9,
            "bin_start": 9.8,
            "count": 0
           },
           {
            "bin_end": 10,
            "bin_start": 9.9,
            "count": 0
           },
           {
            "bin_end": 10.1,
            "bin_start": 10,
            "count": 5
           },
           {
            "bin_end": 10.2,
            "bin_start": 10.1,
            "count": 0
           },
           {
            "bin_end": 10.3,
            "bin_start": 10.2,
            "count": 0
           },
           {
            "bin_end": 10.4,
            "bin_start": 10.3,
            "count": 0
           },
           {
            "bin_end": 10.5,
            "bin_start": 10.4,
            "count": 0
           }
          ],
          "max": "10",
          "min": "10",
          "nan_count": 0,
          "unique_count": 1
         }
        },
        {
         "dtype": "object",
         "name": "name",
         "stats": {
          "categories": [
           {
            "count": 1,
            "name": "Phineas"
           },
           {
            "count": 1,
            "name": "Tilly"
           },
           {
            "count": 3,
            "name": "3 others"
           }
          ],
          "nan_count": 0,
          "unique_count": 5
         }
        },
        {
         "dtype": "object",
         "name": "doggo",
         "stats": {
          "categories": [
           {
            "count": 5,
            "name": "None"
           }
          ],
          "nan_count": 0,
          "unique_count": 1
         }
        },
        {
         "dtype": "object",
         "name": "floofer",
         "stats": {
          "categories": [
           {
            "count": 5,
            "name": "None"
           }
          ],
          "nan_count": 0,
          "unique_count": 1
         }
        },
        {
         "dtype": "object",
         "name": "pupper",
         "stats": {
          "categories": [
           {
            "count": 5,
            "name": "None"
           }
          ],
          "nan_count": 0,
          "unique_count": 1
         }
        },
        {
         "dtype": "object",
         "name": "puppo",
         "stats": {
          "categories": [
           {
            "count": 5,
            "name": "None"
           }
          ],
          "nan_count": 0,
          "unique_count": 1
         }
        },
        {
         "dtype": "int64",
         "name": "_deepnote_index_column"
        }
       ],
       "row_count": 5,
       "rows": [
        {
         "_deepnote_index_column": "0",
         "doggo": "None",
         "expanded_urls": "https://twitter.com/dog_rates/status/892420643555336193/photo/1",
         "floofer": "None",
         "in_reply_to_status_id": "nan",
         "in_reply_to_user_id": "nan",
         "name": "Phineas",
         "pupper": "None",
         "puppo": "None",
         "rating_denominator": "10",
         "rating_numerator": "13",
         "retweeted_status_id": "nan",
         "retweeted_status_timestamp": "nan",
         "retweeted_status_user_id": "nan",
         "source": "<a href=\"http://twitter.com/download/iphone\" rel=\"nofollow\">Twitter for iPhone</a>",
         "text": "This is Phineas. He's a mystical boy. Only ever appears in the hole of a donut. 13/10 https://t.co/MgUWQ76dJU",
         "timestamp": "2017-08-01 16:23:56 +0000",
         "tweet_id": "892420643555336193"
        },
        {
         "_deepnote_index_column": "1",
         "doggo": "None",
         "expanded_urls": "https://twitter.com/dog_rates/status/892177421306343426/photo/1",
         "floofer": "None",
         "in_reply_to_status_id": "nan",
         "in_reply_to_user_id": "nan",
         "name": "Tilly",
         "pupper": "None",
         "puppo": "None",
         "rating_denominator": "10",
         "rating_numerator": "13",
         "retweeted_status_id": "nan",
         "retweeted_status_timestamp": "nan",
         "retweeted_status_user_id": "nan",
         "source": "<a href=\"http://twitter.com/download/iphone\" rel=\"nofollow\">Twitter for iPhone</a>",
         "text": "This is Tilly. She's just checking pup on you. Hopes you're doing ok. If not, she's available for pats, snugs, boops, the whole bit. 13/10 https://t.co/0Xxu71qeIV",
         "timestamp": "2017-08-01 00:17:27 +0000",
         "tweet_id": "892177421306343426"
        },
        {
         "_deepnote_index_column": "2",
         "doggo": "None",
         "expanded_urls": "https://twitter.com/dog_rates/status/891815181378084864/photo/1",
         "floofer": "None",
         "in_reply_to_status_id": "nan",
         "in_reply_to_user_id": "nan",
         "name": "Archie",
         "pupper": "None",
         "puppo": "None",
         "rating_denominator": "10",
         "rating_numerator": "12",
         "retweeted_status_id": "nan",
         "retweeted_status_timestamp": "nan",
         "retweeted_status_user_id": "nan",
         "source": "<a href=\"http://twitter.com/download/iphone\" rel=\"nofollow\">Twitter for iPhone</a>",
         "text": "This is Archie. He is a rare Norwegian Pouncing Corgo. Lives in the tall grass. You never know when one may strike. 12/10 https://t.co/wUnZnhtVJB",
         "timestamp": "2017-07-31 00:18:03 +0000",
         "tweet_id": "891815181378084864"
        },
        {
         "_deepnote_index_column": "3",
         "doggo": "None",
         "expanded_urls": "https://twitter.com/dog_rates/status/891689557279858688/photo/1",
         "floofer": "None",
         "in_reply_to_status_id": "nan",
         "in_reply_to_user_id": "nan",
         "name": "Darla",
         "pupper": "None",
         "puppo": "None",
         "rating_denominator": "10",
         "rating_numerator": "13",
         "retweeted_status_id": "nan",
         "retweeted_status_timestamp": "nan",
         "retweeted_status_user_id": "nan",
         "source": "<a href=\"http://twitter.com/download/iphone\" rel=\"nofollow\">Twitter for iPhone</a>",
         "text": "This is Darla. She commenced a snooze mid meal. 13/10 happens to the best of us https://t.co/tD36da7qLQ",
         "timestamp": "2017-07-30 15:58:51 +0000",
         "tweet_id": "891689557279858688"
        },
        {
         "_deepnote_index_column": "4",
         "doggo": "None",
         "expanded_urls": "https://twitter.com/dog_rates/status/891327558926688256/photo/1,https://twitter.com/dog_rates/status/891327558926688256/photo/1",
         "floofer": "None",
         "in_reply_to_status_id": "nan",
         "in_reply_to_user_id": "nan",
         "name": "Franklin",
         "pupper": "None",
         "puppo": "None",
         "rating_denominator": "10",
         "rating_numerator": "12",
         "retweeted_status_id": "nan",
         "retweeted_status_timestamp": "nan",
         "retweeted_status_user_id": "nan",
         "source": "<a href=\"http://twitter.com/download/iphone\" rel=\"nofollow\">Twitter for iPhone</a>",
         "text": "This is Franklin. He would like you to stop calling him \"cute.\" He is a very fierce shark and should be respected as such. 12/10 #BarkWeek https://t.co/AtUZn91f7f",
         "timestamp": "2017-07-29 16:00:24 +0000",
         "tweet_id": "891327558926688256"
        }
       ]
      },
      "text/html": [
       "<div>\n",
       "<style scoped>\n",
       "    .dataframe tbody tr th:only-of-type {\n",
       "        vertical-align: middle;\n",
       "    }\n",
       "\n",
       "    .dataframe tbody tr th {\n",
       "        vertical-align: top;\n",
       "    }\n",
       "\n",
       "    .dataframe thead th {\n",
       "        text-align: right;\n",
       "    }\n",
       "</style>\n",
       "<table border=\"1\" class=\"dataframe\">\n",
       "  <thead>\n",
       "    <tr style=\"text-align: right;\">\n",
       "      <th></th>\n",
       "      <th>tweet_id</th>\n",
       "      <th>in_reply_to_status_id</th>\n",
       "      <th>in_reply_to_user_id</th>\n",
       "      <th>timestamp</th>\n",
       "      <th>source</th>\n",
       "      <th>text</th>\n",
       "      <th>retweeted_status_id</th>\n",
       "      <th>retweeted_status_user_id</th>\n",
       "      <th>retweeted_status_timestamp</th>\n",
       "      <th>expanded_urls</th>\n",
       "      <th>rating_numerator</th>\n",
       "      <th>rating_denominator</th>\n",
       "      <th>name</th>\n",
       "      <th>doggo</th>\n",
       "      <th>floofer</th>\n",
       "      <th>pupper</th>\n",
       "      <th>puppo</th>\n",
       "    </tr>\n",
       "  </thead>\n",
       "  <tbody>\n",
       "    <tr>\n",
       "      <th>0</th>\n",
       "      <td>892420643555336193</td>\n",
       "      <td>NaN</td>\n",
       "      <td>NaN</td>\n",
       "      <td>2017-08-01 16:23:56 +0000</td>\n",
       "      <td>&lt;a href=\"http://twitter.com/download/iphone\" r...</td>\n",
       "      <td>This is Phineas. He's a mystical boy. Only eve...</td>\n",
       "      <td>NaN</td>\n",
       "      <td>NaN</td>\n",
       "      <td>NaN</td>\n",
       "      <td>https://twitter.com/dog_rates/status/892420643...</td>\n",
       "      <td>13</td>\n",
       "      <td>10</td>\n",
       "      <td>Phineas</td>\n",
       "      <td>None</td>\n",
       "      <td>None</td>\n",
       "      <td>None</td>\n",
       "      <td>None</td>\n",
       "    </tr>\n",
       "    <tr>\n",
       "      <th>1</th>\n",
       "      <td>892177421306343426</td>\n",
       "      <td>NaN</td>\n",
       "      <td>NaN</td>\n",
       "      <td>2017-08-01 00:17:27 +0000</td>\n",
       "      <td>&lt;a href=\"http://twitter.com/download/iphone\" r...</td>\n",
       "      <td>This is Tilly. She's just checking pup on you....</td>\n",
       "      <td>NaN</td>\n",
       "      <td>NaN</td>\n",
       "      <td>NaN</td>\n",
       "      <td>https://twitter.com/dog_rates/status/892177421...</td>\n",
       "      <td>13</td>\n",
       "      <td>10</td>\n",
       "      <td>Tilly</td>\n",
       "      <td>None</td>\n",
       "      <td>None</td>\n",
       "      <td>None</td>\n",
       "      <td>None</td>\n",
       "    </tr>\n",
       "    <tr>\n",
       "      <th>2</th>\n",
       "      <td>891815181378084864</td>\n",
       "      <td>NaN</td>\n",
       "      <td>NaN</td>\n",
       "      <td>2017-07-31 00:18:03 +0000</td>\n",
       "      <td>&lt;a href=\"http://twitter.com/download/iphone\" r...</td>\n",
       "      <td>This is Archie. He is a rare Norwegian Pouncin...</td>\n",
       "      <td>NaN</td>\n",
       "      <td>NaN</td>\n",
       "      <td>NaN</td>\n",
       "      <td>https://twitter.com/dog_rates/status/891815181...</td>\n",
       "      <td>12</td>\n",
       "      <td>10</td>\n",
       "      <td>Archie</td>\n",
       "      <td>None</td>\n",
       "      <td>None</td>\n",
       "      <td>None</td>\n",
       "      <td>None</td>\n",
       "    </tr>\n",
       "    <tr>\n",
       "      <th>3</th>\n",
       "      <td>891689557279858688</td>\n",
       "      <td>NaN</td>\n",
       "      <td>NaN</td>\n",
       "      <td>2017-07-30 15:58:51 +0000</td>\n",
       "      <td>&lt;a href=\"http://twitter.com/download/iphone\" r...</td>\n",
       "      <td>This is Darla. She commenced a snooze mid meal...</td>\n",
       "      <td>NaN</td>\n",
       "      <td>NaN</td>\n",
       "      <td>NaN</td>\n",
       "      <td>https://twitter.com/dog_rates/status/891689557...</td>\n",
       "      <td>13</td>\n",
       "      <td>10</td>\n",
       "      <td>Darla</td>\n",
       "      <td>None</td>\n",
       "      <td>None</td>\n",
       "      <td>None</td>\n",
       "      <td>None</td>\n",
       "    </tr>\n",
       "    <tr>\n",
       "      <th>4</th>\n",
       "      <td>891327558926688256</td>\n",
       "      <td>NaN</td>\n",
       "      <td>NaN</td>\n",
       "      <td>2017-07-29 16:00:24 +0000</td>\n",
       "      <td>&lt;a href=\"http://twitter.com/download/iphone\" r...</td>\n",
       "      <td>This is Franklin. He would like you to stop ca...</td>\n",
       "      <td>NaN</td>\n",
       "      <td>NaN</td>\n",
       "      <td>NaN</td>\n",
       "      <td>https://twitter.com/dog_rates/status/891327558...</td>\n",
       "      <td>12</td>\n",
       "      <td>10</td>\n",
       "      <td>Franklin</td>\n",
       "      <td>None</td>\n",
       "      <td>None</td>\n",
       "      <td>None</td>\n",
       "      <td>None</td>\n",
       "    </tr>\n",
       "  </tbody>\n",
       "</table>\n",
       "</div>"
      ],
      "text/plain": [
       "             tweet_id  in_reply_to_status_id  in_reply_to_user_id  \\\n",
       "0  892420643555336193                    NaN                  NaN   \n",
       "1  892177421306343426                    NaN                  NaN   \n",
       "2  891815181378084864                    NaN                  NaN   \n",
       "3  891689557279858688                    NaN                  NaN   \n",
       "4  891327558926688256                    NaN                  NaN   \n",
       "\n",
       "                   timestamp  \\\n",
       "0  2017-08-01 16:23:56 +0000   \n",
       "1  2017-08-01 00:17:27 +0000   \n",
       "2  2017-07-31 00:18:03 +0000   \n",
       "3  2017-07-30 15:58:51 +0000   \n",
       "4  2017-07-29 16:00:24 +0000   \n",
       "\n",
       "                                              source  \\\n",
       "0  <a href=\"http://twitter.com/download/iphone\" r...   \n",
       "1  <a href=\"http://twitter.com/download/iphone\" r...   \n",
       "2  <a href=\"http://twitter.com/download/iphone\" r...   \n",
       "3  <a href=\"http://twitter.com/download/iphone\" r...   \n",
       "4  <a href=\"http://twitter.com/download/iphone\" r...   \n",
       "\n",
       "                                                text  retweeted_status_id  \\\n",
       "0  This is Phineas. He's a mystical boy. Only eve...                  NaN   \n",
       "1  This is Tilly. She's just checking pup on you....                  NaN   \n",
       "2  This is Archie. He is a rare Norwegian Pouncin...                  NaN   \n",
       "3  This is Darla. She commenced a snooze mid meal...                  NaN   \n",
       "4  This is Franklin. He would like you to stop ca...                  NaN   \n",
       "\n",
       "   retweeted_status_user_id retweeted_status_timestamp  \\\n",
       "0                       NaN                        NaN   \n",
       "1                       NaN                        NaN   \n",
       "2                       NaN                        NaN   \n",
       "3                       NaN                        NaN   \n",
       "4                       NaN                        NaN   \n",
       "\n",
       "                                       expanded_urls  rating_numerator  \\\n",
       "0  https://twitter.com/dog_rates/status/892420643...                13   \n",
       "1  https://twitter.com/dog_rates/status/892177421...                13   \n",
       "2  https://twitter.com/dog_rates/status/891815181...                12   \n",
       "3  https://twitter.com/dog_rates/status/891689557...                13   \n",
       "4  https://twitter.com/dog_rates/status/891327558...                12   \n",
       "\n",
       "   rating_denominator      name doggo floofer pupper puppo  \n",
       "0                  10   Phineas  None    None   None  None  \n",
       "1                  10     Tilly  None    None   None  None  \n",
       "2                  10    Archie  None    None   None  None  \n",
       "3                  10     Darla  None    None   None  None  \n",
       "4                  10  Franklin  None    None   None  None  "
      ]
     },
     "execution_count": 7,
     "metadata": {},
     "output_type": "execute_result"
    }
   ],
   "source": [
    "df_enhanced.head()"
   ]
  },
  {
   "cell_type": "markdown",
   "metadata": {
    "cell_id": "2fe25c0cf025486c8c3573e8d7288790",
    "deepnote_cell_type": "markdown",
    "deepnote_to_be_reexecuted": false,
    "execution_millis": 2,
    "execution_start": 1663098599615,
    "source_hash": "48f7aa54",
    "tags": []
   },
   "source": [
    "**Observation**:\n",
    "\n",
    "1. The above columns `doggo`, `floofer`,`pupper` and `puppo` are supposed to be values for dog stages rather as column names, so it is best we put them in a single column rather than as column names.\n",
    "\n",
    "2. The `rating_numerator` contains values greater than the denominator; while this was mentioned in the project details about WeRateDog wierd ratings, we may perform further programatic assessment to check for extreme cases e.g 0 / 10, or even 100/10."
   ]
  },
  {
   "cell_type": "code",
   "execution_count": null,
   "metadata": {
    "cell_id": "7571ea4684fc4bf3ad811e17181323eb",
    "deepnote_cell_type": "code",
    "deepnote_to_be_reexecuted": false,
    "execution_millis": 43,
    "execution_start": 1663254795689,
    "source_hash": "aa47ee99",
    "tags": []
   },
   "outputs": [
    {
     "data": {
      "application/vnd.deepnote.dataframe.v3+json": {
       "column_count": 17,
       "columns": [
        {
         "dtype": "int64",
         "name": "tweet_id",
         "stats": {
          "histogram": [
           {
            "bin_end": 666023724037093400,
            "bin_start": 666020888022790100,
            "count": 1
           },
           {
            "bin_end": 666026560051396600,
            "bin_start": 666023724037093400,
            "count": 0
           },
           {
            "bin_end": 666029396065699800,
            "bin_start": 666026560051396600,
            "count": 1
           },
           {
            "bin_end": 666032232080003100,
            "bin_start": 666029396065699800,
            "count": 0
           },
           {
            "bin_end": 666035068094306300,
            "bin_start": 666032232080003100,
            "count": 1
           },
           {
            "bin_end": 666037904108609500,
            "bin_start": 666035068094306300,
            "count": 0
           },
           {
            "bin_end": 666040740122912800,
            "bin_start": 666037904108609500,
            "count": 0
           },
           {
            "bin_end": 666043576137216000,
            "bin_start": 666040740122912800,
            "count": 0
           },
           {
            "bin_end": 666046412151519200,
            "bin_start": 666043576137216000,
            "count": 1
           },
           {
            "bin_end": 666049248165822500,
            "bin_start": 666046412151519200,
            "count": 1
           }
          ],
          "max": "666049248165822465",
          "min": "666020888022790149",
          "nan_count": 0,
          "unique_count": 5
         }
        },
        {
         "dtype": "float64",
         "name": "in_reply_to_status_id",
         "stats": {
          "histogram": [
           {
            "bin_end": 0.1,
            "bin_start": 0,
            "count": 0
           },
           {
            "bin_end": 0.2,
            "bin_start": 0.1,
            "count": 0
           },
           {
            "bin_end": 0.30000000000000004,
            "bin_start": 0.2,
            "count": 0
           },
           {
            "bin_end": 0.4,
            "bin_start": 0.30000000000000004,
            "count": 0
           },
           {
            "bin_end": 0.5,
            "bin_start": 0.4,
            "count": 0
           },
           {
            "bin_end": 0.6000000000000001,
            "bin_start": 0.5,
            "count": 0
           },
           {
            "bin_end": 0.7000000000000001,
            "bin_start": 0.6000000000000001,
            "count": 0
           },
           {
            "bin_end": 0.8,
            "bin_start": 0.7000000000000001,
            "count": 0
           },
           {
            "bin_end": 0.9,
            "bin_start": 0.8,
            "count": 0
           },
           {
            "bin_end": 1,
            "bin_start": 0.9,
            "count": 0
           }
          ],
          "max": null,
          "min": null,
          "nan_count": 5,
          "unique_count": 0
         }
        },
        {
         "dtype": "float64",
         "name": "in_reply_to_user_id",
         "stats": {
          "histogram": [
           {
            "bin_end": 0.1,
            "bin_start": 0,
            "count": 0
           },
           {
            "bin_end": 0.2,
            "bin_start": 0.1,
            "count": 0
           },
           {
            "bin_end": 0.30000000000000004,
            "bin_start": 0.2,
            "count": 0
           },
           {
            "bin_end": 0.4,
            "bin_start": 0.30000000000000004,
            "count": 0
           },
           {
            "bin_end": 0.5,
            "bin_start": 0.4,
            "count": 0
           },
           {
            "bin_end": 0.6000000000000001,
            "bin_start": 0.5,
            "count": 0
           },
           {
            "bin_end": 0.7000000000000001,
            "bin_start": 0.6000000000000001,
            "count": 0
           },
           {
            "bin_end": 0.8,
            "bin_start": 0.7000000000000001,
            "count": 0
           },
           {
            "bin_end": 0.9,
            "bin_start": 0.8,
            "count": 0
           },
           {
            "bin_end": 1,
            "bin_start": 0.9,
            "count": 0
           }
          ],
          "max": null,
          "min": null,
          "nan_count": 5,
          "unique_count": 0
         }
        },
        {
         "dtype": "object",
         "name": "timestamp",
         "stats": {
          "categories": [
           {
            "count": 1,
            "name": "2015-11-16 00:24:50 +0000"
           },
           {
            "count": 1,
            "name": "2015-11-16 00:04:52 +0000"
           },
           {
            "count": 3,
            "name": "3 others"
           }
          ],
          "nan_count": 0,
          "unique_count": 5
         }
        },
        {
         "dtype": "object",
         "name": "source",
         "stats": {
          "categories": [
           {
            "count": 5,
            "name": "<a href=\"http://twitter.com/download/iphone\" rel=\"nofollow\">Twitter for iPhone</a>"
           }
          ],
          "nan_count": 0,
          "unique_count": 1
         }
        },
        {
         "dtype": "object",
         "name": "text",
         "stats": {
          "categories": [
           {
            "count": 1,
            "name": "Here we have a 1949 1st generation vulpix. Enjoys sweat tea and Fox News. Cannot be phased. 5/10 https://t.co/4B7cOc1EDq"
           },
           {
            "count": 1,
            "name": "This is a purebred Piers Morgan. Loves to Netflix and chill. Always looks like he forgot to unplug the iron. 6/10 https://t.co/DWnyCjf2mx"
           },
           {
            "count": 3,
            "name": "3 others"
           }
          ],
          "nan_count": 0,
          "unique_count": 5
         }
        },
        {
         "dtype": "float64",
         "name": "retweeted_status_id",
         "stats": {
          "histogram": [
           {
            "bin_end": 0.1,
            "bin_start": 0,
            "count": 0
           },
           {
            "bin_end": 0.2,
            "bin_start": 0.1,
            "count": 0
           },
           {
            "bin_end": 0.30000000000000004,
            "bin_start": 0.2,
            "count": 0
           },
           {
            "bin_end": 0.4,
            "bin_start": 0.30000000000000004,
            "count": 0
           },
           {
            "bin_end": 0.5,
            "bin_start": 0.4,
            "count": 0
           },
           {
            "bin_end": 0.6000000000000001,
            "bin_start": 0.5,
            "count": 0
           },
           {
            "bin_end": 0.7000000000000001,
            "bin_start": 0.6000000000000001,
            "count": 0
           },
           {
            "bin_end": 0.8,
            "bin_start": 0.7000000000000001,
            "count": 0
           },
           {
            "bin_end": 0.9,
            "bin_start": 0.8,
            "count": 0
           },
           {
            "bin_end": 1,
            "bin_start": 0.9,
            "count": 0
           }
          ],
          "max": null,
          "min": null,
          "nan_count": 5,
          "unique_count": 0
         }
        },
        {
         "dtype": "float64",
         "name": "retweeted_status_user_id",
         "stats": {
          "histogram": [
           {
            "bin_end": 0.1,
            "bin_start": 0,
            "count": 0
           },
           {
            "bin_end": 0.2,
            "bin_start": 0.1,
            "count": 0
           },
           {
            "bin_end": 0.30000000000000004,
            "bin_start": 0.2,
            "count": 0
           },
           {
            "bin_end": 0.4,
            "bin_start": 0.30000000000000004,
            "count": 0
           },
           {
            "bin_end": 0.5,
            "bin_start": 0.4,
            "count": 0
           },
           {
            "bin_end": 0.6000000000000001,
            "bin_start": 0.5,
            "count": 0
           },
           {
            "bin_end": 0.7000000000000001,
            "bin_start": 0.6000000000000001,
            "count": 0
           },
           {
            "bin_end": 0.8,
            "bin_start": 0.7000000000000001,
            "count": 0
           },
           {
            "bin_end": 0.9,
            "bin_start": 0.8,
            "count": 0
           },
           {
            "bin_end": 1,
            "bin_start": 0.9,
            "count": 0
           }
          ],
          "max": null,
          "min": null,
          "nan_count": 5,
          "unique_count": 0
         }
        },
        {
         "dtype": "object",
         "name": "retweeted_status_timestamp",
         "stats": {
          "categories": [
           {
            "count": 5,
            "name": "Missing"
           }
          ],
          "nan_count": 5,
          "unique_count": 0
         }
        },
        {
         "dtype": "object",
         "name": "expanded_urls",
         "stats": {
          "categories": [
           {
            "count": 1,
            "name": "https://twitter.com/dog_rates/status/666049248165822465/photo/1"
           },
           {
            "count": 1,
            "name": "https://twitter.com/dog_rates/status/666044226329800704/photo/1"
           },
           {
            "count": 3,
            "name": "3 others"
           }
          ],
          "nan_count": 0,
          "unique_count": 5
         }
        },
        {
         "dtype": "int64",
         "name": "rating_numerator",
         "stats": {
          "histogram": [
           {
            "bin_end": 5.4,
            "bin_start": 5,
            "count": 1
           },
           {
            "bin_end": 5.8,
            "bin_start": 5.4,
            "count": 0
           },
           {
            "bin_end": 6.2,
            "bin_start": 5.8,
            "count": 1
           },
           {
            "bin_end": 6.6,
            "bin_start": 6.2,
            "count": 0
           },
           {
            "bin_end": 7,
            "bin_start": 6.6,
            "count": 0
           },
           {
            "bin_end": 7.4,
            "bin_start": 7,
            "count": 1
           },
           {
            "bin_end": 7.800000000000001,
            "bin_start": 7.4,
            "count": 0
           },
           {
            "bin_end": 8.2,
            "bin_start": 7.800000000000001,
            "count": 1
           },
           {
            "bin_end": 8.6,
            "bin_start": 8.2,
            "count": 0
           },
           {
            "bin_end": 9,
            "bin_start": 8.6,
            "count": 1
           }
          ],
          "max": "9",
          "min": "5",
          "nan_count": 0,
          "unique_count": 5
         }
        },
        {
         "dtype": "int64",
         "name": "rating_denominator",
         "stats": {
          "histogram": [
           {
            "bin_end": 9.6,
            "bin_start": 9.5,
            "count": 0
           },
           {
            "bin_end": 9.7,
            "bin_start": 9.6,
            "count": 0
           },
           {
            "bin_end": 9.8,
            "bin_start": 9.7,
            "count": 0
           },
           {
            "bin_end": 9.9,
            "bin_start": 9.8,
            "count": 0
           },
           {
            "bin_end": 10,
            "bin_start": 9.9,
            "count": 0
           },
           {
            "bin_end": 10.1,
            "bin_start": 10,
            "count": 5
           },
           {
            "bin_end": 10.2,
            "bin_start": 10.1,
            "count": 0
           },
           {
            "bin_end": 10.3,
            "bin_start": 10.2,
            "count": 0
           },
           {
            "bin_end": 10.4,
            "bin_start": 10.3,
            "count": 0
           },
           {
            "bin_end": 10.5,
            "bin_start": 10.4,
            "count": 0
           }
          ],
          "max": "10",
          "min": "10",
          "nan_count": 0,
          "unique_count": 1
         }
        },
        {
         "dtype": "object",
         "name": "name",
         "stats": {
          "categories": [
           {
            "count": 3,
            "name": "a"
           },
           {
            "count": 2,
            "name": "None"
           }
          ],
          "nan_count": 0,
          "unique_count": 2
         }
        },
        {
         "dtype": "object",
         "name": "doggo",
         "stats": {
          "categories": [
           {
            "count": 5,
            "name": "None"
           }
          ],
          "nan_count": 0,
          "unique_count": 1
         }
        },
        {
         "dtype": "object",
         "name": "floofer",
         "stats": {
          "categories": [
           {
            "count": 5,
            "name": "None"
           }
          ],
          "nan_count": 0,
          "unique_count": 1
         }
        },
        {
         "dtype": "object",
         "name": "pupper",
         "stats": {
          "categories": [
           {
            "count": 5,
            "name": "None"
           }
          ],
          "nan_count": 0,
          "unique_count": 1
         }
        },
        {
         "dtype": "object",
         "name": "puppo",
         "stats": {
          "categories": [
           {
            "count": 5,
            "name": "None"
           }
          ],
          "nan_count": 0,
          "unique_count": 1
         }
        },
        {
         "dtype": "int64",
         "name": "_deepnote_index_column"
        }
       ],
       "row_count": 5,
       "rows": [
        {
         "_deepnote_index_column": "2351",
         "doggo": "None",
         "expanded_urls": "https://twitter.com/dog_rates/status/666049248165822465/photo/1",
         "floofer": "None",
         "in_reply_to_status_id": "nan",
         "in_reply_to_user_id": "nan",
         "name": "None",
         "pupper": "None",
         "puppo": "None",
         "rating_denominator": "10",
         "rating_numerator": "5",
         "retweeted_status_id": "nan",
         "retweeted_status_timestamp": "nan",
         "retweeted_status_user_id": "nan",
         "source": "<a href=\"http://twitter.com/download/iphone\" rel=\"nofollow\">Twitter for iPhone</a>",
         "text": "Here we have a 1949 1st generation vulpix. Enjoys sweat tea and Fox News. Cannot be phased. 5/10 https://t.co/4B7cOc1EDq",
         "timestamp": "2015-11-16 00:24:50 +0000",
         "tweet_id": "666049248165822465"
        },
        {
         "_deepnote_index_column": "2352",
         "doggo": "None",
         "expanded_urls": "https://twitter.com/dog_rates/status/666044226329800704/photo/1",
         "floofer": "None",
         "in_reply_to_status_id": "nan",
         "in_reply_to_user_id": "nan",
         "name": "a",
         "pupper": "None",
         "puppo": "None",
         "rating_denominator": "10",
         "rating_numerator": "6",
         "retweeted_status_id": "nan",
         "retweeted_status_timestamp": "nan",
         "retweeted_status_user_id": "nan",
         "source": "<a href=\"http://twitter.com/download/iphone\" rel=\"nofollow\">Twitter for iPhone</a>",
         "text": "This is a purebred Piers Morgan. Loves to Netflix and chill. Always looks like he forgot to unplug the iron. 6/10 https://t.co/DWnyCjf2mx",
         "timestamp": "2015-11-16 00:04:52 +0000",
         "tweet_id": "666044226329800704"
        },
        {
         "_deepnote_index_column": "2353",
         "doggo": "None",
         "expanded_urls": "https://twitter.com/dog_rates/status/666033412701032449/photo/1",
         "floofer": "None",
         "in_reply_to_status_id": "nan",
         "in_reply_to_user_id": "nan",
         "name": "a",
         "pupper": "None",
         "puppo": "None",
         "rating_denominator": "10",
         "rating_numerator": "9",
         "retweeted_status_id": "nan",
         "retweeted_status_timestamp": "nan",
         "retweeted_status_user_id": "nan",
         "source": "<a href=\"http://twitter.com/download/iphone\" rel=\"nofollow\">Twitter for iPhone</a>",
         "text": "Here is a very happy pup. Big fan of well-maintained decks. Just look at that tongue. 9/10 would cuddle af https://t.co/y671yMhoiR",
         "timestamp": "2015-11-15 23:21:54 +0000",
         "tweet_id": "666033412701032449"
        },
        {
         "_deepnote_index_column": "2354",
         "doggo": "None",
         "expanded_urls": "https://twitter.com/dog_rates/status/666029285002620928/photo/1",
         "floofer": "None",
         "in_reply_to_status_id": "nan",
         "in_reply_to_user_id": "nan",
         "name": "a",
         "pupper": "None",
         "puppo": "None",
         "rating_denominator": "10",
         "rating_numerator": "7",
         "retweeted_status_id": "nan",
         "retweeted_status_timestamp": "nan",
         "retweeted_status_user_id": "nan",
         "source": "<a href=\"http://twitter.com/download/iphone\" rel=\"nofollow\">Twitter for iPhone</a>",
         "text": "This is a western brown Mitsubishi terrier. Upset about leaf. Actually 2 dogs here. 7/10 would walk the shit out of https://t.co/r7mOb2m0UI",
         "timestamp": "2015-11-15 23:05:30 +0000",
         "tweet_id": "666029285002620928"
        },
        {
         "_deepnote_index_column": "2355",
         "doggo": "None",
         "expanded_urls": "https://twitter.com/dog_rates/status/666020888022790149/photo/1",
         "floofer": "None",
         "in_reply_to_status_id": "nan",
         "in_reply_to_user_id": "nan",
         "name": "None",
         "pupper": "None",
         "puppo": "None",
         "rating_denominator": "10",
         "rating_numerator": "8",
         "retweeted_status_id": "nan",
         "retweeted_status_timestamp": "nan",
         "retweeted_status_user_id": "nan",
         "source": "<a href=\"http://twitter.com/download/iphone\" rel=\"nofollow\">Twitter for iPhone</a>",
         "text": "Here we have a Japanese Irish Setter. Lost eye in Vietnam (?). Big fan of relaxing on stair. 8/10 would pet https://t.co/BLDqew2Ijj",
         "timestamp": "2015-11-15 22:32:08 +0000",
         "tweet_id": "666020888022790149"
        }
       ]
      },
      "text/html": [
       "<div>\n",
       "<style scoped>\n",
       "    .dataframe tbody tr th:only-of-type {\n",
       "        vertical-align: middle;\n",
       "    }\n",
       "\n",
       "    .dataframe tbody tr th {\n",
       "        vertical-align: top;\n",
       "    }\n",
       "\n",
       "    .dataframe thead th {\n",
       "        text-align: right;\n",
       "    }\n",
       "</style>\n",
       "<table border=\"1\" class=\"dataframe\">\n",
       "  <thead>\n",
       "    <tr style=\"text-align: right;\">\n",
       "      <th></th>\n",
       "      <th>tweet_id</th>\n",
       "      <th>in_reply_to_status_id</th>\n",
       "      <th>in_reply_to_user_id</th>\n",
       "      <th>timestamp</th>\n",
       "      <th>source</th>\n",
       "      <th>text</th>\n",
       "      <th>retweeted_status_id</th>\n",
       "      <th>retweeted_status_user_id</th>\n",
       "      <th>retweeted_status_timestamp</th>\n",
       "      <th>expanded_urls</th>\n",
       "      <th>rating_numerator</th>\n",
       "      <th>rating_denominator</th>\n",
       "      <th>name</th>\n",
       "      <th>doggo</th>\n",
       "      <th>floofer</th>\n",
       "      <th>pupper</th>\n",
       "      <th>puppo</th>\n",
       "    </tr>\n",
       "  </thead>\n",
       "  <tbody>\n",
       "    <tr>\n",
       "      <th>2351</th>\n",
       "      <td>666049248165822465</td>\n",
       "      <td>NaN</td>\n",
       "      <td>NaN</td>\n",
       "      <td>2015-11-16 00:24:50 +0000</td>\n",
       "      <td>&lt;a href=\"http://twitter.com/download/iphone\" r...</td>\n",
       "      <td>Here we have a 1949 1st generation vulpix. Enj...</td>\n",
       "      <td>NaN</td>\n",
       "      <td>NaN</td>\n",
       "      <td>NaN</td>\n",
       "      <td>https://twitter.com/dog_rates/status/666049248...</td>\n",
       "      <td>5</td>\n",
       "      <td>10</td>\n",
       "      <td>None</td>\n",
       "      <td>None</td>\n",
       "      <td>None</td>\n",
       "      <td>None</td>\n",
       "      <td>None</td>\n",
       "    </tr>\n",
       "    <tr>\n",
       "      <th>2352</th>\n",
       "      <td>666044226329800704</td>\n",
       "      <td>NaN</td>\n",
       "      <td>NaN</td>\n",
       "      <td>2015-11-16 00:04:52 +0000</td>\n",
       "      <td>&lt;a href=\"http://twitter.com/download/iphone\" r...</td>\n",
       "      <td>This is a purebred Piers Morgan. Loves to Netf...</td>\n",
       "      <td>NaN</td>\n",
       "      <td>NaN</td>\n",
       "      <td>NaN</td>\n",
       "      <td>https://twitter.com/dog_rates/status/666044226...</td>\n",
       "      <td>6</td>\n",
       "      <td>10</td>\n",
       "      <td>a</td>\n",
       "      <td>None</td>\n",
       "      <td>None</td>\n",
       "      <td>None</td>\n",
       "      <td>None</td>\n",
       "    </tr>\n",
       "    <tr>\n",
       "      <th>2353</th>\n",
       "      <td>666033412701032449</td>\n",
       "      <td>NaN</td>\n",
       "      <td>NaN</td>\n",
       "      <td>2015-11-15 23:21:54 +0000</td>\n",
       "      <td>&lt;a href=\"http://twitter.com/download/iphone\" r...</td>\n",
       "      <td>Here is a very happy pup. Big fan of well-main...</td>\n",
       "      <td>NaN</td>\n",
       "      <td>NaN</td>\n",
       "      <td>NaN</td>\n",
       "      <td>https://twitter.com/dog_rates/status/666033412...</td>\n",
       "      <td>9</td>\n",
       "      <td>10</td>\n",
       "      <td>a</td>\n",
       "      <td>None</td>\n",
       "      <td>None</td>\n",
       "      <td>None</td>\n",
       "      <td>None</td>\n",
       "    </tr>\n",
       "    <tr>\n",
       "      <th>2354</th>\n",
       "      <td>666029285002620928</td>\n",
       "      <td>NaN</td>\n",
       "      <td>NaN</td>\n",
       "      <td>2015-11-15 23:05:30 +0000</td>\n",
       "      <td>&lt;a href=\"http://twitter.com/download/iphone\" r...</td>\n",
       "      <td>This is a western brown Mitsubishi terrier. Up...</td>\n",
       "      <td>NaN</td>\n",
       "      <td>NaN</td>\n",
       "      <td>NaN</td>\n",
       "      <td>https://twitter.com/dog_rates/status/666029285...</td>\n",
       "      <td>7</td>\n",
       "      <td>10</td>\n",
       "      <td>a</td>\n",
       "      <td>None</td>\n",
       "      <td>None</td>\n",
       "      <td>None</td>\n",
       "      <td>None</td>\n",
       "    </tr>\n",
       "    <tr>\n",
       "      <th>2355</th>\n",
       "      <td>666020888022790149</td>\n",
       "      <td>NaN</td>\n",
       "      <td>NaN</td>\n",
       "      <td>2015-11-15 22:32:08 +0000</td>\n",
       "      <td>&lt;a href=\"http://twitter.com/download/iphone\" r...</td>\n",
       "      <td>Here we have a Japanese Irish Setter. Lost eye...</td>\n",
       "      <td>NaN</td>\n",
       "      <td>NaN</td>\n",
       "      <td>NaN</td>\n",
       "      <td>https://twitter.com/dog_rates/status/666020888...</td>\n",
       "      <td>8</td>\n",
       "      <td>10</td>\n",
       "      <td>None</td>\n",
       "      <td>None</td>\n",
       "      <td>None</td>\n",
       "      <td>None</td>\n",
       "      <td>None</td>\n",
       "    </tr>\n",
       "  </tbody>\n",
       "</table>\n",
       "</div>"
      ],
      "text/plain": [
       "                tweet_id  in_reply_to_status_id  in_reply_to_user_id  \\\n",
       "2351  666049248165822465                    NaN                  NaN   \n",
       "2352  666044226329800704                    NaN                  NaN   \n",
       "2353  666033412701032449                    NaN                  NaN   \n",
       "2354  666029285002620928                    NaN                  NaN   \n",
       "2355  666020888022790149                    NaN                  NaN   \n",
       "\n",
       "                      timestamp  \\\n",
       "2351  2015-11-16 00:24:50 +0000   \n",
       "2352  2015-11-16 00:04:52 +0000   \n",
       "2353  2015-11-15 23:21:54 +0000   \n",
       "2354  2015-11-15 23:05:30 +0000   \n",
       "2355  2015-11-15 22:32:08 +0000   \n",
       "\n",
       "                                                 source  \\\n",
       "2351  <a href=\"http://twitter.com/download/iphone\" r...   \n",
       "2352  <a href=\"http://twitter.com/download/iphone\" r...   \n",
       "2353  <a href=\"http://twitter.com/download/iphone\" r...   \n",
       "2354  <a href=\"http://twitter.com/download/iphone\" r...   \n",
       "2355  <a href=\"http://twitter.com/download/iphone\" r...   \n",
       "\n",
       "                                                   text  retweeted_status_id  \\\n",
       "2351  Here we have a 1949 1st generation vulpix. Enj...                  NaN   \n",
       "2352  This is a purebred Piers Morgan. Loves to Netf...                  NaN   \n",
       "2353  Here is a very happy pup. Big fan of well-main...                  NaN   \n",
       "2354  This is a western brown Mitsubishi terrier. Up...                  NaN   \n",
       "2355  Here we have a Japanese Irish Setter. Lost eye...                  NaN   \n",
       "\n",
       "      retweeted_status_user_id retweeted_status_timestamp  \\\n",
       "2351                       NaN                        NaN   \n",
       "2352                       NaN                        NaN   \n",
       "2353                       NaN                        NaN   \n",
       "2354                       NaN                        NaN   \n",
       "2355                       NaN                        NaN   \n",
       "\n",
       "                                          expanded_urls  rating_numerator  \\\n",
       "2351  https://twitter.com/dog_rates/status/666049248...                 5   \n",
       "2352  https://twitter.com/dog_rates/status/666044226...                 6   \n",
       "2353  https://twitter.com/dog_rates/status/666033412...                 9   \n",
       "2354  https://twitter.com/dog_rates/status/666029285...                 7   \n",
       "2355  https://twitter.com/dog_rates/status/666020888...                 8   \n",
       "\n",
       "      rating_denominator  name doggo floofer pupper puppo  \n",
       "2351                  10  None  None    None   None  None  \n",
       "2352                  10     a  None    None   None  None  \n",
       "2353                  10     a  None    None   None  None  \n",
       "2354                  10     a  None    None   None  None  \n",
       "2355                  10  None  None    None   None  None  "
      ]
     },
     "execution_count": 8,
     "metadata": {},
     "output_type": "execute_result"
    }
   ],
   "source": [
    "df_enhanced.tail()"
   ]
  },
  {
   "cell_type": "markdown",
   "metadata": {
    "cell_id": "8077406178c6483884a27428113418af",
    "deepnote_cell_type": "markdown",
    "deepnote_to_be_reexecuted": false,
    "execution_millis": 4,
    "execution_start": 1663107254452,
    "source_hash": "9ad60bf",
    "tags": []
   },
   "source": [
    "**Observation**: \n",
    "\n",
    "1. The `name` column has some rows with value None, which may further be programatically accessed.\n",
    "2. The html codes in the `source` column are not neccesary."
   ]
  },
  {
   "cell_type": "markdown",
   "metadata": {
    "cell_id": "643af8ba70414318b9a2db512e07c15c",
    "deepnote_cell_type": "markdown",
    "deepnote_to_be_reexecuted": false,
    "execution_millis": 1,
    "execution_start": 1663109767967,
    "source_hash": "e5c67fbe",
    "tags": []
   },
   "source": [
    "##### Prediction dataset"
   ]
  },
  {
   "cell_type": "code",
   "execution_count": null,
   "metadata": {
    "cell_id": "ff76cff490944921951e4c04fe0d1ea2",
    "deepnote_cell_type": "code",
    "deepnote_to_be_reexecuted": false,
    "execution_millis": 58,
    "execution_start": 1663254795734,
    "source_hash": "4bb5a5dd",
    "tags": []
   },
   "outputs": [
    {
     "data": {
      "application/vnd.deepnote.dataframe.v3+json": {
       "column_count": 12,
       "columns": [
        {
         "dtype": "int64",
         "name": "tweet_id",
         "stats": {
          "histogram": [
           {
            "bin_end": 666023724037093400,
            "bin_start": 666020888022790100,
            "count": 1
           },
           {
            "bin_end": 666026560051396600,
            "bin_start": 666023724037093400,
            "count": 0
           },
           {
            "bin_end": 666029396065699800,
            "bin_start": 666026560051396600,
            "count": 1
           },
           {
            "bin_end": 666032232080003100,
            "bin_start": 666029396065699800,
            "count": 0
           },
           {
            "bin_end": 666035068094306300,
            "bin_start": 666032232080003100,
            "count": 1
           },
           {
            "bin_end": 666037904108609500,
            "bin_start": 666035068094306300,
            "count": 0
           },
           {
            "bin_end": 666040740122912800,
            "bin_start": 666037904108609500,
            "count": 0
           },
           {
            "bin_end": 666043576137216000,
            "bin_start": 666040740122912800,
            "count": 0
           },
           {
            "bin_end": 666046412151519200,
            "bin_start": 666043576137216000,
            "count": 1
           },
           {
            "bin_end": 666049248165822500,
            "bin_start": 666046412151519200,
            "count": 1
           }
          ],
          "max": "666049248165822465",
          "min": "666020888022790149",
          "nan_count": 0,
          "unique_count": 5
         }
        },
        {
         "dtype": "object",
         "name": "jpg_url",
         "stats": {
          "categories": [
           {
            "count": 1,
            "name": "https://pbs.twimg.com/media/CT4udn0WwAA0aMy.jpg"
           },
           {
            "count": 1,
            "name": "https://pbs.twimg.com/media/CT42GRgUYAA5iDo.jpg"
           },
           {
            "count": 3,
            "name": "3 others"
           }
          ],
          "nan_count": 0,
          "unique_count": 5
         }
        },
        {
         "dtype": "int64",
         "name": "img_num",
         "stats": {
          "histogram": [
           {
            "bin_end": 0.6,
            "bin_start": 0.5,
            "count": 0
           },
           {
            "bin_end": 0.7,
            "bin_start": 0.6,
            "count": 0
           },
           {
            "bin_end": 0.8,
            "bin_start": 0.7,
            "count": 0
           },
           {
            "bin_end": 0.9,
            "bin_start": 0.8,
            "count": 0
           },
           {
            "bin_end": 1,
            "bin_start": 0.9,
            "count": 0
           },
           {
            "bin_end": 1.1,
            "bin_start": 1,
            "count": 5
           },
           {
            "bin_end": 1.2000000000000002,
            "bin_start": 1.1,
            "count": 0
           },
           {
            "bin_end": 1.3,
            "bin_start": 1.2000000000000002,
            "count": 0
           },
           {
            "bin_end": 1.4,
            "bin_start": 1.3,
            "count": 0
           },
           {
            "bin_end": 1.5,
            "bin_start": 1.4,
            "count": 0
           }
          ],
          "max": "1",
          "min": "1",
          "nan_count": 0,
          "unique_count": 1
         }
        },
        {
         "dtype": "object",
         "name": "p1",
         "stats": {
          "categories": [
           {
            "count": 1,
            "name": "Welsh_springer_spaniel"
           },
           {
            "count": 1,
            "name": "redbone"
           },
           {
            "count": 3,
            "name": "3 others"
           }
          ],
          "nan_count": 0,
          "unique_count": 5
         }
        },
        {
         "dtype": "float64",
         "name": "p1_conf",
         "stats": {
          "histogram": [
           {
            "bin_end": 0.4269748,
            "bin_start": 0.408143,
            "count": 1
           },
           {
            "bin_end": 0.4458066,
            "bin_start": 0.4269748,
            "count": 0
           },
           {
            "bin_end": 0.4646384,
            "bin_start": 0.4458066,
            "count": 0
           },
           {
            "bin_end": 0.48347019999999996,
            "bin_start": 0.4646384,
            "count": 1
           },
           {
            "bin_end": 0.502302,
            "bin_start": 0.48347019999999996,
            "count": 0
           },
           {
            "bin_end": 0.5211338,
            "bin_start": 0.502302,
            "count": 1
           },
           {
            "bin_end": 0.5399655999999999,
            "bin_start": 0.5211338,
            "count": 0
           },
           {
            "bin_end": 0.5587974,
            "bin_start": 0.5399655999999999,
            "count": 0
           },
           {
            "bin_end": 0.5776292000000001,
            "bin_start": 0.5587974,
            "count": 1
           },
           {
            "bin_end": 0.596461,
            "bin_start": 0.5776292000000001,
            "count": 1
           }
          ],
          "max": "0.596461",
          "min": "0.408143",
          "nan_count": 0,
          "unique_count": 5
         }
        },
        {
         "dtype": "bool",
         "name": "p1_dog",
         "stats": {
          "categories": [
           {
            "count": 5,
            "name": "True"
           }
          ],
          "nan_count": 0,
          "unique_count": 1
         }
        },
        {
         "dtype": "object",
         "name": "p2",
         "stats": {
          "categories": [
           {
            "count": 1,
            "name": "collie"
           },
           {
            "count": 1,
            "name": "miniature_pinscher"
           },
           {
            "count": 3,
            "name": "3 others"
           }
          ],
          "nan_count": 0,
          "unique_count": 5
         }
        },
        {
         "dtype": "float64",
         "name": "p2_conf",
         "stats": {
          "histogram": [
           {
            "bin_end": 0.10284122999999991,
            "bin_start": 0.0741916999999999,
            "count": 1
           },
           {
            "bin_end": 0.13149075999999993,
            "bin_start": 0.10284122999999991,
            "count": 0
           },
           {
            "bin_end": 0.1601402899999999,
            "bin_start": 0.13149075999999993,
            "count": 2
           },
           {
            "bin_end": 0.18878981999999994,
            "bin_start": 0.1601402899999999,
            "count": 0
           },
           {
            "bin_end": 0.21743934999999992,
            "bin_start": 0.18878981999999994,
            "count": 0
           },
           {
            "bin_end": 0.24608887999999995,
            "bin_start": 0.21743934999999992,
            "count": 1
           },
           {
            "bin_end": 0.27473840999999993,
            "bin_start": 0.24608887999999995,
            "count": 0
           },
           {
            "bin_end": 0.30338793999999997,
            "bin_start": 0.27473840999999993,
            "count": 0
           },
           {
            "bin_end": 0.33203747,
            "bin_start": 0.30338793999999997,
            "count": 0
           },
           {
            "bin_end": 0.360687,
            "bin_start": 0.33203747,
            "count": 1
           }
          ],
          "max": "0.360687",
          "min": "0.0741916999999999",
          "nan_count": 0,
          "unique_count": 5
         }
        },
        {
         "dtype": "bool",
         "name": "p2_dog",
         "stats": {
          "categories": [
           {
            "count": 5,
            "name": "True"
           }
          ],
          "nan_count": 0,
          "unique_count": 1
         }
        },
        {
         "dtype": "object",
         "name": "p3",
         "stats": {
          "categories": [
           {
            "count": 1,
            "name": "Shetland_sheepdog"
           },
           {
            "count": 1,
            "name": "Rhodesian_ridgeback"
           },
           {
            "count": 3,
            "name": "3 others"
           }
          ],
          "nan_count": 0,
          "unique_count": 5
         }
        },
        {
         "dtype": "float64",
         "name": "p3_conf",
         "stats": {
          "histogram": [
           {
            "bin_end": 0.07756085,
            "bin_start": 0.0614285,
            "count": 2
           },
           {
            "bin_end": 0.0936932,
            "bin_start": 0.07756085,
            "count": 0
           },
           {
            "bin_end": 0.10982555,
            "bin_start": 0.0936932,
            "count": 0
           },
           {
            "bin_end": 0.1259579,
            "bin_start": 0.10982555,
            "count": 1
           },
           {
            "bin_end": 0.14209025,
            "bin_start": 0.1259579,
            "count": 0
           },
           {
            "bin_end": 0.1582226,
            "bin_start": 0.14209025,
            "count": 1
           },
           {
            "bin_end": 0.17435495,
            "bin_start": 0.1582226,
            "count": 0
           },
           {
            "bin_end": 0.1904873,
            "bin_start": 0.17435495,
            "count": 0
           },
           {
            "bin_end": 0.20661965,
            "bin_start": 0.1904873,
            "count": 0
           },
           {
            "bin_end": 0.222752,
            "bin_start": 0.20661965,
            "count": 1
           }
          ],
          "max": "0.222752",
          "min": "0.0614285",
          "nan_count": 0,
          "unique_count": 5
         }
        },
        {
         "dtype": "bool",
         "name": "p3_dog",
         "stats": {
          "categories": [
           {
            "count": 5,
            "name": "True"
           }
          ],
          "nan_count": 0,
          "unique_count": 1
         }
        },
        {
         "dtype": "int64",
         "name": "_deepnote_index_column"
        }
       ],
       "row_count": 5,
       "rows": [
        {
         "_deepnote_index_column": "0",
         "img_num": "1",
         "jpg_url": "https://pbs.twimg.com/media/CT4udn0WwAA0aMy.jpg",
         "p1": "Welsh_springer_spaniel",
         "p1_conf": "0.465074",
         "p1_dog": "True",
         "p2": "collie",
         "p2_conf": "0.156665",
         "p2_dog": "True",
         "p3": "Shetland_sheepdog",
         "p3_conf": "0.0614285",
         "p3_dog": "True",
         "tweet_id": "666020888022790149"
        },
        {
         "_deepnote_index_column": "1",
         "img_num": "1",
         "jpg_url": "https://pbs.twimg.com/media/CT42GRgUYAA5iDo.jpg",
         "p1": "redbone",
         "p1_conf": "0.506826",
         "p1_dog": "True",
         "p2": "miniature_pinscher",
         "p2_conf": "0.0741916999999999",
         "p2_dog": "True",
         "p3": "Rhodesian_ridgeback",
         "p3_conf": "0.07201",
         "p3_dog": "True",
         "tweet_id": "666029285002620928"
        },
        {
         "_deepnote_index_column": "2",
         "img_num": "1",
         "jpg_url": "https://pbs.twimg.com/media/CT4521TWwAEvMyu.jpg",
         "p1": "German_shepherd",
         "p1_conf": "0.596461",
         "p1_dog": "True",
         "p2": "malinois",
         "p2_conf": "0.1385839999999999",
         "p2_dog": "True",
         "p3": "bloodhound",
         "p3_conf": "0.116197",
         "p3_dog": "True",
         "tweet_id": "666033412701032449"
        },
        {
         "_deepnote_index_column": "3",
         "img_num": "1",
         "jpg_url": "https://pbs.twimg.com/media/CT5Dr8HUEAA-lEu.jpg",
         "p1": "Rhodesian_ridgeback",
         "p1_conf": "0.408143",
         "p1_dog": "True",
         "p2": "redbone",
         "p2_conf": "0.360687",
         "p2_dog": "True",
         "p3": "miniature_pinscher",
         "p3_conf": "0.222752",
         "p3_dog": "True",
         "tweet_id": "666044226329800704"
        },
        {
         "_deepnote_index_column": "4",
         "img_num": "1",
         "jpg_url": "https://pbs.twimg.com/media/CT5IQmsXIAAKY4A.jpg",
         "p1": "miniature_pinscher",
         "p1_conf": "0.560311",
         "p1_dog": "True",
         "p2": "Rottweiler",
         "p2_conf": "0.243682",
         "p2_dog": "True",
         "p3": "Doberman",
         "p3_conf": "0.154629",
         "p3_dog": "True",
         "tweet_id": "666049248165822465"
        }
       ]
      },
      "text/html": [
       "<div>\n",
       "<style scoped>\n",
       "    .dataframe tbody tr th:only-of-type {\n",
       "        vertical-align: middle;\n",
       "    }\n",
       "\n",
       "    .dataframe tbody tr th {\n",
       "        vertical-align: top;\n",
       "    }\n",
       "\n",
       "    .dataframe thead th {\n",
       "        text-align: right;\n",
       "    }\n",
       "</style>\n",
       "<table border=\"1\" class=\"dataframe\">\n",
       "  <thead>\n",
       "    <tr style=\"text-align: right;\">\n",
       "      <th></th>\n",
       "      <th>tweet_id</th>\n",
       "      <th>jpg_url</th>\n",
       "      <th>img_num</th>\n",
       "      <th>p1</th>\n",
       "      <th>p1_conf</th>\n",
       "      <th>p1_dog</th>\n",
       "      <th>p2</th>\n",
       "      <th>p2_conf</th>\n",
       "      <th>p2_dog</th>\n",
       "      <th>p3</th>\n",
       "      <th>p3_conf</th>\n",
       "      <th>p3_dog</th>\n",
       "    </tr>\n",
       "  </thead>\n",
       "  <tbody>\n",
       "    <tr>\n",
       "      <th>0</th>\n",
       "      <td>666020888022790149</td>\n",
       "      <td>https://pbs.twimg.com/media/CT4udn0WwAA0aMy.jpg</td>\n",
       "      <td>1</td>\n",
       "      <td>Welsh_springer_spaniel</td>\n",
       "      <td>0.465074</td>\n",
       "      <td>True</td>\n",
       "      <td>collie</td>\n",
       "      <td>0.156665</td>\n",
       "      <td>True</td>\n",
       "      <td>Shetland_sheepdog</td>\n",
       "      <td>0.061428</td>\n",
       "      <td>True</td>\n",
       "    </tr>\n",
       "    <tr>\n",
       "      <th>1</th>\n",
       "      <td>666029285002620928</td>\n",
       "      <td>https://pbs.twimg.com/media/CT42GRgUYAA5iDo.jpg</td>\n",
       "      <td>1</td>\n",
       "      <td>redbone</td>\n",
       "      <td>0.506826</td>\n",
       "      <td>True</td>\n",
       "      <td>miniature_pinscher</td>\n",
       "      <td>0.074192</td>\n",
       "      <td>True</td>\n",
       "      <td>Rhodesian_ridgeback</td>\n",
       "      <td>0.072010</td>\n",
       "      <td>True</td>\n",
       "    </tr>\n",
       "    <tr>\n",
       "      <th>2</th>\n",
       "      <td>666033412701032449</td>\n",
       "      <td>https://pbs.twimg.com/media/CT4521TWwAEvMyu.jpg</td>\n",
       "      <td>1</td>\n",
       "      <td>German_shepherd</td>\n",
       "      <td>0.596461</td>\n",
       "      <td>True</td>\n",
       "      <td>malinois</td>\n",
       "      <td>0.138584</td>\n",
       "      <td>True</td>\n",
       "      <td>bloodhound</td>\n",
       "      <td>0.116197</td>\n",
       "      <td>True</td>\n",
       "    </tr>\n",
       "    <tr>\n",
       "      <th>3</th>\n",
       "      <td>666044226329800704</td>\n",
       "      <td>https://pbs.twimg.com/media/CT5Dr8HUEAA-lEu.jpg</td>\n",
       "      <td>1</td>\n",
       "      <td>Rhodesian_ridgeback</td>\n",
       "      <td>0.408143</td>\n",
       "      <td>True</td>\n",
       "      <td>redbone</td>\n",
       "      <td>0.360687</td>\n",
       "      <td>True</td>\n",
       "      <td>miniature_pinscher</td>\n",
       "      <td>0.222752</td>\n",
       "      <td>True</td>\n",
       "    </tr>\n",
       "    <tr>\n",
       "      <th>4</th>\n",
       "      <td>666049248165822465</td>\n",
       "      <td>https://pbs.twimg.com/media/CT5IQmsXIAAKY4A.jpg</td>\n",
       "      <td>1</td>\n",
       "      <td>miniature_pinscher</td>\n",
       "      <td>0.560311</td>\n",
       "      <td>True</td>\n",
       "      <td>Rottweiler</td>\n",
       "      <td>0.243682</td>\n",
       "      <td>True</td>\n",
       "      <td>Doberman</td>\n",
       "      <td>0.154629</td>\n",
       "      <td>True</td>\n",
       "    </tr>\n",
       "  </tbody>\n",
       "</table>\n",
       "</div>"
      ],
      "text/plain": [
       "             tweet_id                                          jpg_url  \\\n",
       "0  666020888022790149  https://pbs.twimg.com/media/CT4udn0WwAA0aMy.jpg   \n",
       "1  666029285002620928  https://pbs.twimg.com/media/CT42GRgUYAA5iDo.jpg   \n",
       "2  666033412701032449  https://pbs.twimg.com/media/CT4521TWwAEvMyu.jpg   \n",
       "3  666044226329800704  https://pbs.twimg.com/media/CT5Dr8HUEAA-lEu.jpg   \n",
       "4  666049248165822465  https://pbs.twimg.com/media/CT5IQmsXIAAKY4A.jpg   \n",
       "\n",
       "   img_num                      p1   p1_conf  p1_dog                  p2  \\\n",
       "0        1  Welsh_springer_spaniel  0.465074    True              collie   \n",
       "1        1                 redbone  0.506826    True  miniature_pinscher   \n",
       "2        1         German_shepherd  0.596461    True            malinois   \n",
       "3        1     Rhodesian_ridgeback  0.408143    True             redbone   \n",
       "4        1      miniature_pinscher  0.560311    True          Rottweiler   \n",
       "\n",
       "    p2_conf  p2_dog                   p3   p3_conf  p3_dog  \n",
       "0  0.156665    True    Shetland_sheepdog  0.061428    True  \n",
       "1  0.074192    True  Rhodesian_ridgeback  0.072010    True  \n",
       "2  0.138584    True           bloodhound  0.116197    True  \n",
       "3  0.360687    True   miniature_pinscher  0.222752    True  \n",
       "4  0.243682    True             Doberman  0.154629    True  "
      ]
     },
     "execution_count": 9,
     "metadata": {},
     "output_type": "execute_result"
    }
   ],
   "source": [
    "df_predictions.head()"
   ]
  },
  {
   "cell_type": "markdown",
   "metadata": {
    "cell_id": "09ce47ed42ca4317ad5e87482dc7eee6",
    "deepnote_cell_type": "markdown",
    "tags": []
   },
   "source": [
    "**Observation**: None for now."
   ]
  },
  {
   "cell_type": "code",
   "execution_count": null,
   "metadata": {
    "cell_id": "dea43ec03d564365b59d92b14a690b6a",
    "deepnote_cell_type": "code",
    "deepnote_to_be_reexecuted": false,
    "execution_millis": 41,
    "execution_start": 1663254795795,
    "source_hash": "e1a7af58",
    "tags": []
   },
   "outputs": [
    {
     "data": {
      "application/vnd.deepnote.dataframe.v3+json": {
       "column_count": 12,
       "columns": [
        {
         "dtype": "int64",
         "name": "tweet_id",
         "stats": {
          "histogram": [
           {
            "bin_end": 891436867389553000,
            "bin_start": 891327558926688300,
            "count": 1
           },
           {
            "bin_end": 891546175852417800,
            "bin_start": 891436867389553000,
            "count": 0
           },
           {
            "bin_end": 891655484315282700,
            "bin_start": 891546175852417800,
            "count": 0
           },
           {
            "bin_end": 891764792778147500,
            "bin_start": 891655484315282700,
            "count": 1
           },
           {
            "bin_end": 891874101241012200,
            "bin_start": 891764792778147500,
            "count": 1
           },
           {
            "bin_end": 891983409703877000,
            "bin_start": 891874101241012200,
            "count": 0
           },
           {
            "bin_end": 892092718166741800,
            "bin_start": 891983409703877000,
            "count": 0
           },
           {
            "bin_end": 892202026629606700,
            "bin_start": 892092718166741800,
            "count": 1
           },
           {
            "bin_end": 892311335092471400,
            "bin_start": 892202026629606700,
            "count": 0
           },
           {
            "bin_end": 892420643555336200,
            "bin_start": 892311335092471400,
            "count": 1
           }
          ],
          "max": "892420643555336193",
          "min": "891327558926688256",
          "nan_count": 0,
          "unique_count": 5
         }
        },
        {
         "dtype": "object",
         "name": "jpg_url",
         "stats": {
          "categories": [
           {
            "count": 1,
            "name": "https://pbs.twimg.com/media/DF6hr6BUMAAzZgT.jpg"
           },
           {
            "count": 1,
            "name": "https://pbs.twimg.com/media/DF_q7IAWsAEuuN8.jpg"
           },
           {
            "count": 3,
            "name": "3 others"
           }
          ],
          "nan_count": 0,
          "unique_count": 5
         }
        },
        {
         "dtype": "int64",
         "name": "img_num",
         "stats": {
          "histogram": [
           {
            "bin_end": 1.1,
            "bin_start": 1,
            "count": 4
           },
           {
            "bin_end": 1.2,
            "bin_start": 1.1,
            "count": 0
           },
           {
            "bin_end": 1.3,
            "bin_start": 1.2,
            "count": 0
           },
           {
            "bin_end": 1.4,
            "bin_start": 1.3,
            "count": 0
           },
           {
            "bin_end": 1.5,
            "bin_start": 1.4,
            "count": 0
           },
           {
            "bin_end": 1.6,
            "bin_start": 1.5,
            "count": 0
           },
           {
            "bin_end": 1.7000000000000002,
            "bin_start": 1.6,
            "count": 0
           },
           {
            "bin_end": 1.8,
            "bin_start": 1.7000000000000002,
            "count": 0
           },
           {
            "bin_end": 1.9,
            "bin_start": 1.8,
            "count": 0
           },
           {
            "bin_end": 2,
            "bin_start": 1.9,
            "count": 1
           }
          ],
          "max": "2",
          "min": "1",
          "nan_count": 0,
          "unique_count": 2
         }
        },
        {
         "dtype": "object",
         "name": "p1",
         "stats": {
          "categories": [
           {
            "count": 2,
            "name": "Chihuahua"
           },
           {
            "count": 1,
            "name": "basset"
           },
           {
            "count": 2,
            "name": "2 others"
           }
          ],
          "nan_count": 0,
          "unique_count": 4
         }
        },
        {
         "dtype": "float64",
         "name": "p1_conf",
         "stats": {
          "histogram": [
           {
            "bin_end": 0.15894493999999998,
            "bin_start": 0.0970486,
            "count": 1
           },
           {
            "bin_end": 0.22084127999999997,
            "bin_start": 0.15894493999999998,
            "count": 1
           },
           {
            "bin_end": 0.28273761999999997,
            "bin_start": 0.22084127999999997,
            "count": 0
           },
           {
            "bin_end": 0.34463395999999996,
            "bin_start": 0.28273761999999997,
            "count": 1
           },
           {
            "bin_end": 0.40653029999999996,
            "bin_start": 0.34463395999999996,
            "count": 0
           },
           {
            "bin_end": 0.46842663999999995,
            "bin_start": 0.40653029999999996,
            "count": 0
           },
           {
            "bin_end": 0.53032298,
            "bin_start": 0.46842663999999995,
            "count": 0
           },
           {
            "bin_end": 0.59221932,
            "bin_start": 0.53032298,
            "count": 1
           },
           {
            "bin_end": 0.65411566,
            "bin_start": 0.59221932,
            "count": 0
           },
           {
            "bin_end": 0.716012,
            "bin_start": 0.65411566,
            "count": 1
           }
          ],
          "max": "0.716012",
          "min": "0.0970486",
          "nan_count": 0,
          "unique_count": 5
         }
        },
        {
         "dtype": "bool",
         "name": "p1_dog",
         "stats": {
          "categories": [
           {
            "count": 3,
            "name": "True"
           },
           {
            "count": 2,
            "name": "False"
           }
          ],
          "nan_count": 0,
          "unique_count": 2
         }
        },
        {
         "dtype": "object",
         "name": "p2",
         "stats": {
          "categories": [
           {
            "count": 1,
            "name": "English_springer"
           },
           {
            "count": 1,
            "name": "Labrador_retriever"
           },
           {
            "count": 3,
            "name": "3 others"
           }
          ],
          "nan_count": 0,
          "unique_count": 5
         }
        },
        {
         "dtype": "float64",
         "name": "p2_conf",
         "stats": {
          "histogram": [
           {
            "bin_end": 0.0930047,
            "bin_start": 0.078253,
            "count": 3
           },
           {
            "bin_end": 0.10775639999999997,
            "bin_start": 0.0930047,
            "count": 0
           },
           {
            "bin_end": 0.12250809999999997,
            "bin_start": 0.10775639999999997,
            "count": 0
           },
           {
            "bin_end": 0.13725979999999996,
            "bin_start": 0.12250809999999997,
            "count": 0
           },
           {
            "bin_end": 0.15201149999999997,
            "bin_start": 0.13725979999999996,
            "count": 0
           },
           {
            "bin_end": 0.16676319999999994,
            "bin_start": 0.15201149999999997,
            "count": 0
           },
           {
            "bin_end": 0.18151489999999992,
            "bin_start": 0.16676319999999994,
            "count": 1
           },
           {
            "bin_end": 0.1962665999999999,
            "bin_start": 0.18151489999999992,
            "count": 0
           },
           {
            "bin_end": 0.21101829999999988,
            "bin_start": 0.1962665999999999,
            "count": 0
           },
           {
            "bin_end": 0.2257699999999999,
            "bin_start": 0.21101829999999988,
            "count": 1
           }
          ],
          "max": "0.2257699999999999",
          "min": "0.078253",
          "nan_count": 0,
          "unique_count": 5
         }
        },
        {
         "dtype": "bool",
         "name": "p2_dog",
         "stats": {
          "categories": [
           {
            "count": 4,
            "name": "True"
           },
           {
            "count": 1,
            "name": "False"
           }
          ],
          "nan_count": 0,
          "unique_count": 2
         }
        },
        {
         "dtype": "object",
         "name": "p3",
         "stats": {
          "categories": [
           {
            "count": 1,
            "name": "German_short-haired_pointer"
           },
           {
            "count": 1,
            "name": "spatula"
           },
           {
            "count": 3,
            "name": "3 others"
           }
          ],
          "nan_count": 0,
          "unique_count": 5
         }
        },
        {
         "dtype": "float64",
         "name": "p3_conf",
         "stats": {
          "histogram": [
           {
            "bin_end": 0.045762910000000004,
            "bin_start": 0.0313789,
            "count": 2
           },
           {
            "bin_end": 0.060146920000000006,
            "bin_start": 0.045762910000000004,
            "count": 0
           },
           {
            "bin_end": 0.07453093000000001,
            "bin_start": 0.060146920000000006,
            "count": 1
           },
           {
            "bin_end": 0.08891494000000001,
            "bin_start": 0.07453093000000001,
            "count": 1
           },
           {
            "bin_end": 0.10329895000000001,
            "bin_start": 0.08891494000000001,
            "count": 0
           },
           {
            "bin_end": 0.11768296000000002,
            "bin_start": 0.10329895000000001,
            "count": 0
           },
           {
            "bin_end": 0.13206697,
            "bin_start": 0.11768296000000002,
            "count": 0
           },
           {
            "bin_end": 0.14645098,
            "bin_start": 0.13206697,
            "count": 0
           },
           {
            "bin_end": 0.16083499,
            "bin_start": 0.14645098,
            "count": 0
           },
           {
            "bin_end": 0.175219,
            "bin_start": 0.16083499,
            "count": 1
           }
          ],
          "max": "0.175219",
          "min": "0.0313789",
          "nan_count": 0,
          "unique_count": 5
         }
        },
        {
         "dtype": "bool",
         "name": "p3_dog",
         "stats": {
          "categories": [
           {
            "count": 3,
            "name": "True"
           },
           {
            "count": 2,
            "name": "False"
           }
          ],
          "nan_count": 0,
          "unique_count": 2
         }
        },
        {
         "dtype": "int64",
         "name": "_deepnote_index_column"
        }
       ],
       "row_count": 5,
       "rows": [
        {
         "_deepnote_index_column": "2070",
         "img_num": "2",
         "jpg_url": "https://pbs.twimg.com/media/DF6hr6BUMAAzZgT.jpg",
         "p1": "basset",
         "p1_conf": "0.555712",
         "p1_dog": "True",
         "p2": "English_springer",
         "p2_conf": "0.2257699999999999",
         "p2_dog": "True",
         "p3": "German_short-haired_pointer",
         "p3_conf": "0.175219",
         "p3_dog": "True",
         "tweet_id": "891327558926688256"
        },
        {
         "_deepnote_index_column": "2071",
         "img_num": "1",
         "jpg_url": "https://pbs.twimg.com/media/DF_q7IAWsAEuuN8.jpg",
         "p1": "paper_towel",
         "p1_conf": "0.1702779999999999",
         "p1_dog": "False",
         "p2": "Labrador_retriever",
         "p2_conf": "0.1680859999999999",
         "p2_dog": "True",
         "p3": "spatula",
         "p3_conf": "0.0408359",
         "p3_dog": "False",
         "tweet_id": "891689557279858688"
        },
        {
         "_deepnote_index_column": "2072",
         "img_num": "1",
         "jpg_url": "https://pbs.twimg.com/media/DGBdLU1WsAANxJ9.jpg",
         "p1": "Chihuahua",
         "p1_conf": "0.716012",
         "p1_dog": "True",
         "p2": "malamute",
         "p2_conf": "0.078253",
         "p2_dog": "True",
         "p3": "kelpie",
         "p3_conf": "0.0313789",
         "p3_dog": "True",
         "tweet_id": "891815181378084864"
        },
        {
         "_deepnote_index_column": "2073",
         "img_num": "1",
         "jpg_url": "https://pbs.twimg.com/media/DGGmoV4XsAAUL6n.jpg",
         "p1": "Chihuahua",
         "p1_conf": "0.323581",
         "p1_dog": "True",
         "p2": "Pekinese",
         "p2_conf": "0.0906465",
         "p2_dog": "True",
         "p3": "papillon",
         "p3_conf": "0.0689569",
         "p3_dog": "True",
         "tweet_id": "892177421306343426"
        },
        {
         "_deepnote_index_column": "2074",
         "img_num": "1",
         "jpg_url": "https://pbs.twimg.com/media/DGKD1-bXoAAIAUK.jpg",
         "p1": "orange",
         "p1_conf": "0.0970486",
         "p1_dog": "False",
         "p2": "bagel",
         "p2_conf": "0.0858511",
         "p2_dog": "False",
         "p3": "banana",
         "p3_conf": "0.07611",
         "p3_dog": "False",
         "tweet_id": "892420643555336193"
        }
       ]
      },
      "text/html": [
       "<div>\n",
       "<style scoped>\n",
       "    .dataframe tbody tr th:only-of-type {\n",
       "        vertical-align: middle;\n",
       "    }\n",
       "\n",
       "    .dataframe tbody tr th {\n",
       "        vertical-align: top;\n",
       "    }\n",
       "\n",
       "    .dataframe thead th {\n",
       "        text-align: right;\n",
       "    }\n",
       "</style>\n",
       "<table border=\"1\" class=\"dataframe\">\n",
       "  <thead>\n",
       "    <tr style=\"text-align: right;\">\n",
       "      <th></th>\n",
       "      <th>tweet_id</th>\n",
       "      <th>jpg_url</th>\n",
       "      <th>img_num</th>\n",
       "      <th>p1</th>\n",
       "      <th>p1_conf</th>\n",
       "      <th>p1_dog</th>\n",
       "      <th>p2</th>\n",
       "      <th>p2_conf</th>\n",
       "      <th>p2_dog</th>\n",
       "      <th>p3</th>\n",
       "      <th>p3_conf</th>\n",
       "      <th>p3_dog</th>\n",
       "    </tr>\n",
       "  </thead>\n",
       "  <tbody>\n",
       "    <tr>\n",
       "      <th>2070</th>\n",
       "      <td>891327558926688256</td>\n",
       "      <td>https://pbs.twimg.com/media/DF6hr6BUMAAzZgT.jpg</td>\n",
       "      <td>2</td>\n",
       "      <td>basset</td>\n",
       "      <td>0.555712</td>\n",
       "      <td>True</td>\n",
       "      <td>English_springer</td>\n",
       "      <td>0.225770</td>\n",
       "      <td>True</td>\n",
       "      <td>German_short-haired_pointer</td>\n",
       "      <td>0.175219</td>\n",
       "      <td>True</td>\n",
       "    </tr>\n",
       "    <tr>\n",
       "      <th>2071</th>\n",
       "      <td>891689557279858688</td>\n",
       "      <td>https://pbs.twimg.com/media/DF_q7IAWsAEuuN8.jpg</td>\n",
       "      <td>1</td>\n",
       "      <td>paper_towel</td>\n",
       "      <td>0.170278</td>\n",
       "      <td>False</td>\n",
       "      <td>Labrador_retriever</td>\n",
       "      <td>0.168086</td>\n",
       "      <td>True</td>\n",
       "      <td>spatula</td>\n",
       "      <td>0.040836</td>\n",
       "      <td>False</td>\n",
       "    </tr>\n",
       "    <tr>\n",
       "      <th>2072</th>\n",
       "      <td>891815181378084864</td>\n",
       "      <td>https://pbs.twimg.com/media/DGBdLU1WsAANxJ9.jpg</td>\n",
       "      <td>1</td>\n",
       "      <td>Chihuahua</td>\n",
       "      <td>0.716012</td>\n",
       "      <td>True</td>\n",
       "      <td>malamute</td>\n",
       "      <td>0.078253</td>\n",
       "      <td>True</td>\n",
       "      <td>kelpie</td>\n",
       "      <td>0.031379</td>\n",
       "      <td>True</td>\n",
       "    </tr>\n",
       "    <tr>\n",
       "      <th>2073</th>\n",
       "      <td>892177421306343426</td>\n",
       "      <td>https://pbs.twimg.com/media/DGGmoV4XsAAUL6n.jpg</td>\n",
       "      <td>1</td>\n",
       "      <td>Chihuahua</td>\n",
       "      <td>0.323581</td>\n",
       "      <td>True</td>\n",
       "      <td>Pekinese</td>\n",
       "      <td>0.090647</td>\n",
       "      <td>True</td>\n",
       "      <td>papillon</td>\n",
       "      <td>0.068957</td>\n",
       "      <td>True</td>\n",
       "    </tr>\n",
       "    <tr>\n",
       "      <th>2074</th>\n",
       "      <td>892420643555336193</td>\n",
       "      <td>https://pbs.twimg.com/media/DGKD1-bXoAAIAUK.jpg</td>\n",
       "      <td>1</td>\n",
       "      <td>orange</td>\n",
       "      <td>0.097049</td>\n",
       "      <td>False</td>\n",
       "      <td>bagel</td>\n",
       "      <td>0.085851</td>\n",
       "      <td>False</td>\n",
       "      <td>banana</td>\n",
       "      <td>0.076110</td>\n",
       "      <td>False</td>\n",
       "    </tr>\n",
       "  </tbody>\n",
       "</table>\n",
       "</div>"
      ],
      "text/plain": [
       "                tweet_id                                          jpg_url  \\\n",
       "2070  891327558926688256  https://pbs.twimg.com/media/DF6hr6BUMAAzZgT.jpg   \n",
       "2071  891689557279858688  https://pbs.twimg.com/media/DF_q7IAWsAEuuN8.jpg   \n",
       "2072  891815181378084864  https://pbs.twimg.com/media/DGBdLU1WsAANxJ9.jpg   \n",
       "2073  892177421306343426  https://pbs.twimg.com/media/DGGmoV4XsAAUL6n.jpg   \n",
       "2074  892420643555336193  https://pbs.twimg.com/media/DGKD1-bXoAAIAUK.jpg   \n",
       "\n",
       "      img_num           p1   p1_conf  p1_dog                  p2   p2_conf  \\\n",
       "2070        2       basset  0.555712    True    English_springer  0.225770   \n",
       "2071        1  paper_towel  0.170278   False  Labrador_retriever  0.168086   \n",
       "2072        1    Chihuahua  0.716012    True            malamute  0.078253   \n",
       "2073        1    Chihuahua  0.323581    True            Pekinese  0.090647   \n",
       "2074        1       orange  0.097049   False               bagel  0.085851   \n",
       "\n",
       "      p2_dog                           p3   p3_conf  p3_dog  \n",
       "2070    True  German_short-haired_pointer  0.175219    True  \n",
       "2071    True                      spatula  0.040836   False  \n",
       "2072    True                       kelpie  0.031379    True  \n",
       "2073    True                     papillon  0.068957    True  \n",
       "2074   False                       banana  0.076110   False  "
      ]
     },
     "execution_count": 10,
     "metadata": {},
     "output_type": "execute_result"
    }
   ],
   "source": [
    "df_predictions.tail()"
   ]
  },
  {
   "cell_type": "markdown",
   "metadata": {
    "cell_id": "98f9bc6858594d08a92799d4fc28fec9",
    "deepnote_cell_type": "markdown",
    "deepnote_to_be_reexecuted": false,
    "execution_millis": 6,
    "execution_start": 1663111333309,
    "source_hash": "81896443",
    "tags": []
   },
   "source": [
    "**Oberservation**:\n",
    "\n",
    "1. I feel all `p1_conf`, `p2_conf`, and `p3_conf` values may need to be rounded to 6 decimal places to make the display consistent; since this won't affect the image predictions. \n",
    "2. They are also not descriptive enough and may need to be renamed e.g p1_confidence.\n",
    "3. Some of the dog names in `p1`, `p2`, and `p3` contains underscore. I think they are not neccesary as names in general usually don't have underscore."
   ]
  },
  {
   "cell_type": "markdown",
   "metadata": {
    "cell_id": "d639f6a31a964d77ad14fa5625a1a560",
    "deepnote_cell_type": "markdown",
    "deepnote_to_be_reexecuted": false,
    "execution_millis": 0,
    "execution_start": 1663110018116,
    "source_hash": "8c942c4b",
    "tags": []
   },
   "source": [
    "##### Like & Retweet dataset"
   ]
  },
  {
   "cell_type": "code",
   "execution_count": null,
   "metadata": {
    "cell_id": "4379b5b8fa824ddf90d917aac1b3942e",
    "deepnote_cell_type": "code",
    "deepnote_to_be_reexecuted": false,
    "execution_millis": 18,
    "execution_start": 1663254795839,
    "source_hash": "47d05ec1",
    "tags": []
   },
   "outputs": [
    {
     "data": {
      "application/vnd.deepnote.dataframe.v3+json": {
       "column_count": 4,
       "columns": [
        {
         "dtype": "int64",
         "name": "id",
         "stats": {
          "histogram": [
           {
            "bin_end": 891436867389553000,
            "bin_start": 891327558926688300,
            "count": 1
           },
           {
            "bin_end": 891546175852417800,
            "bin_start": 891436867389553000,
            "count": 0
           },
           {
            "bin_end": 891655484315282700,
            "bin_start": 891546175852417800,
            "count": 0
           },
           {
            "bin_end": 891764792778147500,
            "bin_start": 891655484315282700,
            "count": 1
           },
           {
            "bin_end": 891874101241012200,
            "bin_start": 891764792778147500,
            "count": 1
           },
           {
            "bin_end": 891983409703877000,
            "bin_start": 891874101241012200,
            "count": 0
           },
           {
            "bin_end": 892092718166741800,
            "bin_start": 891983409703877000,
            "count": 0
           },
           {
            "bin_end": 892202026629606700,
            "bin_start": 892092718166741800,
            "count": 1
           },
           {
            "bin_end": 892311335092471400,
            "bin_start": 892202026629606700,
            "count": 0
           },
           {
            "bin_end": 892420643555336200,
            "bin_start": 892311335092471400,
            "count": 1
           }
          ],
          "max": "892420643555336193",
          "min": "891327558926688256",
          "nan_count": 0,
          "unique_count": 5
         }
        },
        {
         "dtype": "int64",
         "name": "retweet_count",
         "stats": {
          "histogram": [
           {
            "bin_end": 3888.8,
            "bin_start": 3464,
            "count": 1
           },
           {
            "bin_end": 4313.6,
            "bin_start": 3888.8,
            "count": 0
           },
           {
            "bin_end": 4738.4,
            "bin_start": 4313.6,
            "count": 0
           },
           {
            "bin_end": 5163.2,
            "bin_start": 4738.4,
            "count": 0
           },
           {
            "bin_end": 5588,
            "bin_start": 5163.2,
            "count": 1
           },
           {
            "bin_end": 6012.8,
            "bin_start": 5588,
            "count": 0
           },
           {
            "bin_end": 6437.6,
            "bin_start": 6012.8,
            "count": 0
           },
           {
            "bin_end": 6862.4,
            "bin_start": 6437.6,
            "count": 0
           },
           {
            "bin_end": 7287.200000000001,
            "bin_start": 6862.4,
            "count": 2
           },
           {
            "bin_end": 7712,
            "bin_start": 7287.200000000001,
            "count": 1
           }
          ],
          "max": "7712",
          "min": "3464",
          "nan_count": 0,
          "unique_count": 5
         }
        },
        {
         "dtype": "int64",
         "name": "favorite_count",
         "stats": {
          "histogram": [
           {
            "bin_end": 23443,
            "bin_start": 21962,
            "count": 1
           },
           {
            "bin_end": 24924,
            "bin_start": 23443,
            "count": 0
           },
           {
            "bin_end": 26405,
            "bin_start": 24924,
            "count": 0
           },
           {
            "bin_end": 27886,
            "bin_start": 26405,
            "count": 0
           },
           {
            "bin_end": 29367,
            "bin_start": 27886,
            "count": 1
           },
           {
            "bin_end": 30848,
            "bin_start": 29367,
            "count": 0
           },
           {
            "bin_end": 32329,
            "bin_start": 30848,
            "count": 0
           },
           {
            "bin_end": 33810,
            "bin_start": 32329,
            "count": 1
           },
           {
            "bin_end": 35291,
            "bin_start": 33810,
            "count": 1
           },
           {
            "bin_end": 36772,
            "bin_start": 35291,
            "count": 1
           }
          ],
          "max": "36772",
          "min": "21962",
          "nan_count": 0,
          "unique_count": 5
         }
        },
        {
         "dtype": "datetime64[ns, UTC]",
         "name": "created_at",
         "stats": {
          "histogram": [
           {
            "bin_end": 1501370085200000000,
            "bin_start": 1501344024000000000,
            "count": 1
           },
           {
            "bin_end": 1501396146400000000,
            "bin_start": 1501370085200000000,
            "count": 0
           },
           {
            "bin_end": 1501422207600000000,
            "bin_start": 1501396146400000000,
            "count": 0
           },
           {
            "bin_end": 1501448268800000000,
            "bin_start": 1501422207600000000,
            "count": 1
           },
           {
            "bin_end": 1501474330000000000,
            "bin_start": 1501448268800000000,
            "count": 1
           },
           {
            "bin_end": 1501500391200000000,
            "bin_start": 1501474330000000000,
            "count": 0
           },
           {
            "bin_end": 1501526452400000000,
            "bin_start": 1501500391200000000,
            "count": 0
           },
           {
            "bin_end": 1501552513600000000,
            "bin_start": 1501526452400000000,
            "count": 1
           },
           {
            "bin_end": 1501578574800000000,
            "bin_start": 1501552513600000000,
            "count": 0
           },
           {
            "bin_end": 1501604636000000000,
            "bin_start": 1501578574800000000,
            "count": 1
           }
          ],
          "max": "2017-08-01 16:23:56+00:00",
          "min": "2017-07-29 16:00:24+00:00",
          "nan_count": 0,
          "unique_count": 5
         }
        },
        {
         "dtype": "int64",
         "name": "_deepnote_index_column"
        }
       ],
       "row_count": 5,
       "rows": [
        {
         "_deepnote_index_column": "0",
         "created_at": "2017-08-01 16:23:56+00:00",
         "favorite_count": "33668",
         "id": "892420643555336193",
         "retweet_count": "6968"
        },
        {
         "_deepnote_index_column": "1",
         "created_at": "2017-08-01 00:17:27+00:00",
         "favorite_count": "29205",
         "id": "892177421306343426",
         "retweet_count": "5272"
        },
        {
         "_deepnote_index_column": "2",
         "created_at": "2017-07-31 00:18:03+00:00",
         "favorite_count": "21962",
         "id": "891815181378084864",
         "retweet_count": "3464"
        },
        {
         "_deepnote_index_column": "3",
         "created_at": "2017-07-30 15:58:51+00:00",
         "favorite_count": "36772",
         "id": "891689557279858688",
         "retweet_count": "7190"
        },
        {
         "_deepnote_index_column": "4",
         "created_at": "2017-07-29 16:00:24+00:00",
         "favorite_count": "35134",
         "id": "891327558926688256",
         "retweet_count": "7712"
        }
       ]
      },
      "text/html": [
       "<div>\n",
       "<style scoped>\n",
       "    .dataframe tbody tr th:only-of-type {\n",
       "        vertical-align: middle;\n",
       "    }\n",
       "\n",
       "    .dataframe tbody tr th {\n",
       "        vertical-align: top;\n",
       "    }\n",
       "\n",
       "    .dataframe thead th {\n",
       "        text-align: right;\n",
       "    }\n",
       "</style>\n",
       "<table border=\"1\" class=\"dataframe\">\n",
       "  <thead>\n",
       "    <tr style=\"text-align: right;\">\n",
       "      <th></th>\n",
       "      <th>id</th>\n",
       "      <th>retweet_count</th>\n",
       "      <th>favorite_count</th>\n",
       "      <th>created_at</th>\n",
       "    </tr>\n",
       "  </thead>\n",
       "  <tbody>\n",
       "    <tr>\n",
       "      <th>0</th>\n",
       "      <td>892420643555336193</td>\n",
       "      <td>6968</td>\n",
       "      <td>33668</td>\n",
       "      <td>2017-08-01 16:23:56+00:00</td>\n",
       "    </tr>\n",
       "    <tr>\n",
       "      <th>1</th>\n",
       "      <td>892177421306343426</td>\n",
       "      <td>5272</td>\n",
       "      <td>29205</td>\n",
       "      <td>2017-08-01 00:17:27+00:00</td>\n",
       "    </tr>\n",
       "    <tr>\n",
       "      <th>2</th>\n",
       "      <td>891815181378084864</td>\n",
       "      <td>3464</td>\n",
       "      <td>21962</td>\n",
       "      <td>2017-07-31 00:18:03+00:00</td>\n",
       "    </tr>\n",
       "    <tr>\n",
       "      <th>3</th>\n",
       "      <td>891689557279858688</td>\n",
       "      <td>7190</td>\n",
       "      <td>36772</td>\n",
       "      <td>2017-07-30 15:58:51+00:00</td>\n",
       "    </tr>\n",
       "    <tr>\n",
       "      <th>4</th>\n",
       "      <td>891327558926688256</td>\n",
       "      <td>7712</td>\n",
       "      <td>35134</td>\n",
       "      <td>2017-07-29 16:00:24+00:00</td>\n",
       "    </tr>\n",
       "  </tbody>\n",
       "</table>\n",
       "</div>"
      ],
      "text/plain": [
       "                   id  retweet_count  favorite_count                created_at\n",
       "0  892420643555336193           6968           33668 2017-08-01 16:23:56+00:00\n",
       "1  892177421306343426           5272           29205 2017-08-01 00:17:27+00:00\n",
       "2  891815181378084864           3464           21962 2017-07-31 00:18:03+00:00\n",
       "3  891689557279858688           7190           36772 2017-07-30 15:58:51+00:00\n",
       "4  891327558926688256           7712           35134 2017-07-29 16:00:24+00:00"
      ]
     },
     "execution_count": 11,
     "metadata": {},
     "output_type": "execute_result"
    }
   ],
   "source": [
    "df_tweet_count.head()"
   ]
  },
  {
   "cell_type": "markdown",
   "metadata": {
    "cell_id": "2fc690942d0b40a398519ab8083842a9",
    "deepnote_cell_type": "markdown",
    "tags": []
   },
   "source": [
    "**Observation**: The tweet ID column here is title `id` which is not consistent with the two other dataframes `df_enhanced` and `df_predictions` (both have `tweet_id` as tweet ID column)."
   ]
  },
  {
   "cell_type": "code",
   "execution_count": null,
   "metadata": {
    "cell_id": "7db01a7aef724da5a1d4e7eb38834e9c",
    "deepnote_cell_type": "code",
    "deepnote_to_be_reexecuted": false,
    "execution_millis": 13,
    "execution_start": 1663254795893,
    "source_hash": "a9562fa5",
    "tags": []
   },
   "outputs": [
    {
     "data": {
      "application/vnd.deepnote.dataframe.v3+json": {
       "column_count": 4,
       "columns": [
        {
         "dtype": "int64",
         "name": "id",
         "stats": {
          "histogram": [
           {
            "bin_end": 666023724037093400,
            "bin_start": 666020888022790100,
            "count": 1
           },
           {
            "bin_end": 666026560051396600,
            "bin_start": 666023724037093400,
            "count": 0
           },
           {
            "bin_end": 666029396065699800,
            "bin_start": 666026560051396600,
            "count": 1
           },
           {
            "bin_end": 666032232080003100,
            "bin_start": 666029396065699800,
            "count": 0
           },
           {
            "bin_end": 666035068094306300,
            "bin_start": 666032232080003100,
            "count": 1
           },
           {
            "bin_end": 666037904108609500,
            "bin_start": 666035068094306300,
            "count": 0
           },
           {
            "bin_end": 666040740122912800,
            "bin_start": 666037904108609500,
            "count": 0
           },
           {
            "bin_end": 666043576137216000,
            "bin_start": 666040740122912800,
            "count": 0
           },
           {
            "bin_end": 666046412151519200,
            "bin_start": 666043576137216000,
            "count": 1
           },
           {
            "bin_end": 666049248165822500,
            "bin_start": 666046412151519200,
            "count": 1
           }
          ],
          "max": "666049248165822465",
          "min": "666020888022790149",
          "nan_count": 0,
          "unique_count": 5
         }
        },
        {
         "dtype": "int64",
         "name": "retweet_count",
         "stats": {
          "histogram": [
           {
            "bin_end": 74.3,
            "bin_start": 36,
            "count": 3
           },
           {
            "bin_end": 112.6,
            "bin_start": 74.3,
            "count": 0
           },
           {
            "bin_end": 150.89999999999998,
            "bin_start": 112.6,
            "count": 1
           },
           {
            "bin_end": 189.2,
            "bin_start": 150.89999999999998,
            "count": 0
           },
           {
            "bin_end": 227.5,
            "bin_start": 189.2,
            "count": 0
           },
           {
            "bin_end": 265.79999999999995,
            "bin_start": 227.5,
            "count": 0
           },
           {
            "bin_end": 304.09999999999997,
            "bin_start": 265.79999999999995,
            "count": 0
           },
           {
            "bin_end": 342.4,
            "bin_start": 304.09999999999997,
            "count": 0
           },
           {
            "bin_end": 380.7,
            "bin_start": 342.4,
            "count": 0
           },
           {
            "bin_end": 419,
            "bin_start": 380.7,
            "count": 1
           }
          ],
          "max": "419",
          "min": "36",
          "nan_count": 0,
          "unique_count": 4
         }
        },
        {
         "dtype": "int64",
         "name": "favorite_count",
         "stats": {
          "histogram": [
           {
            "bin_end": 307.4,
            "bin_start": 88,
            "count": 4
           },
           {
            "bin_end": 526.8,
            "bin_start": 307.4,
            "count": 0
           },
           {
            "bin_end": 746.2,
            "bin_start": 526.8,
            "count": 0
           },
           {
            "bin_end": 965.6,
            "bin_start": 746.2,
            "count": 0
           },
           {
            "bin_end": 1185,
            "bin_start": 965.6,
            "count": 0
           },
           {
            "bin_end": 1404.4,
            "bin_start": 1185,
            "count": 0
           },
           {
            "bin_end": 1623.8,
            "bin_start": 1404.4,
            "count": 0
           },
           {
            "bin_end": 1843.2,
            "bin_start": 1623.8,
            "count": 0
           },
           {
            "bin_end": 2062.6000000000004,
            "bin_start": 1843.2,
            "count": 0
           },
           {
            "bin_end": 2282,
            "bin_start": 2062.6000000000004,
            "count": 1
           }
          ],
          "max": "2282",
          "min": "88",
          "nan_count": 0,
          "unique_count": 5
         }
        },
        {
         "dtype": "datetime64[ns, UTC]",
         "name": "created_at",
         "stats": {
          "histogram": [
           {
            "bin_end": 1447627404200000000,
            "bin_start": 1447626728000000000,
            "count": 1
           },
           {
            "bin_end": 1447628080400000000,
            "bin_start": 1447627404200000000,
            "count": 0
           },
           {
            "bin_end": 1447628756600000000,
            "bin_start": 1447628080400000000,
            "count": 1
           },
           {
            "bin_end": 1447629432800000000,
            "bin_start": 1447628756600000000,
            "count": 0
           },
           {
            "bin_end": 1447630109000000000,
            "bin_start": 1447629432800000000,
            "count": 1
           },
           {
            "bin_end": 1447630785200000000,
            "bin_start": 1447630109000000000,
            "count": 0
           },
           {
            "bin_end": 1447631461400000000,
            "bin_start": 1447630785200000000,
            "count": 0
           },
           {
            "bin_end": 1447632137600000000,
            "bin_start": 1447631461400000000,
            "count": 0
           },
           {
            "bin_end": 1447632813800000000,
            "bin_start": 1447632137600000000,
            "count": 1
           },
           {
            "bin_end": 1447633490000000000,
            "bin_start": 1447632813800000000,
            "count": 1
           }
          ],
          "max": "2015-11-16 00:24:50+00:00",
          "min": "2015-11-15 22:32:08+00:00",
          "nan_count": 0,
          "unique_count": 5
         }
        },
        {
         "dtype": "int64",
         "name": "_deepnote_index_column"
        }
       ],
       "row_count": 5,
       "rows": [
        {
         "_deepnote_index_column": "2322",
         "created_at": "2015-11-16 00:24:50+00:00",
         "favorite_count": "88",
         "id": "666049248165822465",
         "retweet_count": "36"
        },
        {
         "_deepnote_index_column": "2323",
         "created_at": "2015-11-16 00:04:52+00:00",
         "favorite_count": "245",
         "id": "666044226329800704",
         "retweet_count": "115"
        },
        {
         "_deepnote_index_column": "2324",
         "created_at": "2015-11-15 23:21:54+00:00",
         "favorite_count": "100",
         "id": "666033412701032449",
         "retweet_count": "36"
        },
        {
         "_deepnote_index_column": "2325",
         "created_at": "2015-11-15 23:05:30+00:00",
         "favorite_count": "112",
         "id": "666029285002620928",
         "retweet_count": "39"
        },
        {
         "_deepnote_index_column": "2326",
         "created_at": "2015-11-15 22:32:08+00:00",
         "favorite_count": "2282",
         "id": "666020888022790149",
         "retweet_count": "419"
        }
       ]
      },
      "text/html": [
       "<div>\n",
       "<style scoped>\n",
       "    .dataframe tbody tr th:only-of-type {\n",
       "        vertical-align: middle;\n",
       "    }\n",
       "\n",
       "    .dataframe tbody tr th {\n",
       "        vertical-align: top;\n",
       "    }\n",
       "\n",
       "    .dataframe thead th {\n",
       "        text-align: right;\n",
       "    }\n",
       "</style>\n",
       "<table border=\"1\" class=\"dataframe\">\n",
       "  <thead>\n",
       "    <tr style=\"text-align: right;\">\n",
       "      <th></th>\n",
       "      <th>id</th>\n",
       "      <th>retweet_count</th>\n",
       "      <th>favorite_count</th>\n",
       "      <th>created_at</th>\n",
       "    </tr>\n",
       "  </thead>\n",
       "  <tbody>\n",
       "    <tr>\n",
       "      <th>2322</th>\n",
       "      <td>666049248165822465</td>\n",
       "      <td>36</td>\n",
       "      <td>88</td>\n",
       "      <td>2015-11-16 00:24:50+00:00</td>\n",
       "    </tr>\n",
       "    <tr>\n",
       "      <th>2323</th>\n",
       "      <td>666044226329800704</td>\n",
       "      <td>115</td>\n",
       "      <td>245</td>\n",
       "      <td>2015-11-16 00:04:52+00:00</td>\n",
       "    </tr>\n",
       "    <tr>\n",
       "      <th>2324</th>\n",
       "      <td>666033412701032449</td>\n",
       "      <td>36</td>\n",
       "      <td>100</td>\n",
       "      <td>2015-11-15 23:21:54+00:00</td>\n",
       "    </tr>\n",
       "    <tr>\n",
       "      <th>2325</th>\n",
       "      <td>666029285002620928</td>\n",
       "      <td>39</td>\n",
       "      <td>112</td>\n",
       "      <td>2015-11-15 23:05:30+00:00</td>\n",
       "    </tr>\n",
       "    <tr>\n",
       "      <th>2326</th>\n",
       "      <td>666020888022790149</td>\n",
       "      <td>419</td>\n",
       "      <td>2282</td>\n",
       "      <td>2015-11-15 22:32:08+00:00</td>\n",
       "    </tr>\n",
       "  </tbody>\n",
       "</table>\n",
       "</div>"
      ],
      "text/plain": [
       "                      id  retweet_count  favorite_count  \\\n",
       "2322  666049248165822465             36              88   \n",
       "2323  666044226329800704            115             245   \n",
       "2324  666033412701032449             36             100   \n",
       "2325  666029285002620928             39             112   \n",
       "2326  666020888022790149            419            2282   \n",
       "\n",
       "                    created_at  \n",
       "2322 2015-11-16 00:24:50+00:00  \n",
       "2323 2015-11-16 00:04:52+00:00  \n",
       "2324 2015-11-15 23:21:54+00:00  \n",
       "2325 2015-11-15 23:05:30+00:00  \n",
       "2326 2015-11-15 22:32:08+00:00  "
      ]
     },
     "execution_count": 12,
     "metadata": {},
     "output_type": "execute_result"
    }
   ],
   "source": [
    "df_tweet_count.tail()"
   ]
  },
  {
   "cell_type": "markdown",
   "metadata": {
    "cell_id": "b90ef6149e23487abfb051906046bafb",
    "deepnote_cell_type": "markdown",
    "deepnote_to_be_reexecuted": false,
    "execution_millis": 1,
    "execution_start": 1663097582827,
    "source_hash": "8a3cdab2",
    "tags": []
   },
   "source": [
    "### Programmatic assessment"
   ]
  },
  {
   "cell_type": "markdown",
   "metadata": {
    "cell_id": "8723565b146c40ab9112fd2a051e8bb1",
    "deepnote_cell_type": "markdown",
    "deepnote_to_be_reexecuted": false,
    "execution_millis": 1,
    "execution_start": 1663110279059,
    "source_hash": "4912a8b1",
    "tags": []
   },
   "source": [
    "##### Twitter Enhanced Dataset"
   ]
  },
  {
   "cell_type": "code",
   "execution_count": null,
   "metadata": {
    "cell_id": "24b78b0583e64012b14c17d5eeb79dda",
    "deepnote_cell_type": "code",
    "deepnote_to_be_reexecuted": false,
    "execution_millis": 9,
    "execution_start": 1663254795908,
    "source_hash": "23800f16",
    "tags": []
   },
   "outputs": [
    {
     "name": "stdout",
     "output_type": "stream",
     "text": [
      "<class 'pandas.core.frame.DataFrame'>\n",
      "RangeIndex: 2356 entries, 0 to 2355\n",
      "Data columns (total 17 columns):\n",
      " #   Column                      Non-Null Count  Dtype  \n",
      "---  ------                      --------------  -----  \n",
      " 0   tweet_id                    2356 non-null   int64  \n",
      " 1   in_reply_to_status_id       78 non-null     float64\n",
      " 2   in_reply_to_user_id         78 non-null     float64\n",
      " 3   timestamp                   2356 non-null   object \n",
      " 4   source                      2356 non-null   object \n",
      " 5   text                        2356 non-null   object \n",
      " 6   retweeted_status_id         181 non-null    float64\n",
      " 7   retweeted_status_user_id    181 non-null    float64\n",
      " 8   retweeted_status_timestamp  181 non-null    object \n",
      " 9   expanded_urls               2297 non-null   object \n",
      " 10  rating_numerator            2356 non-null   int64  \n",
      " 11  rating_denominator          2356 non-null   int64  \n",
      " 12  name                        2356 non-null   object \n",
      " 13  doggo                       2356 non-null   object \n",
      " 14  floofer                     2356 non-null   object \n",
      " 15  pupper                      2356 non-null   object \n",
      " 16  puppo                       2356 non-null   object \n",
      "dtypes: float64(4), int64(3), object(10)\n",
      "memory usage: 313.0+ KB\n"
     ]
    }
   ],
   "source": [
    "df_enhanced.info()"
   ]
  },
  {
   "cell_type": "markdown",
   "metadata": {
    "cell_id": "6a3d8b09807f4fab81509b71bc1af9de",
    "deepnote_cell_type": "markdown",
    "deepnote_to_be_reexecuted": false,
    "execution_millis": 753,
    "execution_start": 1663099122701,
    "source_hash": "6c9c59bd",
    "tags": []
   },
   "source": [
    "**Observation**: \n",
    "\n",
    "1. the following columns `in_reply_to_status_id`, `in_reply_to_user_id`, `retweeted_status_id`, `retweeted_status_user_id`, `retweeted_status_user_id`, `retweeted_status_timestamp`, and `expanded_urls` all have missing values. But since we don't need retweets as stated in the instructions, then we may not consider the missing values for all retweets columns (probably drop all).\n",
    "2. the `timestamp` column has a datatype of *object* but having the datatype as *datetime* is appropriate.\n",
    "3. No missing values. `tweet_id` column datatype may need to be converted from *integer* to *string*; since it values does not represent money, measurements or any sort of preference."
   ]
  },
  {
   "cell_type": "code",
   "execution_count": null,
   "metadata": {
    "cell_id": "2611bb1670e5469cb8c221dd9a4e1ebc",
    "deepnote_cell_type": "code",
    "deepnote_to_be_reexecuted": false,
    "execution_millis": 2,
    "execution_start": 1663254795923,
    "source_hash": "9be5ba42",
    "tags": []
   },
   "outputs": [
    {
     "data": {
      "text/plain": [
       "0"
      ]
     },
     "execution_count": 14,
     "metadata": {},
     "output_type": "execute_result"
    }
   ],
   "source": [
    "# get missing values for expanded_urls\n",
    "check_expanded_url = df_enhanced[df_enhanced['expanded_urls'].isnull()]\n",
    "# check to see if the tweet text has a link\n",
    "check_expanded_url['text'].str.contains('https').sum()"
   ]
  },
  {
   "cell_type": "markdown",
   "metadata": {
    "cell_id": "792bd0e767e94bcb9fa09e4f8d8dd690",
    "deepnote_cell_type": "markdown",
    "tags": []
   },
   "source": [
    "**why the above?** since we noticed several missing values for `expanded_urls` then we need to check if they are a problem. If a tweet `text` contains a link but there is no link in the `expanded_urls` then that's a problem with the scrapping.\n",
    "\n",
    "However, every tweet containing a link has an expanded_urls. Cool!"
   ]
  },
  {
   "cell_type": "code",
   "execution_count": null,
   "metadata": {
    "cell_id": "c5e5b3e0098a411ebc2ed02208f310a5",
    "deepnote_cell_type": "code",
    "deepnote_to_be_reexecuted": false,
    "execution_millis": 6,
    "execution_start": 1663254795926,
    "source_hash": "8303e56b",
    "tags": []
   },
   "outputs": [
    {
     "data": {
      "text/plain": [
       "12      558\n",
       "11      464\n",
       "10      461\n",
       "13      351\n",
       "9       158\n",
       "8       102\n",
       "7        55\n",
       "14       54\n",
       "5        37\n",
       "6        32\n",
       "3        19\n",
       "4        17\n",
       "1         9\n",
       "2         9\n",
       "0         2\n",
       "15        2\n",
       "75        2\n",
       "420       2\n",
       "182       1\n",
       "204       1\n",
       "143       1\n",
       "121       1\n",
       "99        1\n",
       "20        1\n",
       "45        1\n",
       "27        1\n",
       "17        1\n",
       "24        1\n",
       "26        1\n",
       "44        1\n",
       "50        1\n",
       "60        1\n",
       "80        1\n",
       "84        1\n",
       "88        1\n",
       "1776      1\n",
       "960       1\n",
       "666       1\n",
       "144       1\n",
       "165       1\n",
       "Name: rating_numerator, dtype: int64"
      ]
     },
     "execution_count": 15,
     "metadata": {},
     "output_type": "execute_result"
    }
   ],
   "source": [
    "# count tweets unique rating_numerators\n",
    "df_enhanced.rating_numerator.value_counts()"
   ]
  },
  {
   "cell_type": "markdown",
   "metadata": {
    "cell_id": "3d17479b0930461cb54b164213783f77",
    "deepnote_cell_type": "markdown",
    "deepnote_to_be_reexecuted": false,
    "execution_millis": 520,
    "execution_start": 1663105796972,
    "source_hash": "8c4600ef",
    "tags": []
   },
   "source": [
    "Looking at the unique value count of `rating_numerator`, it makes sense to me not to have `rating_numerators` with values 0 or values higher than 14 (ie x > 0 && x < 15)."
   ]
  },
  {
   "cell_type": "code",
   "execution_count": null,
   "metadata": {
    "cell_id": "e5494453c16a4e11bb96d46008861ec2",
    "deepnote_cell_type": "code",
    "deepnote_to_be_reexecuted": false,
    "execution_millis": 7,
    "execution_start": 1663254795933,
    "source_hash": "d659f7b9",
    "tags": []
   },
   "outputs": [
    {
     "data": {
      "text/plain": [
       "10     2333\n",
       "11        3\n",
       "50        3\n",
       "20        2\n",
       "80        2\n",
       "0         1\n",
       "120       1\n",
       "7         1\n",
       "170       1\n",
       "150       1\n",
       "130       1\n",
       "90        1\n",
       "110       1\n",
       "2         1\n",
       "70        1\n",
       "40        1\n",
       "16        1\n",
       "15        1\n",
       "Name: rating_denominator, dtype: int64"
      ]
     },
     "execution_count": 16,
     "metadata": {},
     "output_type": "execute_result"
    }
   ],
   "source": [
    "# count tweets unique rating_denominator (just to be sure)\n",
    "df_enhanced.rating_denominator.value_counts()"
   ]
  },
  {
   "cell_type": "markdown",
   "metadata": {
    "cell_id": "2c38ed497ce44da986a87c7629f09f86",
    "deepnote_cell_type": "markdown",
    "deepnote_to_be_reexecuted": false,
    "execution_millis": 5,
    "execution_start": 1663106291344,
    "source_hash": "933acdc4",
    "tags": []
   },
   "source": [
    "Aha! I'm not comfortable having `rating_denominator` not equal to 10 considering over 99% of the values is 10."
   ]
  },
  {
   "cell_type": "code",
   "execution_count": null,
   "metadata": {
    "cell_id": "d6e2c553a20e4dee883f371462d376e8",
    "deepnote_cell_type": "code",
    "deepnote_to_be_reexecuted": false,
    "execution_millis": 48,
    "execution_start": 1663254795941,
    "source_hash": "4ee0006e",
    "tags": []
   },
   "outputs": [
    {
     "data": {
      "text/plain": [
       "None       745\n",
       "a           55\n",
       "Charlie     12\n",
       "Cooper      11\n",
       "Oliver      11\n",
       "          ... \n",
       "Obie         1\n",
       "Mya          1\n",
       "Apollo       1\n",
       "Joshwa       1\n",
       "Ace          1\n",
       "Name: name, Length: 957, dtype: int64"
      ]
     },
     "execution_count": 17,
     "metadata": {},
     "output_type": "execute_result"
    }
   ],
   "source": [
    "# count dog unique names (just to be sure)\n",
    "df_enhanced.name.value_counts()"
   ]
  },
  {
   "cell_type": "markdown",
   "metadata": {
    "cell_id": "d1dcc155b2f14457890b94e0a55ba319",
    "deepnote_cell_type": "markdown",
    "tags": []
   },
   "source": [
    "745 rows in the `name` column encoded as None meaning dog has no name. This is misleading as the pandas method `info()` indicate no missing value for this column above.\n",
    "\n",
    "PS: About 62 rows may be retweets and not actual dog rating tweets as discovered below."
   ]
  },
  {
   "cell_type": "code",
   "execution_count": null,
   "metadata": {
    "cell_id": "a9c6ff4202e54d4796b0b945afaace50",
    "deepnote_cell_type": "code",
    "deepnote_to_be_reexecuted": false,
    "execution_millis": 3,
    "execution_start": 1663254796036,
    "source_hash": "7c477f35",
    "tags": []
   },
   "outputs": [
    {
     "data": {
      "text/plain": [
       "683"
      ]
     },
     "execution_count": 18,
     "metadata": {},
     "output_type": "execute_result"
    }
   ],
   "source": [
    "# get name with None values\n",
    "check_name = df_enhanced[df_enhanced['name'] == 'None']\n",
    "# check to see the tweet text that has a link as those without are usually retweet\n",
    "check_name['text'].str.contains('https').sum()"
   ]
  },
  {
   "cell_type": "code",
   "execution_count": null,
   "metadata": {
    "cell_id": "88d14122df55424c8b196006a3d8e2c8",
    "deepnote_cell_type": "code",
    "deepnote_to_be_reexecuted": false,
    "execution_millis": 5,
    "execution_start": 1663254796037,
    "source_hash": "28a7d37f",
    "tags": []
   },
   "outputs": [
    {
     "data": {
      "application/vnd.deepnote.dataframe.v3+json": {
       "column_count": 17,
       "columns": [
        {
         "dtype": "int64",
         "name": "tweet_id",
         "stats": {
          "histogram": [
           {
            "bin_end": 0.1,
            "bin_start": 0,
            "count": 0
           },
           {
            "bin_end": 0.2,
            "bin_start": 0.1,
            "count": 0
           },
           {
            "bin_end": 0.30000000000000004,
            "bin_start": 0.2,
            "count": 0
           },
           {
            "bin_end": 0.4,
            "bin_start": 0.30000000000000004,
            "count": 0
           },
           {
            "bin_end": 0.5,
            "bin_start": 0.4,
            "count": 0
           },
           {
            "bin_end": 0.6000000000000001,
            "bin_start": 0.5,
            "count": 0
           },
           {
            "bin_end": 0.7000000000000001,
            "bin_start": 0.6000000000000001,
            "count": 0
           },
           {
            "bin_end": 0.8,
            "bin_start": 0.7000000000000001,
            "count": 0
           },
           {
            "bin_end": 0.9,
            "bin_start": 0.8,
            "count": 0
           },
           {
            "bin_end": 1,
            "bin_start": 0.9,
            "count": 0
           }
          ],
          "max": null,
          "min": null,
          "nan_count": 0,
          "unique_count": 0
         }
        },
        {
         "dtype": "float64",
         "name": "in_reply_to_status_id",
         "stats": {
          "histogram": [
           {
            "bin_end": 0.1,
            "bin_start": 0,
            "count": 0
           },
           {
            "bin_end": 0.2,
            "bin_start": 0.1,
            "count": 0
           },
           {
            "bin_end": 0.30000000000000004,
            "bin_start": 0.2,
            "count": 0
           },
           {
            "bin_end": 0.4,
            "bin_start": 0.30000000000000004,
            "count": 0
           },
           {
            "bin_end": 0.5,
            "bin_start": 0.4,
            "count": 0
           },
           {
            "bin_end": 0.6000000000000001,
            "bin_start": 0.5,
            "count": 0
           },
           {
            "bin_end": 0.7000000000000001,
            "bin_start": 0.6000000000000001,
            "count": 0
           },
           {
            "bin_end": 0.8,
            "bin_start": 0.7000000000000001,
            "count": 0
           },
           {
            "bin_end": 0.9,
            "bin_start": 0.8,
            "count": 0
           },
           {
            "bin_end": 1,
            "bin_start": 0.9,
            "count": 0
           }
          ],
          "max": null,
          "min": null,
          "nan_count": 0,
          "unique_count": 0
         }
        },
        {
         "dtype": "float64",
         "name": "in_reply_to_user_id",
         "stats": {
          "histogram": [
           {
            "bin_end": 0.1,
            "bin_start": 0,
            "count": 0
           },
           {
            "bin_end": 0.2,
            "bin_start": 0.1,
            "count": 0
           },
           {
            "bin_end": 0.30000000000000004,
            "bin_start": 0.2,
            "count": 0
           },
           {
            "bin_end": 0.4,
            "bin_start": 0.30000000000000004,
            "count": 0
           },
           {
            "bin_end": 0.5,
            "bin_start": 0.4,
            "count": 0
           },
           {
            "bin_end": 0.6000000000000001,
            "bin_start": 0.5,
            "count": 0
           },
           {
            "bin_end": 0.7000000000000001,
            "bin_start": 0.6000000000000001,
            "count": 0
           },
           {
            "bin_end": 0.8,
            "bin_start": 0.7000000000000001,
            "count": 0
           },
           {
            "bin_end": 0.9,
            "bin_start": 0.8,
            "count": 0
           },
           {
            "bin_end": 1,
            "bin_start": 0.9,
            "count": 0
           }
          ],
          "max": null,
          "min": null,
          "nan_count": 0,
          "unique_count": 0
         }
        },
        {
         "dtype": "object",
         "name": "timestamp",
         "stats": {
          "categories": [],
          "nan_count": 0,
          "unique_count": 0
         }
        },
        {
         "dtype": "object",
         "name": "source",
         "stats": {
          "categories": [],
          "nan_count": 0,
          "unique_count": 0
         }
        },
        {
         "dtype": "object",
         "name": "text",
         "stats": {
          "categories": [],
          "nan_count": 0,
          "unique_count": 0
         }
        },
        {
         "dtype": "float64",
         "name": "retweeted_status_id",
         "stats": {
          "histogram": [
           {
            "bin_end": 0.1,
            "bin_start": 0,
            "count": 0
           },
           {
            "bin_end": 0.2,
            "bin_start": 0.1,
            "count": 0
           },
           {
            "bin_end": 0.30000000000000004,
            "bin_start": 0.2,
            "count": 0
           },
           {
            "bin_end": 0.4,
            "bin_start": 0.30000000000000004,
            "count": 0
           },
           {
            "bin_end": 0.5,
            "bin_start": 0.4,
            "count": 0
           },
           {
            "bin_end": 0.6000000000000001,
            "bin_start": 0.5,
            "count": 0
           },
           {
            "bin_end": 0.7000000000000001,
            "bin_start": 0.6000000000000001,
            "count": 0
           },
           {
            "bin_end": 0.8,
            "bin_start": 0.7000000000000001,
            "count": 0
           },
           {
            "bin_end": 0.9,
            "bin_start": 0.8,
            "count": 0
           },
           {
            "bin_end": 1,
            "bin_start": 0.9,
            "count": 0
           }
          ],
          "max": null,
          "min": null,
          "nan_count": 0,
          "unique_count": 0
         }
        },
        {
         "dtype": "float64",
         "name": "retweeted_status_user_id",
         "stats": {
          "histogram": [
           {
            "bin_end": 0.1,
            "bin_start": 0,
            "count": 0
           },
           {
            "bin_end": 0.2,
            "bin_start": 0.1,
            "count": 0
           },
           {
            "bin_end": 0.30000000000000004,
            "bin_start": 0.2,
            "count": 0
           },
           {
            "bin_end": 0.4,
            "bin_start": 0.30000000000000004,
            "count": 0
           },
           {
            "bin_end": 0.5,
            "bin_start": 0.4,
            "count": 0
           },
           {
            "bin_end": 0.6000000000000001,
            "bin_start": 0.5,
            "count": 0
           },
           {
            "bin_end": 0.7000000000000001,
            "bin_start": 0.6000000000000001,
            "count": 0
           },
           {
            "bin_end": 0.8,
            "bin_start": 0.7000000000000001,
            "count": 0
           },
           {
            "bin_end": 0.9,
            "bin_start": 0.8,
            "count": 0
           },
           {
            "bin_end": 1,
            "bin_start": 0.9,
            "count": 0
           }
          ],
          "max": null,
          "min": null,
          "nan_count": 0,
          "unique_count": 0
         }
        },
        {
         "dtype": "object",
         "name": "retweeted_status_timestamp",
         "stats": {
          "categories": [],
          "nan_count": 0,
          "unique_count": 0
         }
        },
        {
         "dtype": "object",
         "name": "expanded_urls",
         "stats": {
          "categories": [],
          "nan_count": 0,
          "unique_count": 0
         }
        },
        {
         "dtype": "int64",
         "name": "rating_numerator",
         "stats": {
          "histogram": [
           {
            "bin_end": 0.1,
            "bin_start": 0,
            "count": 0
           },
           {
            "bin_end": 0.2,
            "bin_start": 0.1,
            "count": 0
           },
           {
            "bin_end": 0.30000000000000004,
            "bin_start": 0.2,
            "count": 0
           },
           {
            "bin_end": 0.4,
            "bin_start": 0.30000000000000004,
            "count": 0
           },
           {
            "bin_end": 0.5,
            "bin_start": 0.4,
            "count": 0
           },
           {
            "bin_end": 0.6000000000000001,
            "bin_start": 0.5,
            "count": 0
           },
           {
            "bin_end": 0.7000000000000001,
            "bin_start": 0.6000000000000001,
            "count": 0
           },
           {
            "bin_end": 0.8,
            "bin_start": 0.7000000000000001,
            "count": 0
           },
           {
            "bin_end": 0.9,
            "bin_start": 0.8,
            "count": 0
           },
           {
            "bin_end": 1,
            "bin_start": 0.9,
            "count": 0
           }
          ],
          "max": null,
          "min": null,
          "nan_count": 0,
          "unique_count": 0
         }
        },
        {
         "dtype": "int64",
         "name": "rating_denominator",
         "stats": {
          "histogram": [
           {
            "bin_end": 0.1,
            "bin_start": 0,
            "count": 0
           },
           {
            "bin_end": 0.2,
            "bin_start": 0.1,
            "count": 0
           },
           {
            "bin_end": 0.30000000000000004,
            "bin_start": 0.2,
            "count": 0
           },
           {
            "bin_end": 0.4,
            "bin_start": 0.30000000000000004,
            "count": 0
           },
           {
            "bin_end": 0.5,
            "bin_start": 0.4,
            "count": 0
           },
           {
            "bin_end": 0.6000000000000001,
            "bin_start": 0.5,
            "count": 0
           },
           {
            "bin_end": 0.7000000000000001,
            "bin_start": 0.6000000000000001,
            "count": 0
           },
           {
            "bin_end": 0.8,
            "bin_start": 0.7000000000000001,
            "count": 0
           },
           {
            "bin_end": 0.9,
            "bin_start": 0.8,
            "count": 0
           },
           {
            "bin_end": 1,
            "bin_start": 0.9,
            "count": 0
           }
          ],
          "max": null,
          "min": null,
          "nan_count": 0,
          "unique_count": 0
         }
        },
        {
         "dtype": "object",
         "name": "name",
         "stats": {
          "categories": [],
          "nan_count": 0,
          "unique_count": 0
         }
        },
        {
         "dtype": "object",
         "name": "doggo",
         "stats": {
          "categories": [],
          "nan_count": 0,
          "unique_count": 0
         }
        },
        {
         "dtype": "object",
         "name": "floofer",
         "stats": {
          "categories": [],
          "nan_count": 0,
          "unique_count": 0
         }
        },
        {
         "dtype": "object",
         "name": "pupper",
         "stats": {
          "categories": [],
          "nan_count": 0,
          "unique_count": 0
         }
        },
        {
         "dtype": "object",
         "name": "puppo",
         "stats": {
          "categories": [],
          "nan_count": 0,
          "unique_count": 0
         }
        },
        {
         "dtype": "int64",
         "name": "_deepnote_index_column"
        }
       ],
       "row_count": 0,
       "rows": []
      },
      "text/html": [
       "<div>\n",
       "<style scoped>\n",
       "    .dataframe tbody tr th:only-of-type {\n",
       "        vertical-align: middle;\n",
       "    }\n",
       "\n",
       "    .dataframe tbody tr th {\n",
       "        vertical-align: top;\n",
       "    }\n",
       "\n",
       "    .dataframe thead th {\n",
       "        text-align: right;\n",
       "    }\n",
       "</style>\n",
       "<table border=\"1\" class=\"dataframe\">\n",
       "  <thead>\n",
       "    <tr style=\"text-align: right;\">\n",
       "      <th></th>\n",
       "      <th>tweet_id</th>\n",
       "      <th>in_reply_to_status_id</th>\n",
       "      <th>in_reply_to_user_id</th>\n",
       "      <th>timestamp</th>\n",
       "      <th>source</th>\n",
       "      <th>text</th>\n",
       "      <th>retweeted_status_id</th>\n",
       "      <th>retweeted_status_user_id</th>\n",
       "      <th>retweeted_status_timestamp</th>\n",
       "      <th>expanded_urls</th>\n",
       "      <th>rating_numerator</th>\n",
       "      <th>rating_denominator</th>\n",
       "      <th>name</th>\n",
       "      <th>doggo</th>\n",
       "      <th>floofer</th>\n",
       "      <th>pupper</th>\n",
       "      <th>puppo</th>\n",
       "    </tr>\n",
       "  </thead>\n",
       "  <tbody>\n",
       "  </tbody>\n",
       "</table>\n",
       "</div>"
      ],
      "text/plain": [
       "Empty DataFrame\n",
       "Columns: [tweet_id, in_reply_to_status_id, in_reply_to_user_id, timestamp, source, text, retweeted_status_id, retweeted_status_user_id, retweeted_status_timestamp, expanded_urls, rating_numerator, rating_denominator, name, doggo, floofer, pupper, puppo]\n",
       "Index: []"
      ]
     },
     "execution_count": 19,
     "metadata": {},
     "output_type": "execute_result"
    }
   ],
   "source": [
    "# checking for duplicated IDs or text\n",
    "df_enhanced[df_enhanced.duplicated(['tweet_id', 'text'])]"
   ]
  },
  {
   "cell_type": "markdown",
   "metadata": {
    "cell_id": "d7d4b5377e6041e2b6435f89730161dd",
    "deepnote_cell_type": "markdown",
    "tags": []
   },
   "source": [
    "no duplicate rows for IDs or text"
   ]
  },
  {
   "cell_type": "markdown",
   "metadata": {
    "cell_id": "cabd01cadcbe45968daa64001e700f9a",
    "deepnote_cell_type": "markdown",
    "deepnote_to_be_reexecuted": false,
    "execution_millis": 0,
    "execution_start": 1663108760542,
    "source_hash": "878e340c",
    "tags": []
   },
   "source": [
    "#### Prediction dataset"
   ]
  },
  {
   "cell_type": "code",
   "execution_count": null,
   "metadata": {
    "cell_id": "bf677feb61d44b9aadd131b5859d205d",
    "deepnote_cell_type": "code",
    "deepnote_to_be_reexecuted": false,
    "execution_millis": 9,
    "execution_start": 1663254796044,
    "source_hash": "e8dd45af",
    "tags": []
   },
   "outputs": [
    {
     "name": "stdout",
     "output_type": "stream",
     "text": [
      "<class 'pandas.core.frame.DataFrame'>\n",
      "RangeIndex: 2075 entries, 0 to 2074\n",
      "Data columns (total 12 columns):\n",
      " #   Column    Non-Null Count  Dtype  \n",
      "---  ------    --------------  -----  \n",
      " 0   tweet_id  2075 non-null   int64  \n",
      " 1   jpg_url   2075 non-null   object \n",
      " 2   img_num   2075 non-null   int64  \n",
      " 3   p1        2075 non-null   object \n",
      " 4   p1_conf   2075 non-null   float64\n",
      " 5   p1_dog    2075 non-null   bool   \n",
      " 6   p2        2075 non-null   object \n",
      " 7   p2_conf   2075 non-null   float64\n",
      " 8   p2_dog    2075 non-null   bool   \n",
      " 9   p3        2075 non-null   object \n",
      " 10  p3_conf   2075 non-null   float64\n",
      " 11  p3_dog    2075 non-null   bool   \n",
      "dtypes: bool(3), float64(3), int64(2), object(4)\n",
      "memory usage: 152.1+ KB\n"
     ]
    }
   ],
   "source": [
    "df_predictions.info()"
   ]
  },
  {
   "cell_type": "markdown",
   "metadata": {
    "cell_id": "4c7e7aea6cff4d8080ff2063ed966723",
    "deepnote_cell_type": "markdown",
    "tags": []
   },
   "source": [
    "**Observation**: No missing values. `tweet_id` column datatype may need to be converted from *integer* to *string*; since it values does not represent money, measurements or any sort of preference."
   ]
  },
  {
   "cell_type": "code",
   "execution_count": null,
   "metadata": {
    "cell_id": "03aa717bdb5941a0a315dfae2d48d4a3",
    "deepnote_cell_type": "code",
    "deepnote_to_be_reexecuted": false,
    "execution_millis": 27,
    "execution_start": 1663254796097,
    "source_hash": "6ce620cb",
    "tags": []
   },
   "outputs": [
    {
     "data": {
      "application/vnd.deepnote.dataframe.v3+json": {
       "column_count": 12,
       "columns": [
        {
         "dtype": "int64",
         "name": "tweet_id",
         "stats": {
          "histogram": [
           {
            "bin_end": 0.1,
            "bin_start": 0,
            "count": 0
           },
           {
            "bin_end": 0.2,
            "bin_start": 0.1,
            "count": 0
           },
           {
            "bin_end": 0.30000000000000004,
            "bin_start": 0.2,
            "count": 0
           },
           {
            "bin_end": 0.4,
            "bin_start": 0.30000000000000004,
            "count": 0
           },
           {
            "bin_end": 0.5,
            "bin_start": 0.4,
            "count": 0
           },
           {
            "bin_end": 0.6000000000000001,
            "bin_start": 0.5,
            "count": 0
           },
           {
            "bin_end": 0.7000000000000001,
            "bin_start": 0.6000000000000001,
            "count": 0
           },
           {
            "bin_end": 0.8,
            "bin_start": 0.7000000000000001,
            "count": 0
           },
           {
            "bin_end": 0.9,
            "bin_start": 0.8,
            "count": 0
           },
           {
            "bin_end": 1,
            "bin_start": 0.9,
            "count": 0
           }
          ],
          "max": null,
          "min": null,
          "nan_count": 0,
          "unique_count": 0
         }
        },
        {
         "dtype": "object",
         "name": "jpg_url",
         "stats": {
          "categories": [],
          "nan_count": 0,
          "unique_count": 0
         }
        },
        {
         "dtype": "int64",
         "name": "img_num",
         "stats": {
          "histogram": [
           {
            "bin_end": 0.1,
            "bin_start": 0,
            "count": 0
           },
           {
            "bin_end": 0.2,
            "bin_start": 0.1,
            "count": 0
           },
           {
            "bin_end": 0.30000000000000004,
            "bin_start": 0.2,
            "count": 0
           },
           {
            "bin_end": 0.4,
            "bin_start": 0.30000000000000004,
            "count": 0
           },
           {
            "bin_end": 0.5,
            "bin_start": 0.4,
            "count": 0
           },
           {
            "bin_end": 0.6000000000000001,
            "bin_start": 0.5,
            "count": 0
           },
           {
            "bin_end": 0.7000000000000001,
            "bin_start": 0.6000000000000001,
            "count": 0
           },
           {
            "bin_end": 0.8,
            "bin_start": 0.7000000000000001,
            "count": 0
           },
           {
            "bin_end": 0.9,
            "bin_start": 0.8,
            "count": 0
           },
           {
            "bin_end": 1,
            "bin_start": 0.9,
            "count": 0
           }
          ],
          "max": null,
          "min": null,
          "nan_count": 0,
          "unique_count": 0
         }
        },
        {
         "dtype": "object",
         "name": "p1",
         "stats": {
          "categories": [],
          "nan_count": 0,
          "unique_count": 0
         }
        },
        {
         "dtype": "float64",
         "name": "p1_conf",
         "stats": {
          "histogram": [
           {
            "bin_end": 0.1,
            "bin_start": 0,
            "count": 0
           },
           {
            "bin_end": 0.2,
            "bin_start": 0.1,
            "count": 0
           },
           {
            "bin_end": 0.30000000000000004,
            "bin_start": 0.2,
            "count": 0
           },
           {
            "bin_end": 0.4,
            "bin_start": 0.30000000000000004,
            "count": 0
           },
           {
            "bin_end": 0.5,
            "bin_start": 0.4,
            "count": 0
           },
           {
            "bin_end": 0.6000000000000001,
            "bin_start": 0.5,
            "count": 0
           },
           {
            "bin_end": 0.7000000000000001,
            "bin_start": 0.6000000000000001,
            "count": 0
           },
           {
            "bin_end": 0.8,
            "bin_start": 0.7000000000000001,
            "count": 0
           },
           {
            "bin_end": 0.9,
            "bin_start": 0.8,
            "count": 0
           },
           {
            "bin_end": 1,
            "bin_start": 0.9,
            "count": 0
           }
          ],
          "max": null,
          "min": null,
          "nan_count": 0,
          "unique_count": 0
         }
        },
        {
         "dtype": "bool",
         "name": "p1_dog",
         "stats": {
          "categories": [],
          "nan_count": 0,
          "unique_count": 0
         }
        },
        {
         "dtype": "object",
         "name": "p2",
         "stats": {
          "categories": [],
          "nan_count": 0,
          "unique_count": 0
         }
        },
        {
         "dtype": "float64",
         "name": "p2_conf",
         "stats": {
          "histogram": [
           {
            "bin_end": 0.1,
            "bin_start": 0,
            "count": 0
           },
           {
            "bin_end": 0.2,
            "bin_start": 0.1,
            "count": 0
           },
           {
            "bin_end": 0.30000000000000004,
            "bin_start": 0.2,
            "count": 0
           },
           {
            "bin_end": 0.4,
            "bin_start": 0.30000000000000004,
            "count": 0
           },
           {
            "bin_end": 0.5,
            "bin_start": 0.4,
            "count": 0
           },
           {
            "bin_end": 0.6000000000000001,
            "bin_start": 0.5,
            "count": 0
           },
           {
            "bin_end": 0.7000000000000001,
            "bin_start": 0.6000000000000001,
            "count": 0
           },
           {
            "bin_end": 0.8,
            "bin_start": 0.7000000000000001,
            "count": 0
           },
           {
            "bin_end": 0.9,
            "bin_start": 0.8,
            "count": 0
           },
           {
            "bin_end": 1,
            "bin_start": 0.9,
            "count": 0
           }
          ],
          "max": null,
          "min": null,
          "nan_count": 0,
          "unique_count": 0
         }
        },
        {
         "dtype": "bool",
         "name": "p2_dog",
         "stats": {
          "categories": [],
          "nan_count": 0,
          "unique_count": 0
         }
        },
        {
         "dtype": "object",
         "name": "p3",
         "stats": {
          "categories": [],
          "nan_count": 0,
          "unique_count": 0
         }
        },
        {
         "dtype": "float64",
         "name": "p3_conf",
         "stats": {
          "histogram": [
           {
            "bin_end": 0.1,
            "bin_start": 0,
            "count": 0
           },
           {
            "bin_end": 0.2,
            "bin_start": 0.1,
            "count": 0
           },
           {
            "bin_end": 0.30000000000000004,
            "bin_start": 0.2,
            "count": 0
           },
           {
            "bin_end": 0.4,
            "bin_start": 0.30000000000000004,
            "count": 0
           },
           {
            "bin_end": 0.5,
            "bin_start": 0.4,
            "count": 0
           },
           {
            "bin_end": 0.6000000000000001,
            "bin_start": 0.5,
            "count": 0
           },
           {
            "bin_end": 0.7000000000000001,
            "bin_start": 0.6000000000000001,
            "count": 0
           },
           {
            "bin_end": 0.8,
            "bin_start": 0.7000000000000001,
            "count": 0
           },
           {
            "bin_end": 0.9,
            "bin_start": 0.8,
            "count": 0
           },
           {
            "bin_end": 1,
            "bin_start": 0.9,
            "count": 0
           }
          ],
          "max": null,
          "min": null,
          "nan_count": 0,
          "unique_count": 0
         }
        },
        {
         "dtype": "bool",
         "name": "p3_dog",
         "stats": {
          "categories": [],
          "nan_count": 0,
          "unique_count": 0
         }
        },
        {
         "dtype": "int64",
         "name": "_deepnote_index_column"
        }
       ],
       "row_count": 0,
       "rows": []
      },
      "text/html": [
       "<div>\n",
       "<style scoped>\n",
       "    .dataframe tbody tr th:only-of-type {\n",
       "        vertical-align: middle;\n",
       "    }\n",
       "\n",
       "    .dataframe tbody tr th {\n",
       "        vertical-align: top;\n",
       "    }\n",
       "\n",
       "    .dataframe thead th {\n",
       "        text-align: right;\n",
       "    }\n",
       "</style>\n",
       "<table border=\"1\" class=\"dataframe\">\n",
       "  <thead>\n",
       "    <tr style=\"text-align: right;\">\n",
       "      <th></th>\n",
       "      <th>tweet_id</th>\n",
       "      <th>jpg_url</th>\n",
       "      <th>img_num</th>\n",
       "      <th>p1</th>\n",
       "      <th>p1_conf</th>\n",
       "      <th>p1_dog</th>\n",
       "      <th>p2</th>\n",
       "      <th>p2_conf</th>\n",
       "      <th>p2_dog</th>\n",
       "      <th>p3</th>\n",
       "      <th>p3_conf</th>\n",
       "      <th>p3_dog</th>\n",
       "    </tr>\n",
       "  </thead>\n",
       "  <tbody>\n",
       "  </tbody>\n",
       "</table>\n",
       "</div>"
      ],
      "text/plain": [
       "Empty DataFrame\n",
       "Columns: [tweet_id, jpg_url, img_num, p1, p1_conf, p1_dog, p2, p2_conf, p2_dog, p3, p3_conf, p3_dog]\n",
       "Index: []"
      ]
     },
     "execution_count": 21,
     "metadata": {},
     "output_type": "execute_result"
    }
   ],
   "source": [
    "# checking for duplicated IDs or and jpg_url\n",
    "df_predictions[df_predictions.duplicated(['tweet_id', 'jpg_url'])]"
   ]
  },
  {
   "cell_type": "markdown",
   "metadata": {
    "cell_id": "8fc4e925ed414e5bb44db4578d40e49d",
    "deepnote_cell_type": "markdown",
    "tags": []
   },
   "source": [
    "No duplicated IDs or jpg urls"
   ]
  },
  {
   "cell_type": "code",
   "execution_count": null,
   "metadata": {
    "cell_id": "362355f0267a4f87b5eab55f8daadb47",
    "deepnote_cell_type": "code",
    "deepnote_to_be_reexecuted": false,
    "execution_millis": 13,
    "execution_start": 1663254796117,
    "source_hash": "761e9acf",
    "tags": []
   },
   "outputs": [
    {
     "name": "stdout",
     "output_type": "stream",
     "text": [
      "<class 'pandas.core.frame.DataFrame'>\n",
      "RangeIndex: 2327 entries, 0 to 2326\n",
      "Data columns (total 4 columns):\n",
      " #   Column          Non-Null Count  Dtype              \n",
      "---  ------          --------------  -----              \n",
      " 0   id              2327 non-null   int64              \n",
      " 1   retweet_count   2327 non-null   int64              \n",
      " 2   favorite_count  2327 non-null   int64              \n",
      " 3   created_at      2327 non-null   datetime64[ns, UTC]\n",
      "dtypes: datetime64[ns, UTC](1), int64(3)\n",
      "memory usage: 72.8 KB\n"
     ]
    }
   ],
   "source": [
    "df_tweet_count.info()"
   ]
  },
  {
   "cell_type": "markdown",
   "metadata": {
    "cell_id": "ac2ffbdfedb041fab2ba5413363508ae",
    "deepnote_cell_type": "markdown",
    "deepnote_to_be_reexecuted": false,
    "execution_millis": 2,
    "execution_start": 1663100616099,
    "source_hash": "8086ca4c",
    "tags": []
   },
   "source": [
    "**Observation**: No missing values. tweet_id column datatype may need to be converted from integer to string; since it values does not represent money, measurements or any sort of preference."
   ]
  },
  {
   "cell_type": "code",
   "execution_count": null,
   "metadata": {
    "cell_id": "a95447b858ec4449b451887defc3021a",
    "deepnote_cell_type": "code",
    "deepnote_to_be_reexecuted": false,
    "execution_millis": 17,
    "execution_start": 1663254796127,
    "source_hash": "b00929f8",
    "tags": []
   },
   "outputs": [
    {
     "data": {
      "text/plain": [
       "(0, 4)"
      ]
     },
     "execution_count": 23,
     "metadata": {},
     "output_type": "execute_result"
    }
   ],
   "source": [
    "# check to see if any data beyond 2nd of August 2017 exist\n",
    "df_tweet_count[df_tweet_count['created_at'] >= '2017-08-02'].shape"
   ]
  },
  {
   "cell_type": "markdown",
   "metadata": {
    "cell_id": "ac706bec26e14b9593f8e5d9bb5998e9",
    "deepnote_cell_type": "markdown",
    "deepnote_to_be_reexecuted": false,
    "execution_millis": 412,
    "execution_start": 1663068780615,
    "source_hash": "5ec65961",
    "tags": []
   },
   "source": [
    "**Why check for this?** as stated in the project instructions, no prediction algorithm was applied for dataset beyond 02 August 2017.\n",
    "\n",
    "none is in the dataset."
   ]
  },
  {
   "cell_type": "markdown",
   "metadata": {
    "cell_id": "0fdee498b2914c09a63a815f2503e680",
    "deepnote_cell_type": "markdown"
   },
   "source": [
    "### Quality issues\n",
    "1. The `source` column in the enhanced dataset has unnecesary HTML code\n",
    "\n",
    "2. The `name` column in the enhanced dataset have several missing name represented as None.\n",
    "\n",
    "3. `p1_conf`, `p2_conf`, and `p3_conf` in `df_predictions` are not descriptive enough and should be renamed.\n",
    "\n",
    "4. The `timestamp` in the enhanced dataset is not in datetime format.\n",
    "\n",
    "5. `id` in `df_tweet_count` should be renamed to `tweet_id`\n",
    "\n",
    "6. The `tweet_id` (id in df_tweet_count) column in the three datasets are stored as int values and should be strings.\n",
    "\n",
    "7. There are some tweets that are retweets or replies and we don't need them.\n",
    "\n",
    "8. Remove `rating_denominator` values not equal to 10 as they are wrong and mostly extreme values e.g  a single instance of 0\n",
    " "
   ]
  },
  {
   "cell_type": "markdown",
   "metadata": {
    "cell_id": "d4cb57c75e5d48338f419c72eb0768f1",
    "deepnote_cell_type": "markdown",
    "extensions": {
     "jupyter_dashboards": {
      "version": 1,
      "views": {
       "grid_default": {
        "col": 0,
        "height": 7,
        "hidden": false,
        "row": 40,
        "width": 12
       },
       "report_default": {
        "hidden": false
       }
      }
     }
    }
   },
   "source": [
    "### Tidiness issues\n",
    "1. `doggo`, `floofer`, `pupper`, `puppo` in `df_enhanced` should be values in a single column rather than distinct column names.\n",
    "\n",
    "2. `df_tweet_count` shouldn't be alone but should be merged with `df_enhanced`"
   ]
  },
  {
   "cell_type": "markdown",
   "metadata": {
    "cell_id": "a97c4d1179fb46cf8795ea1105a20bff",
    "deepnote_cell_type": "markdown",
    "extensions": {
     "jupyter_dashboards": {
      "version": 1,
      "views": {
       "grid_default": {
        "col": 4,
        "height": 4,
        "hidden": false,
        "row": 32,
        "width": 4
       },
       "report_default": {
        "hidden": false
       }
      }
     }
    }
   },
   "source": [
    "## Cleaning Data\n",
    "In this section, clean **all** of the issues you documented while assessing. \n",
    "\n",
    "**Note:** Make a copy of the original data before cleaning. Cleaning includes merging individual pieces of data according to the rules of [tidy data](https://cran.r-project.org/web/packages/tidyr/vignettes/tidy-data.html). The result should be a high-quality and tidy master pandas DataFrame (or DataFrames, if appropriate)."
   ]
  },
  {
   "cell_type": "code",
   "execution_count": null,
   "metadata": {
    "cell_id": "d6b0146982064752b40d280aa8325dc9",
    "deepnote_cell_type": "code",
    "deepnote_to_be_reexecuted": false,
    "execution_millis": 9,
    "execution_start": 1663254796128,
    "source_hash": "9ed7d546"
   },
   "outputs": [],
   "source": [
    "# Make copies of original pieces of data\n",
    "df_enhanced_copy = df_enhanced.copy()\n",
    "df_predictions_copy = df_predictions.copy()\n",
    "df_tweet_count_copy = df_tweet_count.copy()"
   ]
  },
  {
   "cell_type": "markdown",
   "metadata": {
    "cell_id": "654f41bb34004082b00eb87b0ea6aa5e",
    "deepnote_cell_type": "markdown"
   },
   "source": [
    "### 1. The `source` column in the enhanced dataset has unnecesary HTML code"
   ]
  },
  {
   "cell_type": "markdown",
   "metadata": {
    "cell_id": "9504b6f280b94e31ad2470274901be11",
    "deepnote_cell_type": "markdown"
   },
   "source": [
    "#### Define:\n",
    "Remove all HTML code from the `source` column in the `df_enhanced_copy` dataframe leaving just the source name."
   ]
  },
  {
   "cell_type": "markdown",
   "metadata": {
    "cell_id": "288e36da70a040dd89844b3624b4351a",
    "deepnote_cell_type": "markdown"
   },
   "source": [
    "#### Code"
   ]
  },
  {
   "cell_type": "code",
   "execution_count": null,
   "metadata": {
    "cell_id": "6887ee89ceb54db8848f0e3299ea6568",
    "deepnote_cell_type": "code",
    "deepnote_to_be_reexecuted": false,
    "execution_millis": 5,
    "execution_start": 1663254796137,
    "source_hash": "88ab307a"
   },
   "outputs": [],
   "source": [
    "clean_source = df_enhanced_copy.source.str.extract('>(.*?)<')\n",
    "df_enhanced_copy.source = clean_source"
   ]
  },
  {
   "cell_type": "markdown",
   "metadata": {
    "cell_id": "b9b1313ac6de4cbd9d11a20863279b5f",
    "deepnote_cell_type": "markdown"
   },
   "source": [
    "#### Test"
   ]
  },
  {
   "cell_type": "code",
   "execution_count": null,
   "metadata": {
    "cell_id": "57aa4b8b45eb49d793b38769cb9e5fba",
    "deepnote_cell_type": "code",
    "deepnote_to_be_reexecuted": false,
    "execution_millis": 76,
    "execution_start": 1663254796148,
    "source_hash": "fb2f1e46"
   },
   "outputs": [
    {
     "data": {
      "text/plain": [
       "Twitter for iPhone     2221\n",
       "Vine - Make a Scene      91\n",
       "Twitter Web Client       33\n",
       "TweetDeck                11\n",
       "Name: source, dtype: int64"
      ]
     },
     "execution_count": 26,
     "metadata": {},
     "output_type": "execute_result"
    }
   ],
   "source": [
    "df_enhanced_copy.source.value_counts()"
   ]
  },
  {
   "cell_type": "markdown",
   "metadata": {
    "cell_id": "7ced2dd54a39449fbb158093023d3138",
    "deepnote_cell_type": "markdown"
   },
   "source": [
    "### 2. The `name` column in the enhanced dataset have several missing name represented as None."
   ]
  },
  {
   "cell_type": "markdown",
   "metadata": {
    "cell_id": "b728e093ce6248f5b9990c8f748ace5f",
    "collapsed": true,
    "deepnote_cell_type": "markdown",
    "extensions": {
     "jupyter_dashboards": {
      "version": 1,
      "views": {
       "grid_default": {
        "hidden": true
       },
       "report_default": {
        "hidden": true
       }
      }
     }
    }
   },
   "source": [
    "#### Define\n",
    "In the `name` column, find rows with string value None and replace with NaN "
   ]
  },
  {
   "cell_type": "markdown",
   "metadata": {
    "cell_id": "777883b1582b4738b78b685fd6fb5932",
    "deepnote_cell_type": "markdown"
   },
   "source": [
    "#### Code"
   ]
  },
  {
   "cell_type": "code",
   "execution_count": null,
   "metadata": {
    "cell_id": "4ae52dbccb11485386d6bfe2feff234c",
    "deepnote_cell_type": "code",
    "deepnote_to_be_reexecuted": false,
    "execution_millis": 36,
    "execution_start": 1663254796151,
    "source_hash": "8a8307f1"
   },
   "outputs": [],
   "source": [
    "df_enhanced_copy.name = df_enhanced_copy.name.replace(to_replace='None', value=np.nan)"
   ]
  },
  {
   "cell_type": "markdown",
   "metadata": {
    "cell_id": "634d60a239d34599b83d8f39ef221b9f",
    "deepnote_cell_type": "markdown"
   },
   "source": [
    "#### Test"
   ]
  },
  {
   "cell_type": "code",
   "execution_count": null,
   "metadata": {
    "cell_id": "aa59e65ec0dc414699b838325a4874f9",
    "deepnote_cell_type": "code",
    "deepnote_to_be_reexecuted": false,
    "execution_millis": 32,
    "execution_start": 1663254796192,
    "source_hash": "d37a0fa"
   },
   "outputs": [
    {
     "data": {
      "text/plain": [
       "0"
      ]
     },
     "execution_count": 28,
     "metadata": {},
     "output_type": "execute_result"
    }
   ],
   "source": [
    "df_enhanced_copy[df_enhanced_copy.name == 'None'].shape[0]\n",
    "#df_enhanced_copy.name.value_counts()"
   ]
  },
  {
   "cell_type": "markdown",
   "metadata": {
    "cell_id": "e3e226f9932749eebdd4dfcb6326a110",
    "deepnote_cell_type": "markdown",
    "deepnote_to_be_reexecuted": false,
    "execution_millis": 0,
    "execution_start": 1663121548455,
    "source_hash": "abba4546",
    "tags": []
   },
   "source": [
    "### 3. `p1_conf`, `p2_conf`, and `p3_conf` in `df_predictions` are not descriptive\n"
   ]
  },
  {
   "cell_type": "markdown",
   "metadata": {
    "cell_id": "27393e474bb8439cbe960ba92130c21a",
    "deepnote_cell_type": "markdown",
    "tags": []
   },
   "source": [
    "#### Define\n",
    "Rename the three columns `p1_conf`, `p2_conf`, and `p3_conf` in the `df_predictions_copy` dataframe with `p1_confidence`, `p2_confidence`, and `p3_confidence` respectively."
   ]
  },
  {
   "cell_type": "markdown",
   "metadata": {
    "cell_id": "c3d6752336054756b9e4f428aebe98c2",
    "deepnote_cell_type": "markdown",
    "tags": []
   },
   "source": [
    "#### Code"
   ]
  },
  {
   "cell_type": "code",
   "execution_count": null,
   "metadata": {
    "cell_id": "b05364a157ab4d2595973da34c9f96f2",
    "deepnote_cell_type": "code",
    "deepnote_to_be_reexecuted": false,
    "execution_millis": 0,
    "execution_start": 1663254796233,
    "source_hash": "3e943bf4",
    "tags": []
   },
   "outputs": [],
   "source": [
    "df_predictions_copy.rename(columns={'p1_conf': 'p1_confidence', 'p2_conf': 'p2_confidence', 'p3_conf': 'p3_confidence'}, inplace=True, errors='raise')"
   ]
  },
  {
   "cell_type": "markdown",
   "metadata": {
    "cell_id": "acaf60cf13ee47d898593738e4b51eef",
    "deepnote_cell_type": "markdown",
    "tags": []
   },
   "source": [
    "#### Test"
   ]
  },
  {
   "cell_type": "code",
   "execution_count": null,
   "metadata": {
    "cell_id": "7aeb624454c54e6b9706435e11b9852d",
    "deepnote_cell_type": "code",
    "deepnote_to_be_reexecuted": false,
    "execution_millis": 6,
    "execution_start": 1663254796234,
    "source_hash": "75d6c2d8",
    "tags": []
   },
   "outputs": [
    {
     "data": {
      "text/plain": [
       "Index(['tweet_id', 'jpg_url', 'img_num', 'p1', 'p1_confidence', 'p1_dog', 'p2',\n",
       "       'p2_confidence', 'p2_dog', 'p3', 'p3_confidence', 'p3_dog'],\n",
       "      dtype='object')"
      ]
     },
     "execution_count": 30,
     "metadata": {},
     "output_type": "execute_result"
    }
   ],
   "source": [
    "df_predictions_copy.columns"
   ]
  },
  {
   "cell_type": "markdown",
   "metadata": {
    "cell_id": "147082158af24a9191fafd3f6f998e82",
    "deepnote_cell_type": "markdown",
    "tags": []
   },
   "source": [
    "### 4. The `timestamp` in the enhanced dataset is not in datetime format."
   ]
  },
  {
   "cell_type": "markdown",
   "metadata": {
    "cell_id": "cc58ff766802475b952074447001b81c",
    "deepnote_cell_type": "markdown",
    "tags": []
   },
   "source": [
    "#### Define\n",
    "Change `timestamp` data format to datetime in the `df_enhanced_copy` dataframe"
   ]
  },
  {
   "cell_type": "markdown",
   "metadata": {
    "cell_id": "fa367e3e9b1244a99e3d9c08d56ed6f6",
    "deepnote_cell_type": "markdown",
    "deepnote_to_be_reexecuted": false,
    "execution_millis": 0,
    "execution_start": 1663122419543,
    "source_hash": "45b4876",
    "tags": []
   },
   "source": [
    "#### Code"
   ]
  },
  {
   "cell_type": "code",
   "execution_count": null,
   "metadata": {
    "cell_id": "bf2343593ff04490a4cb22a97f59317e",
    "deepnote_cell_type": "code",
    "deepnote_to_be_reexecuted": false,
    "execution_millis": 1,
    "execution_start": 1663254796234,
    "source_hash": "ead25e63",
    "tags": []
   },
   "outputs": [],
   "source": [
    "df_enhanced_copy.timestamp = pd.to_datetime(df_enhanced_copy.timestamp)"
   ]
  },
  {
   "cell_type": "markdown",
   "metadata": {
    "cell_id": "8b7d349cc39247a18bb15a32816f570b",
    "deepnote_cell_type": "markdown",
    "tags": []
   },
   "source": [
    "#### Test"
   ]
  },
  {
   "cell_type": "code",
   "execution_count": null,
   "metadata": {
    "cell_id": "4cfd46904c1647c18316dae22e3aa506",
    "deepnote_cell_type": "code",
    "deepnote_to_be_reexecuted": false,
    "execution_millis": 5,
    "execution_start": 1663254796239,
    "source_hash": "893f9519",
    "tags": []
   },
   "outputs": [
    {
     "data": {
      "text/plain": [
       "tweet_id                                    int64\n",
       "in_reply_to_status_id                     float64\n",
       "in_reply_to_user_id                       float64\n",
       "timestamp                     datetime64[ns, UTC]\n",
       "source                                     object\n",
       "text                                       object\n",
       "retweeted_status_id                       float64\n",
       "retweeted_status_user_id                  float64\n",
       "retweeted_status_timestamp                 object\n",
       "expanded_urls                              object\n",
       "rating_numerator                            int64\n",
       "rating_denominator                          int64\n",
       "name                                       object\n",
       "doggo                                      object\n",
       "floofer                                    object\n",
       "pupper                                     object\n",
       "puppo                                      object\n",
       "dtype: object"
      ]
     },
     "execution_count": 32,
     "metadata": {},
     "output_type": "execute_result"
    }
   ],
   "source": [
    "df_enhanced_copy.dtypes"
   ]
  },
  {
   "cell_type": "markdown",
   "metadata": {
    "cell_id": "dd9bfb4cc24d423a861e3f087814770f",
    "deepnote_cell_type": "markdown",
    "tags": []
   },
   "source": [
    "### 5. `id` in `df_tweet_count` should be renamed to `tweet_id`"
   ]
  },
  {
   "cell_type": "markdown",
   "metadata": {
    "cell_id": "dff250f4c07540f08f85367eb67626f2",
    "deepnote_cell_type": "markdown",
    "deepnote_to_be_reexecuted": false,
    "execution_millis": 1,
    "execution_start": 1663122995571,
    "source_hash": "3882ef65",
    "tags": []
   },
   "source": [
    "#### Define\n",
    "Rename `id` column to `tweet_id` in the `df_tweet_count_copy` dataframe"
   ]
  },
  {
   "cell_type": "markdown",
   "metadata": {
    "cell_id": "f42fd06e07c14980b79f67b27caffe3c",
    "deepnote_cell_type": "markdown",
    "tags": []
   },
   "source": [
    "#### Code"
   ]
  },
  {
   "cell_type": "code",
   "execution_count": null,
   "metadata": {
    "cell_id": "a4cc0f9161864b98bc85ba86a3c5c4ea",
    "deepnote_cell_type": "code",
    "deepnote_to_be_reexecuted": false,
    "execution_millis": 3,
    "execution_start": 1663254796239,
    "source_hash": "59ace9dc",
    "tags": []
   },
   "outputs": [],
   "source": [
    "df_tweet_count_copy.rename(columns={'id': 'tweet_id'}, inplace=True, errors='raise')"
   ]
  },
  {
   "cell_type": "markdown",
   "metadata": {
    "cell_id": "23bc9bc3cd3b4a07bec102ae8b3b20c3",
    "deepnote_cell_type": "markdown",
    "tags": []
   },
   "source": [
    "#### Test"
   ]
  },
  {
   "cell_type": "code",
   "execution_count": null,
   "metadata": {
    "cell_id": "a98367c1380044fc807736df48f5d34d",
    "deepnote_cell_type": "code",
    "deepnote_to_be_reexecuted": false,
    "execution_millis": 5,
    "execution_start": 1663254796243,
    "source_hash": "2a8708dc",
    "tags": []
   },
   "outputs": [
    {
     "data": {
      "text/plain": [
       "Index(['tweet_id', 'retweet_count', 'favorite_count', 'created_at'], dtype='object')"
      ]
     },
     "execution_count": 34,
     "metadata": {},
     "output_type": "execute_result"
    }
   ],
   "source": [
    "df_tweet_count_copy.columns"
   ]
  },
  {
   "cell_type": "markdown",
   "metadata": {
    "cell_id": "1d09092624bf4571b92e48d5fd663f9d",
    "deepnote_cell_type": "markdown",
    "tags": []
   },
   "source": [
    "### 6. The `tweet_id` (id in df_tweet_count) column in the three datasets are integer datatypes and should be strings."
   ]
  },
  {
   "cell_type": "markdown",
   "metadata": {
    "cell_id": "024b67f6d3e6476698fe7f1f67618cda",
    "deepnote_cell_type": "markdown",
    "deepnote_to_be_reexecuted": false,
    "execution_millis": 0,
    "execution_start": 1663122719651,
    "source_hash": "3882ef65",
    "tags": []
   },
   "source": [
    "#### Define\n",
    "In the three dataframes(`df_enhanced_copy`, `df_predictions`, `df_tweet_count_copy`) change the `tweet_id` columns from `int` datatype to string datatype."
   ]
  },
  {
   "cell_type": "markdown",
   "metadata": {
    "cell_id": "8840ccc0a3c24a7bae04d4c7ce9c70b0",
    "deepnote_cell_type": "markdown",
    "deepnote_to_be_reexecuted": false,
    "execution_millis": 1,
    "execution_start": 1663122728507,
    "source_hash": "45b4876",
    "tags": []
   },
   "source": [
    "#### Code"
   ]
  },
  {
   "cell_type": "code",
   "execution_count": null,
   "metadata": {
    "cell_id": "397254fc6e9d4705b6d8ea96633a34c1",
    "deepnote_cell_type": "code",
    "deepnote_to_be_reexecuted": false,
    "execution_millis": 5,
    "execution_start": 1663254796297,
    "source_hash": "c2039881",
    "tags": []
   },
   "outputs": [],
   "source": [
    "df_enhanced_copy.tweet_id = df_enhanced_copy.tweet_id.astype(str)\n",
    "df_predictions_copy.tweet_id = df_predictions_copy.tweet_id.astype(str)\n",
    "df_tweet_count_copy.tweet_id = df_tweet_count_copy.tweet_id.astype(str)"
   ]
  },
  {
   "cell_type": "markdown",
   "metadata": {
    "cell_id": "88f381eb4b654445ae5b3d067fa25e48",
    "deepnote_cell_type": "markdown",
    "tags": []
   },
   "source": [
    "#### Test"
   ]
  },
  {
   "cell_type": "code",
   "execution_count": null,
   "metadata": {
    "cell_id": "4c0856488ef34c23a5a20f18c37b292e",
    "deepnote_cell_type": "code",
    "deepnote_to_be_reexecuted": false,
    "execution_millis": 11,
    "execution_start": 1663254796303,
    "source_hash": "7c0bf0f7",
    "tags": []
   },
   "outputs": [
    {
     "name": "stdout",
     "output_type": "stream",
     "text": [
      "object\n",
      "object\n",
      "object\n"
     ]
    }
   ],
   "source": [
    "print(df_enhanced_copy.tweet_id.dtype)\n",
    "print(df_predictions_copy.tweet_id.dtype)\n",
    "print(df_tweet_count_copy.tweet_id.dtype)"
   ]
  },
  {
   "cell_type": "markdown",
   "metadata": {
    "cell_id": "09ab16106ee049b592a4b1b44bd2317a",
    "deepnote_cell_type": "markdown",
    "tags": []
   },
   "source": [
    "### 7. There are some tweets that are retweets or replies and we don't need them."
   ]
  },
  {
   "cell_type": "markdown",
   "metadata": {
    "cell_id": "e1d7d4c0f64740bfa1e43bcf7e38ad4b",
    "deepnote_cell_type": "markdown",
    "tags": []
   },
   "source": [
    "#### \n",
    "Remove all tweets from `df_enhanced` that are retweets or replies. A retweet or reply is a tweet that has a row value in either `retweeted_status_id` or `in_reply_to_status_id ` respectively. We will then need to remove all `&_reply` and `retweet_*` columns."
   ]
  },
  {
   "cell_type": "markdown",
   "metadata": {
    "cell_id": "e48ddfd0ff3c4780b183d5624a388fd4",
    "deepnote_cell_type": "markdown",
    "tags": []
   },
   "source": [
    "#### Code"
   ]
  },
  {
   "cell_type": "code",
   "execution_count": null,
   "metadata": {
    "cell_id": "8719da443f3b4f09a82792ecd8949226",
    "deepnote_cell_type": "code",
    "deepnote_to_be_reexecuted": false,
    "execution_millis": 10,
    "execution_start": 1663254796305,
    "source_hash": "323cff2b",
    "tags": []
   },
   "outputs": [],
   "source": [
    "# extract columns without rows values in `retweeted_status_id` or `in_reply_to_status_id`\n",
    "df_enhanced_copy = df_enhanced_copy[\n",
    "    (df_enhanced_copy.retweeted_status_id.isna() == True) \n",
    "    & (df_enhanced_copy.in_reply_to_status_id.isna() == True)]\n",
    "\n",
    "df_enhanced_copy.drop(['in_reply_to_status_id',\n",
    "                            'in_reply_to_user_id', \n",
    "                            'retweeted_status_id',\n",
    "                            'retweeted_status_user_id',\n",
    "                            'retweeted_status_timestamp'],\n",
    "                            axis=1, inplace=True)"
   ]
  },
  {
   "cell_type": "markdown",
   "metadata": {
    "cell_id": "ee0b7cb13a4f4ea59e450e374c987b53",
    "deepnote_cell_type": "markdown",
    "tags": []
   },
   "source": [
    "#### Test"
   ]
  },
  {
   "cell_type": "code",
   "execution_count": null,
   "metadata": {
    "cell_id": "3626171e0115431a82f90be6d7f43e13",
    "deepnote_cell_type": "code",
    "deepnote_to_be_reexecuted": false,
    "execution_millis": 161,
    "execution_start": 1663254796316,
    "source_hash": "2964a3cc",
    "tags": []
   },
   "outputs": [
    {
     "name": "stdout",
     "output_type": "stream",
     "text": [
      "<class 'pandas.core.frame.DataFrame'>\n",
      "Int64Index: 2097 entries, 0 to 2355\n",
      "Data columns (total 12 columns):\n",
      " #   Column              Non-Null Count  Dtype              \n",
      "---  ------              --------------  -----              \n",
      " 0   tweet_id            2097 non-null   object             \n",
      " 1   timestamp           2097 non-null   datetime64[ns, UTC]\n",
      " 2   source              2097 non-null   object             \n",
      " 3   text                2097 non-null   object             \n",
      " 4   expanded_urls       2094 non-null   object             \n",
      " 5   rating_numerator    2097 non-null   int64              \n",
      " 6   rating_denominator  2097 non-null   int64              \n",
      " 7   name                1494 non-null   object             \n",
      " 8   doggo               2097 non-null   object             \n",
      " 9   floofer             2097 non-null   object             \n",
      " 10  pupper              2097 non-null   object             \n",
      " 11  puppo               2097 non-null   object             \n",
      "dtypes: datetime64[ns, UTC](1), int64(2), object(9)\n",
      "memory usage: 213.0+ KB\n"
     ]
    }
   ],
   "source": [
    "df_enhanced_copy.info()"
   ]
  },
  {
   "cell_type": "markdown",
   "metadata": {
    "cell_id": "394b5a94de504e90a87937779a5d3c0d",
    "deepnote_cell_type": "markdown",
    "deepnote_to_be_reexecuted": false,
    "execution_millis": 1,
    "execution_start": 1663125565112,
    "source_hash": "e7a448b7",
    "tags": []
   },
   "source": [
    "### 8. Some tweets `rating_denominator` are incorrect and contain extreme values"
   ]
  },
  {
   "cell_type": "markdown",
   "metadata": {
    "cell_id": "099738393cf942a18d776381a7165a4f",
    "deepnote_cell_type": "markdown",
    "deepnote_to_be_reexecuted": false,
    "execution_millis": 3,
    "execution_start": 1663125824511,
    "source_hash": "52682120",
    "tags": []
   },
   "source": [
    "#### Define\n",
    "Replace rows from `rating_denominator` that the value is not 10 with 10 e.g  a single instance of 0."
   ]
  },
  {
   "cell_type": "markdown",
   "metadata": {
    "cell_id": "79edb379dfff45029ce0f3e2356a329f",
    "deepnote_cell_type": "markdown",
    "deepnote_to_be_reexecuted": false,
    "execution_millis": 2,
    "execution_start": 1663125593232,
    "source_hash": "45b4876",
    "tags": []
   },
   "source": [
    "#### Code"
   ]
  },
  {
   "cell_type": "code",
   "execution_count": null,
   "metadata": {
    "cell_id": "af88e698bd464803959244f1d7ac9e12",
    "deepnote_cell_type": "code",
    "deepnote_to_be_reexecuted": false,
    "execution_millis": 0,
    "execution_start": 1663254796331,
    "source_hash": "f8f066cb",
    "tags": []
   },
   "outputs": [],
   "source": [
    "df_enhanced_copy.loc[df_enhanced_copy.rating_denominator != 10, 'rating_denominator'] = 10"
   ]
  },
  {
   "cell_type": "markdown",
   "metadata": {
    "cell_id": "4d420d25b1e7405ab4150c69f9a4e4a3",
    "deepnote_cell_type": "markdown",
    "deepnote_to_be_reexecuted": false,
    "execution_millis": 0,
    "execution_start": 1663127278088,
    "source_hash": "620acc1d",
    "tags": []
   },
   "source": [
    "#### Test"
   ]
  },
  {
   "cell_type": "code",
   "execution_count": null,
   "metadata": {
    "cell_id": "f1a9a2275ce640e4adc727558bf85ada",
    "deepnote_cell_type": "code",
    "deepnote_to_be_reexecuted": false,
    "execution_millis": 818,
    "execution_start": 1663254796332,
    "source_hash": "d801be09",
    "tags": []
   },
   "outputs": [
    {
     "data": {
      "text/plain": [
       "10    2097\n",
       "Name: rating_denominator, dtype: int64"
      ]
     },
     "execution_count": 40,
     "metadata": {},
     "output_type": "execute_result"
    }
   ],
   "source": [
    "df_enhanced_copy.rating_denominator.value_counts()"
   ]
  },
  {
   "cell_type": "markdown",
   "metadata": {
    "cell_id": "029eb7454a194144bf407664cf7b5906",
    "deepnote_cell_type": "markdown",
    "deepnote_to_be_reexecuted": false,
    "execution_millis": 1,
    "execution_start": 1663127613956,
    "source_hash": "ee7af4f",
    "tags": []
   },
   "source": [
    "### Tidying:  `doggo`, `floofer`, `pupper`, `puppo` in `df_enhanced` should be values in a single column rather than distinct column names."
   ]
  },
  {
   "cell_type": "markdown",
   "metadata": {
    "cell_id": "a2487f2ac471413a8a852b5444e03c06",
    "deepnote_cell_type": "markdown",
    "tags": []
   },
   "source": [
    "#### Define\n",
    "Melt `doggo`, `floofer`, `pupper`, and `puppo` into a single column `dog_stage` and also remove rows with value 'None'."
   ]
  },
  {
   "cell_type": "markdown",
   "metadata": {
    "cell_id": "cda5d62c65f2427db8027945a53a04a7",
    "deepnote_cell_type": "markdown",
    "tags": []
   },
   "source": [
    "#### Code"
   ]
  },
  {
   "cell_type": "code",
   "execution_count": null,
   "metadata": {
    "cell_id": "d1ccbd51373b4fed959dcf5c8bf0f609",
    "deepnote_cell_type": "code",
    "deepnote_to_be_reexecuted": false,
    "execution_millis": 72,
    "execution_start": 1663254796385,
    "source_hash": "9563ed1f",
    "tags": []
   },
   "outputs": [],
   "source": [
    "def u(row):\n",
    "    # stages = ['doggo', 'floofer', 'pupper', 'puppo']\n",
    "    # unknown = True\n",
    "\n",
    "    # for stage in stages:\n",
    "    #     if row[stage] != 'None':\n",
    "    #         unknown = False\n",
    "\n",
    "    # if unknown == True:\n",
    "    #     val = 'unknown'\n",
    "    # else:\n",
    "    #     val = 'None'\n",
    "\n",
    "    # return val\n",
    "\n",
    "    if row ['doggo'] == 'None' and row ['floofer'] == 'None' and row ['pupper'] == 'None' and row ['puppo'] == 'None':\n",
    "        val = 'unknown'\n",
    "    else:\n",
    "        val ='None'\n",
    "    return val\n",
    "\n",
    "df_enhanced_copy['unknown'] = df_enhanced_copy.apply(u, axis=1)\n",
    "\n",
    "df_enhanced_copy = pd.melt(df_enhanced_copy, id_vars=['tweet_id', 'timestamp', 'source', 'text', 'expanded_urls',\n",
    "       'rating_numerator', 'rating_denominator', 'name'], value_vars=[\"doggo\", \"floofer\", \"pupper\", \"puppo\", \"unknown\"], var_name=\"dog_stage\", value_name=\"value\")\n",
    "df_enhanced_copy = df_enhanced_copy[df_enhanced_copy['value'] != 'None']\n",
    "df_enhanced_copy = df_enhanced_copy.drop('value', axis=1)"
   ]
  },
  {
   "cell_type": "markdown",
   "metadata": {
    "cell_id": "aaabdca3e3fa443b8b3022427bf1f966",
    "deepnote_cell_type": "markdown",
    "tags": []
   },
   "source": [
    "#### Test"
   ]
  },
  {
   "cell_type": "code",
   "execution_count": null,
   "metadata": {
    "cell_id": "75c5c96833b2402996f54b5fd44deed3",
    "deepnote_cell_type": "code",
    "deepnote_to_be_reexecuted": false,
    "execution_millis": 714,
    "execution_start": 1663254796462,
    "source_hash": "8616fa63",
    "tags": []
   },
   "outputs": [
    {
     "data": {
      "text/plain": [
       "unknown    1761\n",
       "pupper      230\n",
       "doggo        83\n",
       "puppo        24\n",
       "floofer      10\n",
       "Name: dog_stage, dtype: int64"
      ]
     },
     "execution_count": 42,
     "metadata": {},
     "output_type": "execute_result"
    }
   ],
   "source": [
    "df_enhanced_copy.dog_stage.value_counts()"
   ]
  },
  {
   "cell_type": "markdown",
   "metadata": {
    "cell_id": "9a1675d128c146d78f19ca0b4facc9f3",
    "deepnote_cell_type": "markdown",
    "deepnote_to_be_reexecuted": false,
    "execution_millis": 0,
    "execution_start": 1663158854260,
    "source_hash": "ee802f99",
    "tags": []
   },
   "source": [
    "### Tidying: `df_tweet_count` shouldn't be alone but should be merged with `df_enhanced`"
   ]
  },
  {
   "cell_type": "markdown",
   "metadata": {
    "cell_id": "375b9d2964e1467189611d69258a90a0",
    "deepnote_cell_type": "markdown",
    "tags": []
   },
   "source": [
    "#### Define\n",
    "Merge `df_enhanced_copy` and `df_tweet_count_copy` on tweet_id column. And drop `created_at` column."
   ]
  },
  {
   "cell_type": "code",
   "execution_count": null,
   "metadata": {
    "cell_id": "e708d08197434f1ca2052a6b9c1bbe5b",
    "deepnote_cell_type": "code",
    "deepnote_to_be_reexecuted": false,
    "execution_millis": 23,
    "execution_start": 1663254796467,
    "source_hash": "23229583",
    "tags": []
   },
   "outputs": [],
   "source": [
    "df_cleaned = pd.merge(df_enhanced_copy, df_tweet_count_copy, how='left', on='tweet_id')\n",
    "df_cleaned.drop(['created_at'], axis=True, inplace=True)"
   ]
  },
  {
   "cell_type": "markdown",
   "metadata": {
    "cell_id": "76b7ca3753344360b1d15712c35b84f8",
    "deepnote_cell_type": "markdown",
    "tags": []
   },
   "source": [
    "#### Test"
   ]
  },
  {
   "cell_type": "code",
   "execution_count": null,
   "metadata": {
    "cell_id": "8ed249c31e0b4efdbdb16ecf90e4796f",
    "deepnote_cell_type": "code",
    "deepnote_to_be_reexecuted": false,
    "execution_millis": 718,
    "execution_start": 1663254796493,
    "source_hash": "dcea1c60",
    "tags": []
   },
   "outputs": [
    {
     "name": "stdout",
     "output_type": "stream",
     "text": [
      "<class 'pandas.core.frame.DataFrame'>\n",
      "Int64Index: 2108 entries, 0 to 2107\n",
      "Data columns (total 11 columns):\n",
      " #   Column              Non-Null Count  Dtype              \n",
      "---  ------              --------------  -----              \n",
      " 0   tweet_id            2108 non-null   object             \n",
      " 1   timestamp           2108 non-null   datetime64[ns, UTC]\n",
      " 2   source              2108 non-null   object             \n",
      " 3   text                2108 non-null   object             \n",
      " 4   expanded_urls       2105 non-null   object             \n",
      " 5   rating_numerator    2108 non-null   int64              \n",
      " 6   rating_denominator  2108 non-null   int64              \n",
      " 7   name                1499 non-null   object             \n",
      " 8   dog_stage           2108 non-null   object             \n",
      " 9   retweet_count       2100 non-null   float64            \n",
      " 10  favorite_count      2100 non-null   float64            \n",
      "dtypes: datetime64[ns, UTC](1), float64(2), int64(2), object(6)\n",
      "memory usage: 197.6+ KB\n"
     ]
    }
   ],
   "source": [
    "df_cleaned.info()"
   ]
  },
  {
   "cell_type": "markdown",
   "metadata": {
    "cell_id": "4b038effd0674fd6b3b71969a28fcee0",
    "deepnote_cell_type": "markdown"
   },
   "source": [
    "## Storing Data\n",
    "Save gathered, assessed, and cleaned master dataset to a CSV file named \"twitter_archive_master.csv\"."
   ]
  },
  {
   "cell_type": "code",
   "execution_count": null,
   "metadata": {
    "cell_id": "77bca93a885048d7b19ce981593f5b8d",
    "deepnote_cell_type": "code",
    "deepnote_to_be_reexecuted": false,
    "execution_millis": 46,
    "execution_start": 1663254796505,
    "source_hash": "ad063bc4"
   },
   "outputs": [],
   "source": [
    "df_twitter_master = df_cleaned.copy()\n",
    "df_twitter_master.to_csv('twitter_archive_master.csv', index=False)"
   ]
  },
  {
   "cell_type": "markdown",
   "metadata": {
    "cell_id": "be4e247578e5469b85f42d1e61f6913c",
    "deepnote_cell_type": "markdown"
   },
   "source": [
    "## Analyzing and Visualizing Data\n",
    "In this section, analyze and visualize your wrangled data. You must produce at least **three (3) insights and one (1) visualization.**"
   ]
  },
  {
   "cell_type": "code",
   "execution_count": null,
   "metadata": {
    "cell_id": "a9c76142dadf46e6aaa235f31fc01782",
    "deepnote_cell_type": "code",
    "deepnote_to_be_reexecuted": false,
    "execution_millis": 2527,
    "execution_start": 1663254796553,
    "source_hash": "25ca0e4e"
   },
   "outputs": [],
   "source": [
    "import matplotlib.pyplot as plt\n",
    "import seaborn as sns\n",
    "\n",
    "%matplotlib inline\n",
    "sns.set()"
   ]
  },
  {
   "cell_type": "markdown",
   "metadata": {
    "cell_id": "c1e22ace378c408c8cd0bb1dcd1ebab2",
    "deepnote_cell_type": "markdown"
   },
   "source": [
    "### Insights:\n",
    "1. Are likes and retweeets correlated?\n",
    "\n",
    "2. Which are the most common dog stage?\n",
    "\n",
    "3. Which are the most common dog breed?"
   ]
  },
  {
   "cell_type": "markdown",
   "metadata": {
    "cell_id": "b787cd7e528a4c65b4946819beac2287",
    "collapsed": true,
    "deepnote_cell_type": "markdown"
   },
   "source": [
    "### Visualization"
   ]
  },
  {
   "cell_type": "code",
   "execution_count": null,
   "metadata": {
    "cell_id": "41877959a7c14ae38dec59800dd20de3",
    "deepnote_cell_type": "code",
    "deepnote_to_be_reexecuted": false,
    "execution_millis": 25,
    "execution_start": 1663254799081,
    "source_hash": "e2862c39",
    "tags": []
   },
   "outputs": [
    {
     "data": {
      "application/vnd.deepnote.dataframe.v3+json": {
       "column_count": 2,
       "columns": [
        {
         "dtype": "float64",
         "name": "retweet_count",
         "stats": {
          "histogram": [
           {
            "bin_end": 0.9339436629651265,
            "bin_start": 0.9266040699612517,
            "count": 1
           },
           {
            "bin_end": 0.9412832559690013,
            "bin_start": 0.9339436629651265,
            "count": 0
           },
           {
            "bin_end": 0.9486228489728762,
            "bin_start": 0.9412832559690013,
            "count": 0
           },
           {
            "bin_end": 0.955962441976751,
            "bin_start": 0.9486228489728762,
            "count": 0
           },
           {
            "bin_end": 0.9633020349806258,
            "bin_start": 0.955962441976751,
            "count": 0
           },
           {
            "bin_end": 0.9706416279845007,
            "bin_start": 0.9633020349806258,
            "count": 0
           },
           {
            "bin_end": 0.9779812209883755,
            "bin_start": 0.9706416279845007,
            "count": 0
           },
           {
            "bin_end": 0.9853208139922504,
            "bin_start": 0.9779812209883755,
            "count": 0
           },
           {
            "bin_end": 0.9926604069961251,
            "bin_start": 0.9853208139922504,
            "count": 0
           },
           {
            "bin_end": 1,
            "bin_start": 0.9926604069961251,
            "count": 1
           }
          ],
          "max": "1.0",
          "min": "0.9266040699612517",
          "nan_count": 0,
          "unique_count": 2
         }
        },
        {
         "dtype": "float64",
         "name": "favorite_count",
         "stats": {
          "histogram": [
           {
            "bin_end": 0.9339436629651265,
            "bin_start": 0.9266040699612517,
            "count": 1
           },
           {
            "bin_end": 0.9412832559690013,
            "bin_start": 0.9339436629651265,
            "count": 0
           },
           {
            "bin_end": 0.9486228489728762,
            "bin_start": 0.9412832559690013,
            "count": 0
           },
           {
            "bin_end": 0.955962441976751,
            "bin_start": 0.9486228489728762,
            "count": 0
           },
           {
            "bin_end": 0.9633020349806258,
            "bin_start": 0.955962441976751,
            "count": 0
           },
           {
            "bin_end": 0.9706416279845007,
            "bin_start": 0.9633020349806258,
            "count": 0
           },
           {
            "bin_end": 0.9779812209883755,
            "bin_start": 0.9706416279845007,
            "count": 0
           },
           {
            "bin_end": 0.9853208139922504,
            "bin_start": 0.9779812209883755,
            "count": 0
           },
           {
            "bin_end": 0.9926604069961251,
            "bin_start": 0.9853208139922504,
            "count": 0
           },
           {
            "bin_end": 1,
            "bin_start": 0.9926604069961251,
            "count": 1
           }
          ],
          "max": "1.0",
          "min": "0.9266040699612517",
          "nan_count": 0,
          "unique_count": 2
         }
        },
        {
         "dtype": "object",
         "name": "_deepnote_index_column"
        }
       ],
       "row_count": 2,
       "rows": [
        {
         "_deepnote_index_column": "retweet_count",
         "favorite_count": "0.9266040699612517",
         "retweet_count": "1.0"
        },
        {
         "_deepnote_index_column": "favorite_count",
         "favorite_count": "1.0",
         "retweet_count": "0.9266040699612517"
        }
       ]
      },
      "text/html": [
       "<div>\n",
       "<style scoped>\n",
       "    .dataframe tbody tr th:only-of-type {\n",
       "        vertical-align: middle;\n",
       "    }\n",
       "\n",
       "    .dataframe tbody tr th {\n",
       "        vertical-align: top;\n",
       "    }\n",
       "\n",
       "    .dataframe thead th {\n",
       "        text-align: right;\n",
       "    }\n",
       "</style>\n",
       "<table border=\"1\" class=\"dataframe\">\n",
       "  <thead>\n",
       "    <tr style=\"text-align: right;\">\n",
       "      <th></th>\n",
       "      <th>retweet_count</th>\n",
       "      <th>favorite_count</th>\n",
       "    </tr>\n",
       "  </thead>\n",
       "  <tbody>\n",
       "    <tr>\n",
       "      <th>retweet_count</th>\n",
       "      <td>1.000000</td>\n",
       "      <td>0.926604</td>\n",
       "    </tr>\n",
       "    <tr>\n",
       "      <th>favorite_count</th>\n",
       "      <td>0.926604</td>\n",
       "      <td>1.000000</td>\n",
       "    </tr>\n",
       "  </tbody>\n",
       "</table>\n",
       "</div>"
      ],
      "text/plain": [
       "                retweet_count  favorite_count\n",
       "retweet_count        1.000000        0.926604\n",
       "favorite_count       0.926604        1.000000"
      ]
     },
     "execution_count": 48,
     "metadata": {},
     "output_type": "execute_result"
    }
   ],
   "source": [
    "correlations = df_twitter_master[ ['retweet_count', 'favorite_count'] ].corr()\n",
    "correlations"
   ]
  },
  {
   "cell_type": "code",
   "execution_count": null,
   "metadata": {
    "cell_id": "b4f5ef7ff5004f9ca47648999bca5fea",
    "deepnote_cell_type": "code",
    "deepnote_to_be_reexecuted": false,
    "execution_millis": 1087,
    "execution_start": 1663254799082,
    "source_hash": "6b3cb5f4",
    "tags": []
   },
   "outputs": [
    {
     "data": {
      "image/png": "[encoded data removed]",
      "text/plain": [
       "<Figure size 640x480 with 2 Axes>"
      ]
     },
     "metadata": {
      "image/png": {
       "height": 424,
       "width": 536
      }
     },
     "output_type": "display_data"
    }
   ],
   "source": [
    "sns.heatmap(correlations)\n",
    "plt.show()"
   ]
  },
  {
   "cell_type": "markdown",
   "metadata": {
    "cell_id": "9b04570f762a4534a26798e3ffe46914",
    "deepnote_cell_type": "markdown",
    "tags": []
   },
   "source": [
    "**Remark:** Likes and Retweets are highly posivitvely correlated."
   ]
  },
  {
   "cell_type": "code",
   "execution_count": null,
   "metadata": {
    "cell_id": "d16eacf6df764d56b8a50739efc1c814",
    "deepnote_cell_type": "code",
    "deepnote_to_be_reexecuted": false,
    "execution_millis": 261,
    "execution_start": 1663260962575,
    "source_hash": "e9d952c8",
    "tags": []
   },
   "outputs": [
    {
     "data": {
      "text/plain": [
       "<AxesSubplot:xlabel='count', ylabel='dog_stage'>"
      ]
     },
     "execution_count": 150,
     "metadata": {},
     "output_type": "execute_result"
    },
    {
     "data": {
      "image/png": "[encoded data removed]",
      "text/plain": [
       "<Figure size 640x480 with 1 Axes>"
      ]
     },
     "metadata": {
      "image/png": {
       "height": 441,
       "width": 607
      }
     },
     "output_type": "display_data"
    }
   ],
   "source": [
    "df_stages = df_twitter_master[df_twitter_master.dog_stage != 'unknown']\n",
    "df_stages_count = (\n",
    "    df_stages.dog_stage\n",
    "                    .value_counts()\n",
    "                    .head()\n",
    "                    .to_frame()\n",
    "                    .reset_index()\n",
    "                    .rename(columns={'index': 'dog_stage', 'dog_stage': 'count'})\n",
    ")\n",
    "# bar plot\n",
    "sns.barplot(data=df_stages_count, x='count', y='dog_stage')"
   ]
  },
  {
   "cell_type": "markdown",
   "metadata": {
    "cell_id": "28ad7d825f864868adb961df9a467fe3",
    "deepnote_cell_type": "markdown",
    "deepnote_to_be_reexecuted": false,
    "execution_millis": 241,
    "execution_start": 1663261943100,
    "source_hash": "7b98f06b",
    "tags": []
   },
   "source": [
    "**Remark:** Most dog rated are in pupper stage."
   ]
  },
  {
   "cell_type": "code",
   "execution_count": null,
   "metadata": {
    "allow_embed": false,
    "cell_id": "f311c781a03a406cac935e3c9c2606ad",
    "deepnote_cell_type": "code",
    "deepnote_to_be_reexecuted": false,
    "execution_millis": 369,
    "execution_start": 1663261566006,
    "source_hash": "a71c6af6",
    "tags": []
   },
   "outputs": [
    {
     "data": {
      "text/plain": [
       "<AxesSubplot:xlabel='average', ylabel='dog_stage'>"
      ]
     },
     "execution_count": 163,
     "metadata": {},
     "output_type": "execute_result"
    },
    {
     "data": {
      "image/png": "[encoded data removed]",
      "text/plain": [
       "<Figure size 640x480 with 1 Axes>"
      ]
     },
     "metadata": {
      "image/png": {
       "height": 441,
       "width": 607
      }
     },
     "output_type": "display_data"
    }
   ],
   "source": [
    "# get the dog_stages that were recongnixed\n",
    "# iterate the dog stages\n",
    "# get average likes for each stage\n",
    "# plot the stages in a bar plot\n",
    "df_stages_likes = df_stages_count.rename(columns={'count': 'average'})\n",
    "for index, row in df_stages_likes.iterrows():\n",
    "    df_stage = df_stages[ df_stages['dog_stage'] ==  row.dog_stage ]\n",
    "    df_stages_likes['average'][index] = df_stage['favorite_count'].mean()\n",
    "\n",
    "# bar plot\n",
    "sns.barplot(data=df_stages_likes, x='average', y='dog_stage')"
   ]
  },
  {
   "cell_type": "markdown",
   "metadata": {
    "cell_id": "d250e3c74cd44ecca98dc0c169cb0b82",
    "deepnote_cell_type": "markdown",
    "tags": []
   },
   "source": [
    "**Remark:** Puppo is the most liked dog in terms of tweet counts.\n",
    "\n",
    "PS: If we sum the total likes by using `sum()` instead of `.mean()`, then pupper stage is the most liked; and a reasons is because it recieved more ratings. However, to have fair weight, we considered each stage rate count. "
   ]
  },
  {
   "cell_type": "markdown",
   "metadata": {
    "created_in_deepnote_cell": true,
    "deepnote_cell_type": "markdown",
    "tags": []
   },
   "source": [
    "<a style='text-decoration:none;line-height:16px;display:flex;color:#5B5B62;padding:10px;justify-content:end;' href='https://deepnote.com?utm_source=created-in-deepnote-cell&projectId=3886c589-8536-4a5a-8bad-108d7f06e72c' target=\"_blank\">\n",
    "<img alt='Created in deepnote.com' style='display:inline;max-height:16px;margin:0px;margin-right:7.5px;' src='data:image/svg+xml;base64,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' > </img>\n",
    "Created in <span style='font-weight:600;margin-left:4px;'>Deepnote</span></a>"
   ]
  }
 ],
 "metadata": {
  "deepnote": {},
  "deepnote_execution_queue": [],
  "deepnote_notebook_id": "044ca4c68fb34d4f881b5fb499427123",
  "extensions": {
   "jupyter_dashboards": {
    "activeView": "report_default",
    "version": 1,
    "views": {
     "grid_default": {
      "cellMargin": 10,
      "defaultCellHeight": 20,
      "maxColumns": 12,
      "name": "grid",
      "type": "grid"
     },
     "report_default": {
      "name": "report",
      "type": "report"
     }
    }
   }
  },
  "kernelspec": {
   "display_name": "Python 3 (ipykernel)",
   "language": "python",
   "name": "python3"
  },
  "language_info": {
   "codemirror_mode": {
    "name": "ipython",
    "version": 3
   },
   "file_extension": ".py",
   "mimetype": "text/x-python",
   "name": "python",
   "nbconvert_exporter": "python",
   "pygments_lexer": "ipython3",
   "version": "3.9.12"
  }
 },
 "nbformat": 4,
 "nbformat_minor": 1
}
